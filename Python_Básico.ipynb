{
  "nbformat": 4,
  "nbformat_minor": 0,
  "metadata": {
    "colab": {
      "provenance": [],
      "collapsed_sections": [
        "E_APDX_8EAiN",
        "EJcILbrKDBn4",
        "p33988tsEAiN",
        "-oD55sx5Kbdh",
        "ECKJQMzruV63",
        "BM7R8Gg7EAiR",
        "eoxi4G_1IN51",
        "7Vl56zbCIQ9P",
        "iJ7Fi-aHEAiP",
        "GJ1aZ6WAY5GH",
        "g-FimLrcuNpk",
        "u_pr4qrwQT0t",
        "6Dbr1629ZMg7",
        "AxsvP7PyEAiS",
        "EM6X1aCbEAiU",
        "KFDz2wBKEAiW",
        "N7g_N6L0EAiW",
        "ZSh8ZOb6EAiZ",
        "pZzLHawUNVGV",
        "8mW8U86zNXWd",
        "Crok5F-UEAiY",
        "4yqj3QhHuGZR",
        "hU3Ow-RkxOQW",
        "-ZQHO-ovxMMO",
        "_HYBGUZmxTGH",
        "l-XbRoUyPoJg",
        "sveZz0LZFH-A",
        "sA6dE23QFypI",
        "ytmbmckxy9KF",
        "b6YhcTgpj8J_",
        "F9LSCfy782jt",
        "IEda-4v97adw",
        "xvwklCrn58es",
        "NwNOlpMi-w1C"
      ],
      "include_colab_link": true
    },
    "kernelspec": {
      "name": "python3",
      "display_name": "Python 3"
    },
    "language_info": {
      "name": "python"
    }
  },
  "cells": [
    {
      "cell_type": "markdown",
      "metadata": {
        "id": "view-in-github",
        "colab_type": "text"
      },
      "source": [
        "<a href=\"https://colab.research.google.com/github/nic4cio/cursos-LaCCAN/blob/main/Python_B%C3%A1sico.ipynb\" target=\"_parent\"><img src=\"https://colab.research.google.com/assets/colab-badge.svg\" alt=\"Open In Colab\"/></a>"
      ]
    },
    {
      "cell_type": "markdown",
      "source": [
        "## **Introdução ao python**\n",
        "Link da apresentação: https://www.canva.com/design/DAFaHA7pfSI/ixJx1DveA7EniAygqPV52Q/view?utm_content=DAFaHA7pfSI&utm_campaign=designshare&utm_medium=link2&utm_source=sharebutton  \n",
        "Link do colab original: https://colab.research.google.com/drive/1d8pvLwn6OraxD9AsB9IPcxVlM6BXJRUY?usp=sharing"
      ],
      "metadata": {
        "id": "I1HmsURxGdn_"
      }
    },
    {
      "cell_type": "markdown",
      "source": [
        "## Base de Python"
      ],
      "metadata": {
        "id": "5A3S-NZ0EAhu"
      }
    },
    {
      "cell_type": "markdown",
      "source": [
        "### Olá mundo"
      ],
      "metadata": {
        "id": "pXdWh2gBEAiI"
      }
    },
    {
      "cell_type": "markdown",
      "source": [
        "Digite no campo abaixo:\n",
        "```\n",
        "print(\"Olá, mundo!\")\n",
        "```\n",
        "\n"
      ],
      "metadata": {
        "id": "S7bmO_tvh7bq"
      }
    },
    {
      "cell_type": "code",
      "source": [],
      "metadata": {
        "id": "Ko3TY-wIXy36"
      },
      "execution_count": null,
      "outputs": []
    },
    {
      "cell_type": "markdown",
      "source": [
        "### Comentários"
      ],
      "metadata": {
        "id": "e1kCjBlMEAiM"
      }
    },
    {
      "cell_type": "code",
      "source": [
        "# Esta linha é um comentário\n",
        "\n",
        "# Comentários são blocos de código que\n",
        "# não são executados pelo computador\n",
        "\n",
        "print('Esta linha de código será executada!')\n",
        "\n",
        "#print('Esta linha de código não será executada')"
      ],
      "metadata": {
        "id": "KGEIEAoTEAiM"
      },
      "execution_count": null,
      "outputs": []
    },
    {
      "cell_type": "code",
      "source": [
        "\"\"\"\n",
        "Esse é um comentário de multiplas linhas que na realidade é uma docstring ou uma string multilinha\n",
        "É util para documentar código mas a informação é processada e pode ser armazenada em uma variável\n",
        "\"\"\""
      ],
      "metadata": {
        "id": "Gu-R2u2g0tDk"
      },
      "execution_count": null,
      "outputs": []
    },
    {
      "cell_type": "markdown",
      "source": [
        "### Variáveis e tipagem"
      ],
      "metadata": {
        "id": "E_APDX_8EAiN"
      }
    },
    {
      "cell_type": "markdown",
      "source": [
        "#### Declarando variáveis\n",
        "Python é uma linguagem de tipagem dinâmica    \n",
        "E não tem uma palavra reservada para associar valores a variáveis como o ***var*** e ***let*** do java-script  \n",
        "Apenas colocando o nome da variável igualdade e o valor já basta:\n",
        "````py\n",
        "numero = 100 #variável do tipo int\n",
        "````"
      ],
      "metadata": {
        "id": "EJcILbrKDBn4"
      }
    },
    {
      "cell_type": "code",
      "source": [],
      "metadata": {
        "id": "xtPZLyhPjtFP"
      },
      "execution_count": null,
      "outputs": []
    },
    {
      "cell_type": "markdown",
      "source": [
        "#### Tipos de variáveis unitárias\n",
        "Apezar de não precisarmos escolher o tipo da variável ao declarar é necessário termos conhecimento dos tipos unitários, e são eles:\n",
        "* String(str)\n",
        "* inteiro(int)\n",
        "* complexo(complex)\n",
        "* Booleano(bool)\n",
        "\n"
      ],
      "metadata": {
        "id": "p33988tsEAiN"
      }
    },
    {
      "cell_type": "code",
      "source": [
        "# Tipo String (str)\n",
        "texto = 'bolo de chocolate' # OBS: pode ser declarada com '' ou \"\"\n",
        "\n",
        "# Tipo Inteiro (int)\n",
        "numero_inteiro = 1\n",
        "\n",
        "# Tipo decimal (float)\n",
        "numero_real = 1.1 # Adiciona casas decimais e é discernido do inteiro pelo .\n",
        "\n",
        "# Tipo Booleano\n",
        "booleano = True # pode ser True ou False"
      ],
      "metadata": {
        "id": "xFaaPYxmEAiO"
      },
      "execution_count": null,
      "outputs": []
    },
    {
      "cell_type": "markdown",
      "source": [
        "##### Checando o tipo da variável:"
      ],
      "metadata": {
        "id": "-oD55sx5Kbdh"
      }
    },
    {
      "cell_type": "code",
      "source": [
        "type(texto)"
      ],
      "metadata": {
        "colab": {
          "base_uri": "https://localhost:8080/"
        },
        "id": "jHwL2NxSJyLB",
        "outputId": "7283f4fd-7953-4790-ee8f-934185a9c1cf"
      },
      "execution_count": null,
      "outputs": [
        {
          "output_type": "execute_result",
          "data": {
            "text/plain": [
              "str"
            ]
          },
          "metadata": {},
          "execution_count": 9
        }
      ]
    },
    {
      "cell_type": "markdown",
      "source": [
        "##### Mudando o conteúdo da variável e seu tipo"
      ],
      "metadata": {
        "id": "ECKJQMzruV63"
      }
    },
    {
      "cell_type": "code",
      "source": [
        "valor = 'val'\n",
        "print(valor)\n",
        "print(type(valor))\n",
        "# modificando o valor pra inteiro\n",
        "valor = 10\n",
        "print(valor)\n",
        "print(type(valor))\n",
        "\n",
        "# Abaixo nós fazemos um castin não modificando o valor da string mas sim seu tipo \n",
        "print(str(valor))\n",
        "print(type(str(valor)))"
      ],
      "metadata": {
        "colab": {
          "base_uri": "https://localhost:8080/"
        },
        "id": "CCqswIXWucPF",
        "outputId": "6c40a2e5-7ee2-4bdb-8d53-1ff95dd36c50"
      },
      "execution_count": null,
      "outputs": [
        {
          "output_type": "stream",
          "name": "stdout",
          "text": [
            "val\n",
            "<class 'str'>\n",
            "10\n",
            "<class 'int'>\n",
            "10\n",
            "<class 'str'>\n"
          ]
        }
      ]
    },
    {
      "cell_type": "markdown",
      "source": [
        "O que acontece se tentarmos converter uma string não numérica em um inteiro?"
      ],
      "metadata": {
        "id": "hobxSZ3A1_0b"
      }
    },
    {
      "cell_type": "code",
      "source": [],
      "metadata": {
        "id": "nofRT53h1_D8"
      },
      "execution_count": null,
      "outputs": []
    },
    {
      "cell_type": "markdown",
      "source": [
        "#### Output simples de variáveis"
      ],
      "metadata": {
        "id": "BM7R8Gg7EAiR"
      }
    },
    {
      "cell_type": "markdown",
      "source": [
        "##### Print simples"
      ],
      "metadata": {
        "id": "eoxi4G_1IN51"
      }
    },
    {
      "cell_type": "code",
      "source": [
        "# mostra o que é contido na variável nome\n",
        "nome = \"Danilo\"\n",
        "print(nome)\n",
        "\n",
        "# mostra uma string(str) que seu conteúdo é nome\n",
        "print(\"nome\")"
      ],
      "metadata": {
        "id": "3jHWOjZ3EAiR"
      },
      "execution_count": null,
      "outputs": []
    },
    {
      "cell_type": "markdown",
      "source": [
        "##### Interpolação de string"
      ],
      "metadata": {
        "id": "7Vl56zbCIQ9P"
      }
    },
    {
      "cell_type": "code",
      "source": [
        "print(f'olá {nome}, bem vindo')"
      ],
      "metadata": {
        "id": "CWulFaq6IQaZ"
      },
      "execution_count": null,
      "outputs": []
    },
    {
      "cell_type": "markdown",
      "source": [
        "#### Operações com variáveis unitárias\n",
        "É possível realizar diversos tipos de operações em Python por exemplo soma, adição, multiplicação, divisão, etc"
      ],
      "metadata": {
        "id": "iJ7Fi-aHEAiP"
      }
    },
    {
      "cell_type": "markdown",
      "source": [
        "##### Soma"
      ],
      "metadata": {
        "id": "GJ1aZ6WAY5GH"
      }
    },
    {
      "cell_type": "code",
      "source": [
        "# Declaração das variáveis inteiras a e b\n",
        "a = 1\n",
        "b = 2\n",
        "print('A soma de a e b é igual a', a+b)"
      ],
      "metadata": {
        "id": "sohrx7begK8m"
      },
      "execution_count": null,
      "outputs": []
    },
    {
      "cell_type": "code",
      "source": [
        "# Declaração de uma variável do tipo decimal\n",
        "a = 1.5\n",
        "\n",
        "# É possível atribuir o valor de uma variável\n",
        "# À outra do mesmo tipo\n",
        "b = a\n",
        "print('A soma de a e b é igual a', a+b)\n"
      ],
      "metadata": {
        "id": "Y5kqZVB5EAiP"
      },
      "execution_count": null,
      "outputs": []
    },
    {
      "cell_type": "code",
      "source": [
        "# É possível concatenar string\n",
        "# Utilizando o operador de soma\n",
        "palavra1 = 'Fim de semana é dia de'\n",
        "palavra2 = '?????'\n",
        "\n",
        "print(palavra1+palavra2) # Soma de duas Strings"
      ],
      "metadata": {
        "id": "UWUiHPf1eedF"
      },
      "execution_count": null,
      "outputs": []
    },
    {
      "cell_type": "markdown",
      "source": [
        "###### O que você acha que acontece se você somar uma inteiro com uma string?"
      ],
      "metadata": {
        "id": "g-FimLrcuNpk"
      }
    },
    {
      "cell_type": "code",
      "source": [],
      "metadata": {
        "id": "MwcPWVy6tvru"
      },
      "execution_count": null,
      "outputs": []
    },
    {
      "cell_type": "markdown",
      "source": [
        "###### Observações"
      ],
      "metadata": {
        "id": "u_pr4qrwQT0t"
      }
    },
    {
      "cell_type": "code",
      "source": [
        "x = 1\n",
        "y = x\n",
        "\n",
        "y += 4\n",
        "\n",
        "# qual será o valor de x?\n",
        "x"
      ],
      "metadata": {
        "id": "cWhTpL0IQXZ2",
        "colab": {
          "base_uri": "https://localhost:8080/"
        },
        "outputId": "2062fcee-9f69-4f49-eebb-481614e92f58"
      },
      "execution_count": null,
      "outputs": [
        {
          "output_type": "execute_result",
          "data": {
            "text/plain": [
              "1"
            ]
          },
          "metadata": {},
          "execution_count": 37
        }
      ]
    },
    {
      "cell_type": "markdown",
      "source": [
        "##### Multiplicação"
      ],
      "metadata": {
        "id": "6Dbr1629ZMg7"
      }
    },
    {
      "cell_type": "code",
      "source": [
        "numero = 1\n",
        "print(numero*5)"
      ],
      "metadata": {
        "id": "ut7THlKdZW8w"
      },
      "execution_count": null,
      "outputs": []
    },
    {
      "cell_type": "markdown",
      "source": [
        "###### O que você acha que acontece se mutiplicarmos uma string?"
      ],
      "metadata": {
        "id": "Ljd6XWS03YBV"
      }
    },
    {
      "cell_type": "code",
      "source": [],
      "metadata": {
        "id": "PYQTzNcVZO4Q"
      },
      "execution_count": null,
      "outputs": []
    },
    {
      "cell_type": "markdown",
      "source": [
        "##### divisão"
      ],
      "metadata": {
        "id": "p5cSIZSOrb4v"
      }
    },
    {
      "cell_type": "code",
      "source": [
        "numero = 10\n",
        "print(numero/5)"
      ],
      "metadata": {
        "id": "F4UMOuIVtkRi"
      },
      "execution_count": null,
      "outputs": []
    },
    {
      "cell_type": "markdown",
      "source": [
        "O que você acha que acontece se dividirmos uma string?"
      ],
      "metadata": {
        "id": "hUqz0psv3LfY"
      }
    },
    {
      "cell_type": "code",
      "source": [],
      "metadata": {
        "id": "a7oOqKfmtoGN"
      },
      "execution_count": null,
      "outputs": []
    },
    {
      "cell_type": "markdown",
      "source": [
        "#### Entrada simples de variáveis\n"
      ],
      "metadata": {
        "id": "AxsvP7PyEAiS"
      }
    },
    {
      "cell_type": "code",
      "source": [
        "# É possível receber uma informação de uma caixa de texto\n",
        "# para isso utilizamos a função input()\n",
        "entrada = input()\n",
        "\n",
        "print(entrada)"
      ],
      "metadata": {
        "id": "_A2CN4mREAiT"
      },
      "execution_count": null,
      "outputs": []
    },
    {
      "cell_type": "code",
      "source": [
        "# Nós também podemos unir entradas\n",
        "entrada1 = input() #lê uma string\n",
        "entrada2 = input() #lê outra string\n",
        "\n",
        "# O que acontece quando somamos strings?\n",
        "print(entrada1+entrada2)"
      ],
      "metadata": {
        "id": "54XacRKBEAiT"
      },
      "execution_count": null,
      "outputs": []
    },
    {
      "cell_type": "code",
      "source": [
        "# Para somarmos numerais(int(inteiros) ou float(reais))\n",
        "# Precisamos converter a entrada para inteiro\n",
        "# Para fazermos isso usamos a função com o nome do tipo de variável\n",
        "\n",
        "entrada1 = input()\n",
        "entrada1 = int(entrada1)\n",
        "\n",
        "#ou converter diretamente\n",
        "entrada2 = int(input())\n",
        "\n",
        "print(entrada1 + entrada2)"
      ],
      "metadata": {
        "id": "kc5zpP6SbWHL"
      },
      "execution_count": null,
      "outputs": []
    },
    {
      "cell_type": "markdown",
      "source": [
        "### Condicionais"
      ],
      "metadata": {
        "id": "EM6X1aCbEAiU"
      }
    },
    {
      "cell_type": "code",
      "source": [
        "#Executa algo se uma condição for verdadeira\n",
        "condicao = True\n",
        "\n",
        "if(condicao): # Se algo que estiver entre os parenteses for verdade a proxima linha é executada\n",
        "  print(\"A linha é executada\")\n",
        "\n",
        "condicao2 = False\n",
        "\n",
        "if(condicao2):#Se não for a linha não é executada\n",
        "  print(\"A linha não é executada\")"
      ],
      "metadata": {
        "id": "OinuNffbEAiV"
      },
      "execution_count": null,
      "outputs": []
    },
    {
      "cell_type": "markdown",
      "source": [
        "**Exemplo**"
      ],
      "metadata": {
        "id": "8mjDDlZhidgU"
      }
    },
    {
      "cell_type": "code",
      "source": [
        "faz_aniversario_hoje = False\n",
        "\n",
        "if(faz_aniversario_hoje):\n",
        "  print(\"parabéns\")"
      ],
      "metadata": {
        "id": "RpTNEcnYEAiW"
      },
      "execution_count": null,
      "outputs": []
    },
    {
      "cell_type": "markdown",
      "source": [
        "###estrutura completa do if\n",
        "\n",
        "\n",
        "```\n",
        "if():\n",
        "\n",
        "elif():\n",
        "    \n",
        "else:\n",
        "```\n",
        "\n"
      ],
      "metadata": {
        "id": "jxhJjwaqEAiV"
      }
    },
    {
      "cell_type": "markdown",
      "source": [
        "### Expressões lógicas"
      ],
      "metadata": {
        "id": "KFDz2wBKEAiW"
      }
    },
    {
      "cell_type": "code",
      "source": [
        "# As expressões lógicas servem para tomarmos decisões mais complexas\n",
        "\n",
        "x = int(input())\n",
        "\n",
        "if(1 == x):\n",
        "  print('x e igual a 1')\n",
        "elif(x >= 1):\n",
        "  print('x é maior que 1')\n",
        "elif(x != 1):\n",
        "  print('x é diferente de 1')\n",
        "else:\n",
        "  print(\"x = \", x)"
      ],
      "metadata": {
        "id": "mkg0we35EAiW"
      },
      "execution_count": null,
      "outputs": []
    },
    {
      "cell_type": "markdown",
      "source": [
        "### Exemplos"
      ],
      "metadata": {
        "id": "N7g_N6L0EAiW"
      }
    },
    {
      "cell_type": "code",
      "source": [
        "#Recebe a idade que você escrever\n",
        "print(\"Qual é a sua idade?\")\n",
        "idade = int(input())\n",
        "\n",
        "if(idade <= 19):\n",
        "  print(\"você é Jovem\")\n",
        "elif((idade > 19) and (idade < 60)):\n",
        "  print(\"você é Adulto\")\n",
        "elif(idade >= 60):\n",
        "  print(\"você é Idoso\")"
      ],
      "metadata": {
        "id": "pNo3_tC8EAiX"
      },
      "execution_count": null,
      "outputs": []
    },
    {
      "cell_type": "markdown",
      "source": [
        "### Repetições(Loops)"
      ],
      "metadata": {
        "id": "ZSh8ZOb6EAiZ"
      }
    },
    {
      "cell_type": "markdown",
      "source": [
        "#### while\n",
        "````\n",
        "while(condição de parada):\n",
        "  #Seu código identado\n",
        "````"
      ],
      "metadata": {
        "id": "pZzLHawUNVGV"
      }
    },
    {
      "cell_type": "code",
      "source": [
        "#Repete uma parte do código enquanto a condição for verdadeira\n",
        "i=0\n",
        "while(i<5):\n",
        "  print(i)\n",
        "  i+=1"
      ],
      "metadata": {
        "id": "CyhG6GTLEAiZ"
      },
      "execution_count": null,
      "outputs": []
    },
    {
      "cell_type": "markdown",
      "source": [
        "#### for \n",
        "````\n",
        "for interador in interável:\n",
        "  #Seu código identado\n",
        "````"
      ],
      "metadata": {
        "id": "8mW8U86zNXWd"
      }
    },
    {
      "cell_type": "code",
      "source": [
        "for i in range(5):\n",
        "  print(i)"
      ],
      "metadata": {
        "id": "NOo_CcE5N09h"
      },
      "execution_count": null,
      "outputs": []
    },
    {
      "cell_type": "code",
      "source": [
        "lista = [1,2,3,4,5,6]\n",
        "\n",
        "for i in lista:\n",
        "  print(i)"
      ],
      "metadata": {
        "id": "-IjcCqITOuzP"
      },
      "execution_count": null,
      "outputs": []
    },
    {
      "cell_type": "markdown",
      "source": [
        "#### Funções\n",
        "````\n",
        "def funcao():\n",
        "  #Seu código identado\n",
        "  return\n",
        "````"
      ],
      "metadata": {
        "id": "Crok5F-UEAiY"
      }
    },
    {
      "cell_type": "code",
      "source": [
        "def mostrar(variavel):\n",
        "  print(variavel)\n",
        "  return\n",
        "\n",
        "mostrar(2)"
      ],
      "metadata": {
        "id": "HHn9hpquHDDV"
      },
      "execution_count": null,
      "outputs": []
    },
    {
      "cell_type": "code",
      "source": [
        "def somar(a, b):\n",
        "  return a+b\n",
        "\n",
        "somar(1,2)"
      ],
      "metadata": {
        "id": "2e3uuSf1Hjqp"
      },
      "execution_count": null,
      "outputs": []
    },
    {
      "cell_type": "code",
      "source": [
        "#soma de string\n",
        "entrada = input()\n",
        "entrada2 = input()\n",
        "print(somar(entrada, entrada2))\n",
        "\n",
        "#soma de inteiros\n",
        "entrada = input()\n",
        "entrada2 = input()\n",
        "print(somar(int(entrada), int(entrada2)))"
      ],
      "metadata": {
        "id": "B0XXnxZyEAiY"
      },
      "execution_count": null,
      "outputs": []
    },
    {
      "cell_type": "markdown",
      "source": [
        "### Exercício\n",
        "Crie uma função que subtrai 2 numeros e em seguida mostre seu resultado"
      ],
      "metadata": {
        "id": "bTFzeva8gbsr"
      }
    },
    {
      "cell_type": "code",
      "source": [
        "def subtraction(num1, num2):\n",
        "  return num1 - num2\n",
        "\n",
        "print(subtraction(10, 5))"
      ],
      "metadata": {
        "id": "hfErCeTTg0X1",
        "colab": {
          "base_uri": "https://localhost:8080/"
        },
        "outputId": "83e87387-9134-4c71-cb84-e1479f21c448"
      },
      "execution_count": null,
      "outputs": [
        {
          "output_type": "stream",
          "name": "stdout",
          "text": [
            "5\n"
          ]
        }
      ]
    },
    {
      "cell_type": "markdown",
      "source": [
        "### Estruturas de dados básicas\n"
      ],
      "metadata": {
        "id": "4yqj3QhHuGZR"
      }
    },
    {
      "cell_type": "markdown",
      "source": [
        "#### Lista"
      ],
      "metadata": {
        "id": "hU3Ow-RkxOQW"
      }
    },
    {
      "cell_type": "code",
      "source": [
        "lista = [1,2,3,4,5,6]\n",
        "lista"
      ],
      "metadata": {
        "id": "H5zU5U8vuMlf"
      },
      "execution_count": null,
      "outputs": []
    },
    {
      "cell_type": "code",
      "source": [
        "lista.append(7)\n",
        "lista"
      ],
      "metadata": {
        "id": "zkuj0UqHzEP-"
      },
      "execution_count": null,
      "outputs": []
    },
    {
      "cell_type": "code",
      "source": [
        "lista.pop()\n",
        "lista"
      ],
      "metadata": {
        "id": "lHH8J339zHD0"
      },
      "execution_count": null,
      "outputs": []
    },
    {
      "cell_type": "markdown",
      "source": [
        "#### Tupla"
      ],
      "metadata": {
        "id": "-ZQHO-ovxMMO"
      }
    },
    {
      "cell_type": "code",
      "source": [
        "tupla = ('nome', 'Maria')\n",
        "tupla"
      ],
      "metadata": {
        "id": "1fi-BY8mxFMt"
      },
      "execution_count": null,
      "outputs": []
    },
    {
      "cell_type": "code",
      "source": [
        "tupla[1] = 'João'"
      ],
      "metadata": {
        "id": "uS-3dV6NxSzW"
      },
      "execution_count": null,
      "outputs": []
    },
    {
      "cell_type": "markdown",
      "source": [
        "### Dicionário"
      ],
      "metadata": {
        "id": "_HYBGUZmxTGH"
      }
    },
    {
      "cell_type": "code",
      "source": [
        "dicionario = {\n",
        "    'chave':'valor',\n",
        "    'lista' : [1,2,3,4,5,6]\n",
        "\n",
        "}\n",
        "dicionario"
      ],
      "metadata": {
        "id": "tBTjmq8RuPZX"
      },
      "execution_count": null,
      "outputs": []
    },
    {
      "cell_type": "code",
      "source": [
        "dicionario['lista']"
      ],
      "metadata": {
        "id": "b68EdRGpzQRI"
      },
      "execution_count": null,
      "outputs": []
    },
    {
      "cell_type": "code",
      "source": [
        "dicionario.keys()"
      ],
      "metadata": {
        "id": "4JAJdJI-qS1I"
      },
      "execution_count": null,
      "outputs": []
    },
    {
      "cell_type": "code",
      "source": [
        "dicionario.values()"
      ],
      "metadata": {
        "id": "Y3aOuZEXqfgm"
      },
      "execution_count": null,
      "outputs": []
    },
    {
      "cell_type": "markdown",
      "source": [
        "### Exercício prático\n",
        "Considerando os inteiros **a** e **b**, o operador **%** é utilizado para calcular o resto da divisão entre esses dois números. A operação **a%b** computa o resto da divisão de **a** por **b**. Para qualquer número **x**, se **x** é par, então o resto da divisão de **x** por 2 é igual a 0, isto é, **(x%2) == 0**. Se **x** é ímpar, então **(x%2) == 1**.\n",
        "\n",
        "Sabendo que **n** é um número intero, implemente um loop que mostra apenas os números pares no intervalo de 1 até n.\n"
      ],
      "metadata": {
        "id": "s1GGwEGt6WX7"
      }
    },
    {
      "cell_type": "code",
      "source": [
        "def resto(n):\n",
        "  i = 1\n",
        "  lista = []\n",
        "  while(i < n):\n",
        "    if(i % 2 == 0):\n",
        "      print(i)\n",
        "      lista.append(i)\n",
        "    i += 1\n",
        "\n",
        "  return lista\n",
        "\n",
        "print(resto(6))\n"
      ],
      "metadata": {
        "id": "9TeLRUcQpA9c",
        "colab": {
          "base_uri": "https://localhost:8080/"
        },
        "outputId": "48704fbc-c113-45f2-dfb8-63559b0806f8"
      },
      "execution_count": null,
      "outputs": [
        {
          "output_type": "stream",
          "name": "stdout",
          "text": [
            "2\n",
            "4\n",
            "[2, 4]\n"
          ]
        }
      ]
    },
    {
      "cell_type": "markdown",
      "source": [
        "### Desafio\n",
        "Considere 3 números inteiros: **a**, **b** e **c**.\n",
        "Crie uma função que receba os três valores e os coloque em ordem crescente ( do menor para o maior)\n"
      ],
      "metadata": {
        "id": "l-XbRoUyPoJg"
      }
    },
    {
      "cell_type": "markdown",
      "source": [
        "## Paradigmas de programação"
      ],
      "metadata": {
        "id": "G1-YT8tny3ii"
      }
    },
    {
      "cell_type": "markdown",
      "source": [
        "### Paradigma funcional"
      ],
      "metadata": {
        "id": "52E7VvvdEN9q"
      }
    },
    {
      "cell_type": "markdown",
      "source": [
        "#### Labmda: funções anônimas\n",
        "    \n",
        "    lambda x: operações"
      ],
      "metadata": {
        "id": "sveZz0LZFH-A"
      }
    },
    {
      "cell_type": "code",
      "source": [
        "fun = lambda x: x * 2\n",
        "fun(2)"
      ],
      "metadata": {
        "id": "gGtWm4q8EVzn"
      },
      "execution_count": null,
      "outputs": []
    },
    {
      "cell_type": "markdown",
      "source": [
        "##### Filter"
      ],
      "metadata": {
        "id": "_BQSo5UgiC-a"
      }
    },
    {
      "cell_type": "code",
      "source": [
        "a = [1, 2, 3, 4, 5, 6]\n",
        "list(filter(lambda x: x % 2 == 0, a))"
      ],
      "metadata": {
        "id": "fz0RVXxtiEtT"
      },
      "execution_count": null,
      "outputs": []
    },
    {
      "cell_type": "markdown",
      "source": [
        "#### Map\n",
        "\n",
        "    map(funcao, interável)"
      ],
      "metadata": {
        "id": "sA6dE23QFypI"
      }
    },
    {
      "cell_type": "code",
      "source": [
        "lista = [1,2,3,4]\n",
        "\n",
        "x = map(lambda x: x + 1, lista)\n",
        "x"
      ],
      "metadata": {
        "id": "uTa6Y0mPFyKd",
        "colab": {
          "base_uri": "https://localhost:8080/"
        },
        "outputId": "bcc9431e-074a-420b-b12d-79d7957544c6"
      },
      "execution_count": null,
      "outputs": [
        {
          "output_type": "execute_result",
          "data": {
            "text/plain": [
              "<map at 0x7f99513dc700>"
            ]
          },
          "metadata": {},
          "execution_count": 20
        }
      ]
    },
    {
      "cell_type": "markdown",
      "source": [
        "Eita"
      ],
      "metadata": {
        "id": "BmcwfPHmHC4O"
      }
    },
    {
      "cell_type": "code",
      "source": [
        "print(x)"
      ],
      "metadata": {
        "colab": {
          "base_uri": "https://localhost:8080/"
        },
        "id": "8kvuKzlZG-70",
        "outputId": "a78b005b-6012-4b66-8ee9-3a6089485e4e"
      },
      "execution_count": null,
      "outputs": [
        {
          "output_type": "stream",
          "name": "stdout",
          "text": [
            "<map object at 0x7f99513dc700>\n"
          ]
        }
      ]
    },
    {
      "cell_type": "markdown",
      "source": [
        "UE, pq não foi? "
      ],
      "metadata": {
        "id": "XlVO29_yHEMF"
      }
    },
    {
      "cell_type": "code",
      "source": [
        "list(x)"
      ],
      "metadata": {
        "id": "jghMipA2HIX1",
        "colab": {
          "base_uri": "https://localhost:8080/"
        },
        "outputId": "ff701051-ffbd-48e1-e889-1452086d0b5d"
      },
      "execution_count": null,
      "outputs": [
        {
          "output_type": "execute_result",
          "data": {
            "text/plain": [
              "[2, 3, 4, 5]"
            ]
          },
          "metadata": {},
          "execution_count": 22
        }
      ]
    },
    {
      "cell_type": "markdown",
      "source": [
        "Converta todos os números da lista a baixo para string, usando map e lambda"
      ],
      "metadata": {
        "id": "RuuUsRqUHpxm"
      }
    },
    {
      "cell_type": "code",
      "source": [
        "lista = [1,2,3,4,8,16,32,46]"
      ],
      "metadata": {
        "id": "LM0A1FUgHpBc"
      },
      "execution_count": null,
      "outputs": []
    },
    {
      "cell_type": "markdown",
      "source": [
        "### Orientação a objetos"
      ],
      "metadata": {
        "id": "17TidOR4RG05"
      }
    },
    {
      "cell_type": "markdown",
      "source": [
        "Classes\n"
      ],
      "metadata": {
        "id": "lvKBZIjMRvVB"
      }
    },
    {
      "cell_type": "code",
      "source": [
        "class Funcionario():\n",
        "  def __init__(self, nome, cargo, salario):\n",
        "    self.nome = nome\n",
        "    self.cargo = cargo\n",
        "    self.salario = salario\n",
        "  def __str__(self):\n",
        "    return f'nome = {self.nome}\\ncargo = {self.cargo}\\nsalario = {self.salario}'"
      ],
      "metadata": {
        "id": "nJyQA6p8RxRo"
      },
      "execution_count": null,
      "outputs": []
    },
    {
      "cell_type": "markdown",
      "source": [
        "Herança"
      ],
      "metadata": {
        "id": "oevgKR6bXUuq"
      }
    },
    {
      "cell_type": "code",
      "source": [
        "class Vendedor(Funcionario):\n",
        "  def __init__(self, nome, cargo, salario, comissao):\n",
        "    super().__init__(nome, cargo, salario)\n",
        "    self.comissao = comissao"
      ],
      "metadata": {
        "id": "A8LSSB4LSFk8"
      },
      "execution_count": null,
      "outputs": []
    },
    {
      "cell_type": "code",
      "source": [
        "rapaz = Funcionario(nome=\"Rapaz da Silva\", cargo=\"Serviços gerais\", salario= 1500)\n",
        "print(rapaz)"
      ],
      "metadata": {
        "id": "yAAV2PWx-2my"
      },
      "execution_count": null,
      "outputs": []
    },
    {
      "cell_type": "code",
      "source": [
        "moca = Vendedor(nome=\"Rapaz da Silva\", cargo=\"Serviços gerais\", salario=1500, comissao=15)\n",
        "print(moca)"
      ],
      "metadata": {
        "id": "tMiCejoN_oe1"
      },
      "execution_count": null,
      "outputs": []
    },
    {
      "cell_type": "markdown",
      "source": [
        "Pq o campo comissao não apreceu? Faça sua mágica e tente fazer com que ele apareça!"
      ],
      "metadata": {
        "id": "nuuBI5WRJaV0"
      }
    },
    {
      "cell_type": "markdown",
      "source": [
        "## Bibliotecas"
      ],
      "metadata": {
        "id": "ytmbmckxy9KF"
      }
    },
    {
      "cell_type": "markdown",
      "source": [
        "### Biblioteca Pandas!"
      ],
      "metadata": {
        "id": "b6YhcTgpj8J_"
      }
    },
    {
      "cell_type": "code",
      "source": [
        "import pandas as pd"
      ],
      "metadata": {
        "id": "mdS9Vagetciw"
      },
      "execution_count": null,
      "outputs": []
    },
    {
      "cell_type": "markdown",
      "source": [
        "#### Criando um DataFrame"
      ],
      "metadata": {
        "id": "8hh-dUpf8r4b"
      }
    },
    {
      "cell_type": "code",
      "source": [
        "dataframe = pd.DataFrame({'id': [1,2,3,4,5,6],\n",
        "                          'nomes' : ['Maria', 'José', 'Pedro', 'João', 'Marcia', 'Zé']})\n",
        "dataframe"
      ],
      "metadata": {
        "id": "Q0t-t7Y6ofW_",
        "colab": {
          "base_uri": "https://localhost:8080/",
          "height": 238
        },
        "outputId": "442dcd38-140e-46e7-beae-d0753c802485"
      },
      "execution_count": null,
      "outputs": [
        {
          "output_type": "execute_result",
          "data": {
            "text/plain": [
              "   id   nomes\n",
              "0   1   Maria\n",
              "1   2    José\n",
              "2   3   Pedro\n",
              "3   4    João\n",
              "4   5  Marcia\n",
              "5   6      Zé"
            ],
            "text/html": [
              "\n",
              "  <div id=\"df-4b980df3-8c90-48ff-9062-8da2b231d869\">\n",
              "    <div class=\"colab-df-container\">\n",
              "      <div>\n",
              "<style scoped>\n",
              "    .dataframe tbody tr th:only-of-type {\n",
              "        vertical-align: middle;\n",
              "    }\n",
              "\n",
              "    .dataframe tbody tr th {\n",
              "        vertical-align: top;\n",
              "    }\n",
              "\n",
              "    .dataframe thead th {\n",
              "        text-align: right;\n",
              "    }\n",
              "</style>\n",
              "<table border=\"1\" class=\"dataframe\">\n",
              "  <thead>\n",
              "    <tr style=\"text-align: right;\">\n",
              "      <th></th>\n",
              "      <th>id</th>\n",
              "      <th>nomes</th>\n",
              "    </tr>\n",
              "  </thead>\n",
              "  <tbody>\n",
              "    <tr>\n",
              "      <th>0</th>\n",
              "      <td>1</td>\n",
              "      <td>Maria</td>\n",
              "    </tr>\n",
              "    <tr>\n",
              "      <th>1</th>\n",
              "      <td>2</td>\n",
              "      <td>José</td>\n",
              "    </tr>\n",
              "    <tr>\n",
              "      <th>2</th>\n",
              "      <td>3</td>\n",
              "      <td>Pedro</td>\n",
              "    </tr>\n",
              "    <tr>\n",
              "      <th>3</th>\n",
              "      <td>4</td>\n",
              "      <td>João</td>\n",
              "    </tr>\n",
              "    <tr>\n",
              "      <th>4</th>\n",
              "      <td>5</td>\n",
              "      <td>Marcia</td>\n",
              "    </tr>\n",
              "    <tr>\n",
              "      <th>5</th>\n",
              "      <td>6</td>\n",
              "      <td>Zé</td>\n",
              "    </tr>\n",
              "  </tbody>\n",
              "</table>\n",
              "</div>\n",
              "      <button class=\"colab-df-convert\" onclick=\"convertToInteractive('df-4b980df3-8c90-48ff-9062-8da2b231d869')\"\n",
              "              title=\"Convert this dataframe to an interactive table.\"\n",
              "              style=\"display:none;\">\n",
              "        \n",
              "  <svg xmlns=\"http://www.w3.org/2000/svg\" height=\"24px\"viewBox=\"0 0 24 24\"\n",
              "       width=\"24px\">\n",
              "    <path d=\"M0 0h24v24H0V0z\" fill=\"none\"/>\n",
              "    <path d=\"M18.56 5.44l.94 2.06.94-2.06 2.06-.94-2.06-.94-.94-2.06-.94 2.06-2.06.94zm-11 1L8.5 8.5l.94-2.06 2.06-.94-2.06-.94L8.5 2.5l-.94 2.06-2.06.94zm10 10l.94 2.06.94-2.06 2.06-.94-2.06-.94-.94-2.06-.94 2.06-2.06.94z\"/><path d=\"M17.41 7.96l-1.37-1.37c-.4-.4-.92-.59-1.43-.59-.52 0-1.04.2-1.43.59L10.3 9.45l-7.72 7.72c-.78.78-.78 2.05 0 2.83L4 21.41c.39.39.9.59 1.41.59.51 0 1.02-.2 1.41-.59l7.78-7.78 2.81-2.81c.8-.78.8-2.07 0-2.86zM5.41 20L4 18.59l7.72-7.72 1.47 1.35L5.41 20z\"/>\n",
              "  </svg>\n",
              "      </button>\n",
              "      \n",
              "  <style>\n",
              "    .colab-df-container {\n",
              "      display:flex;\n",
              "      flex-wrap:wrap;\n",
              "      gap: 12px;\n",
              "    }\n",
              "\n",
              "    .colab-df-convert {\n",
              "      background-color: #E8F0FE;\n",
              "      border: none;\n",
              "      border-radius: 50%;\n",
              "      cursor: pointer;\n",
              "      display: none;\n",
              "      fill: #1967D2;\n",
              "      height: 32px;\n",
              "      padding: 0 0 0 0;\n",
              "      width: 32px;\n",
              "    }\n",
              "\n",
              "    .colab-df-convert:hover {\n",
              "      background-color: #E2EBFA;\n",
              "      box-shadow: 0px 1px 2px rgba(60, 64, 67, 0.3), 0px 1px 3px 1px rgba(60, 64, 67, 0.15);\n",
              "      fill: #174EA6;\n",
              "    }\n",
              "\n",
              "    [theme=dark] .colab-df-convert {\n",
              "      background-color: #3B4455;\n",
              "      fill: #D2E3FC;\n",
              "    }\n",
              "\n",
              "    [theme=dark] .colab-df-convert:hover {\n",
              "      background-color: #434B5C;\n",
              "      box-shadow: 0px 1px 3px 1px rgba(0, 0, 0, 0.15);\n",
              "      filter: drop-shadow(0px 1px 2px rgba(0, 0, 0, 0.3));\n",
              "      fill: #FFFFFF;\n",
              "    }\n",
              "  </style>\n",
              "\n",
              "      <script>\n",
              "        const buttonEl =\n",
              "          document.querySelector('#df-4b980df3-8c90-48ff-9062-8da2b231d869 button.colab-df-convert');\n",
              "        buttonEl.style.display =\n",
              "          google.colab.kernel.accessAllowed ? 'block' : 'none';\n",
              "\n",
              "        async function convertToInteractive(key) {\n",
              "          const element = document.querySelector('#df-4b980df3-8c90-48ff-9062-8da2b231d869');\n",
              "          const dataTable =\n",
              "            await google.colab.kernel.invokeFunction('convertToInteractive',\n",
              "                                                     [key], {});\n",
              "          if (!dataTable) return;\n",
              "\n",
              "          const docLinkHtml = 'Like what you see? Visit the ' +\n",
              "            '<a target=\"_blank\" href=https://colab.research.google.com/notebooks/data_table.ipynb>data table notebook</a>'\n",
              "            + ' to learn more about interactive tables.';\n",
              "          element.innerHTML = '';\n",
              "          dataTable['output_type'] = 'display_data';\n",
              "          await google.colab.output.renderOutput(dataTable, element);\n",
              "          const docLink = document.createElement('div');\n",
              "          docLink.innerHTML = docLinkHtml;\n",
              "          element.appendChild(docLink);\n",
              "        }\n",
              "      </script>\n",
              "    </div>\n",
              "  </div>\n",
              "  "
            ]
          },
          "metadata": {},
          "execution_count": 25
        }
      ]
    },
    {
      "cell_type": "code",
      "source": [
        "dataframe_2 = pd.DataFrame({'id': [1,2,3,4,5],\n",
        "                          'notas' : [10,8,3,4,7]})\n",
        "dataframe_2"
      ],
      "metadata": {
        "id": "sV8179HZ2iwJ",
        "colab": {
          "base_uri": "https://localhost:8080/",
          "height": 206
        },
        "outputId": "b9629a3b-67b0-4953-cb2a-e4be23b16589"
      },
      "execution_count": null,
      "outputs": [
        {
          "output_type": "execute_result",
          "data": {
            "text/plain": [
              "   id  notas\n",
              "0   1     10\n",
              "1   2      8\n",
              "2   3      3\n",
              "3   4      4\n",
              "4   5      7"
            ],
            "text/html": [
              "\n",
              "  <div id=\"df-ed342769-c982-44ee-b214-41ff70fc38a6\">\n",
              "    <div class=\"colab-df-container\">\n",
              "      <div>\n",
              "<style scoped>\n",
              "    .dataframe tbody tr th:only-of-type {\n",
              "        vertical-align: middle;\n",
              "    }\n",
              "\n",
              "    .dataframe tbody tr th {\n",
              "        vertical-align: top;\n",
              "    }\n",
              "\n",
              "    .dataframe thead th {\n",
              "        text-align: right;\n",
              "    }\n",
              "</style>\n",
              "<table border=\"1\" class=\"dataframe\">\n",
              "  <thead>\n",
              "    <tr style=\"text-align: right;\">\n",
              "      <th></th>\n",
              "      <th>id</th>\n",
              "      <th>notas</th>\n",
              "    </tr>\n",
              "  </thead>\n",
              "  <tbody>\n",
              "    <tr>\n",
              "      <th>0</th>\n",
              "      <td>1</td>\n",
              "      <td>10</td>\n",
              "    </tr>\n",
              "    <tr>\n",
              "      <th>1</th>\n",
              "      <td>2</td>\n",
              "      <td>8</td>\n",
              "    </tr>\n",
              "    <tr>\n",
              "      <th>2</th>\n",
              "      <td>3</td>\n",
              "      <td>3</td>\n",
              "    </tr>\n",
              "    <tr>\n",
              "      <th>3</th>\n",
              "      <td>4</td>\n",
              "      <td>4</td>\n",
              "    </tr>\n",
              "    <tr>\n",
              "      <th>4</th>\n",
              "      <td>5</td>\n",
              "      <td>7</td>\n",
              "    </tr>\n",
              "  </tbody>\n",
              "</table>\n",
              "</div>\n",
              "      <button class=\"colab-df-convert\" onclick=\"convertToInteractive('df-ed342769-c982-44ee-b214-41ff70fc38a6')\"\n",
              "              title=\"Convert this dataframe to an interactive table.\"\n",
              "              style=\"display:none;\">\n",
              "        \n",
              "  <svg xmlns=\"http://www.w3.org/2000/svg\" height=\"24px\"viewBox=\"0 0 24 24\"\n",
              "       width=\"24px\">\n",
              "    <path d=\"M0 0h24v24H0V0z\" fill=\"none\"/>\n",
              "    <path d=\"M18.56 5.44l.94 2.06.94-2.06 2.06-.94-2.06-.94-.94-2.06-.94 2.06-2.06.94zm-11 1L8.5 8.5l.94-2.06 2.06-.94-2.06-.94L8.5 2.5l-.94 2.06-2.06.94zm10 10l.94 2.06.94-2.06 2.06-.94-2.06-.94-.94-2.06-.94 2.06-2.06.94z\"/><path d=\"M17.41 7.96l-1.37-1.37c-.4-.4-.92-.59-1.43-.59-.52 0-1.04.2-1.43.59L10.3 9.45l-7.72 7.72c-.78.78-.78 2.05 0 2.83L4 21.41c.39.39.9.59 1.41.59.51 0 1.02-.2 1.41-.59l7.78-7.78 2.81-2.81c.8-.78.8-2.07 0-2.86zM5.41 20L4 18.59l7.72-7.72 1.47 1.35L5.41 20z\"/>\n",
              "  </svg>\n",
              "      </button>\n",
              "      \n",
              "  <style>\n",
              "    .colab-df-container {\n",
              "      display:flex;\n",
              "      flex-wrap:wrap;\n",
              "      gap: 12px;\n",
              "    }\n",
              "\n",
              "    .colab-df-convert {\n",
              "      background-color: #E8F0FE;\n",
              "      border: none;\n",
              "      border-radius: 50%;\n",
              "      cursor: pointer;\n",
              "      display: none;\n",
              "      fill: #1967D2;\n",
              "      height: 32px;\n",
              "      padding: 0 0 0 0;\n",
              "      width: 32px;\n",
              "    }\n",
              "\n",
              "    .colab-df-convert:hover {\n",
              "      background-color: #E2EBFA;\n",
              "      box-shadow: 0px 1px 2px rgba(60, 64, 67, 0.3), 0px 1px 3px 1px rgba(60, 64, 67, 0.15);\n",
              "      fill: #174EA6;\n",
              "    }\n",
              "\n",
              "    [theme=dark] .colab-df-convert {\n",
              "      background-color: #3B4455;\n",
              "      fill: #D2E3FC;\n",
              "    }\n",
              "\n",
              "    [theme=dark] .colab-df-convert:hover {\n",
              "      background-color: #434B5C;\n",
              "      box-shadow: 0px 1px 3px 1px rgba(0, 0, 0, 0.15);\n",
              "      filter: drop-shadow(0px 1px 2px rgba(0, 0, 0, 0.3));\n",
              "      fill: #FFFFFF;\n",
              "    }\n",
              "  </style>\n",
              "\n",
              "      <script>\n",
              "        const buttonEl =\n",
              "          document.querySelector('#df-ed342769-c982-44ee-b214-41ff70fc38a6 button.colab-df-convert');\n",
              "        buttonEl.style.display =\n",
              "          google.colab.kernel.accessAllowed ? 'block' : 'none';\n",
              "\n",
              "        async function convertToInteractive(key) {\n",
              "          const element = document.querySelector('#df-ed342769-c982-44ee-b214-41ff70fc38a6');\n",
              "          const dataTable =\n",
              "            await google.colab.kernel.invokeFunction('convertToInteractive',\n",
              "                                                     [key], {});\n",
              "          if (!dataTable) return;\n",
              "\n",
              "          const docLinkHtml = 'Like what you see? Visit the ' +\n",
              "            '<a target=\"_blank\" href=https://colab.research.google.com/notebooks/data_table.ipynb>data table notebook</a>'\n",
              "            + ' to learn more about interactive tables.';\n",
              "          element.innerHTML = '';\n",
              "          dataTable['output_type'] = 'display_data';\n",
              "          await google.colab.output.renderOutput(dataTable, element);\n",
              "          const docLink = document.createElement('div');\n",
              "          docLink.innerHTML = docLinkHtml;\n",
              "          element.appendChild(docLink);\n",
              "        }\n",
              "      </script>\n",
              "    </div>\n",
              "  </div>\n",
              "  "
            ]
          },
          "metadata": {},
          "execution_count": 26
        }
      ]
    },
    {
      "cell_type": "markdown",
      "source": [
        "#### Filtro"
      ],
      "metadata": {
        "id": "eHd8XMVb8y5V"
      }
    },
    {
      "cell_type": "code",
      "source": [
        "df_teste = dataframe[dataframe['id'] >= 3]\n",
        "df_teste"
      ],
      "metadata": {
        "id": "XmKprAyftBHC",
        "colab": {
          "base_uri": "https://localhost:8080/",
          "height": 175
        },
        "outputId": "8e29f734-53ed-4bb1-dffa-051e5f025aaf"
      },
      "execution_count": null,
      "outputs": [
        {
          "output_type": "execute_result",
          "data": {
            "text/plain": [
              "   id   nomes\n",
              "2   3   Pedro\n",
              "3   4    João\n",
              "4   5  Marcia\n",
              "5   6      Zé"
            ],
            "text/html": [
              "\n",
              "  <div id=\"df-2407ec35-45e8-4f4a-aece-02a277c3a653\">\n",
              "    <div class=\"colab-df-container\">\n",
              "      <div>\n",
              "<style scoped>\n",
              "    .dataframe tbody tr th:only-of-type {\n",
              "        vertical-align: middle;\n",
              "    }\n",
              "\n",
              "    .dataframe tbody tr th {\n",
              "        vertical-align: top;\n",
              "    }\n",
              "\n",
              "    .dataframe thead th {\n",
              "        text-align: right;\n",
              "    }\n",
              "</style>\n",
              "<table border=\"1\" class=\"dataframe\">\n",
              "  <thead>\n",
              "    <tr style=\"text-align: right;\">\n",
              "      <th></th>\n",
              "      <th>id</th>\n",
              "      <th>nomes</th>\n",
              "    </tr>\n",
              "  </thead>\n",
              "  <tbody>\n",
              "    <tr>\n",
              "      <th>2</th>\n",
              "      <td>3</td>\n",
              "      <td>Pedro</td>\n",
              "    </tr>\n",
              "    <tr>\n",
              "      <th>3</th>\n",
              "      <td>4</td>\n",
              "      <td>João</td>\n",
              "    </tr>\n",
              "    <tr>\n",
              "      <th>4</th>\n",
              "      <td>5</td>\n",
              "      <td>Marcia</td>\n",
              "    </tr>\n",
              "    <tr>\n",
              "      <th>5</th>\n",
              "      <td>6</td>\n",
              "      <td>Zé</td>\n",
              "    </tr>\n",
              "  </tbody>\n",
              "</table>\n",
              "</div>\n",
              "      <button class=\"colab-df-convert\" onclick=\"convertToInteractive('df-2407ec35-45e8-4f4a-aece-02a277c3a653')\"\n",
              "              title=\"Convert this dataframe to an interactive table.\"\n",
              "              style=\"display:none;\">\n",
              "        \n",
              "  <svg xmlns=\"http://www.w3.org/2000/svg\" height=\"24px\"viewBox=\"0 0 24 24\"\n",
              "       width=\"24px\">\n",
              "    <path d=\"M0 0h24v24H0V0z\" fill=\"none\"/>\n",
              "    <path d=\"M18.56 5.44l.94 2.06.94-2.06 2.06-.94-2.06-.94-.94-2.06-.94 2.06-2.06.94zm-11 1L8.5 8.5l.94-2.06 2.06-.94-2.06-.94L8.5 2.5l-.94 2.06-2.06.94zm10 10l.94 2.06.94-2.06 2.06-.94-2.06-.94-.94-2.06-.94 2.06-2.06.94z\"/><path d=\"M17.41 7.96l-1.37-1.37c-.4-.4-.92-.59-1.43-.59-.52 0-1.04.2-1.43.59L10.3 9.45l-7.72 7.72c-.78.78-.78 2.05 0 2.83L4 21.41c.39.39.9.59 1.41.59.51 0 1.02-.2 1.41-.59l7.78-7.78 2.81-2.81c.8-.78.8-2.07 0-2.86zM5.41 20L4 18.59l7.72-7.72 1.47 1.35L5.41 20z\"/>\n",
              "  </svg>\n",
              "      </button>\n",
              "      \n",
              "  <style>\n",
              "    .colab-df-container {\n",
              "      display:flex;\n",
              "      flex-wrap:wrap;\n",
              "      gap: 12px;\n",
              "    }\n",
              "\n",
              "    .colab-df-convert {\n",
              "      background-color: #E8F0FE;\n",
              "      border: none;\n",
              "      border-radius: 50%;\n",
              "      cursor: pointer;\n",
              "      display: none;\n",
              "      fill: #1967D2;\n",
              "      height: 32px;\n",
              "      padding: 0 0 0 0;\n",
              "      width: 32px;\n",
              "    }\n",
              "\n",
              "    .colab-df-convert:hover {\n",
              "      background-color: #E2EBFA;\n",
              "      box-shadow: 0px 1px 2px rgba(60, 64, 67, 0.3), 0px 1px 3px 1px rgba(60, 64, 67, 0.15);\n",
              "      fill: #174EA6;\n",
              "    }\n",
              "\n",
              "    [theme=dark] .colab-df-convert {\n",
              "      background-color: #3B4455;\n",
              "      fill: #D2E3FC;\n",
              "    }\n",
              "\n",
              "    [theme=dark] .colab-df-convert:hover {\n",
              "      background-color: #434B5C;\n",
              "      box-shadow: 0px 1px 3px 1px rgba(0, 0, 0, 0.15);\n",
              "      filter: drop-shadow(0px 1px 2px rgba(0, 0, 0, 0.3));\n",
              "      fill: #FFFFFF;\n",
              "    }\n",
              "  </style>\n",
              "\n",
              "      <script>\n",
              "        const buttonEl =\n",
              "          document.querySelector('#df-2407ec35-45e8-4f4a-aece-02a277c3a653 button.colab-df-convert');\n",
              "        buttonEl.style.display =\n",
              "          google.colab.kernel.accessAllowed ? 'block' : 'none';\n",
              "\n",
              "        async function convertToInteractive(key) {\n",
              "          const element = document.querySelector('#df-2407ec35-45e8-4f4a-aece-02a277c3a653');\n",
              "          const dataTable =\n",
              "            await google.colab.kernel.invokeFunction('convertToInteractive',\n",
              "                                                     [key], {});\n",
              "          if (!dataTable) return;\n",
              "\n",
              "          const docLinkHtml = 'Like what you see? Visit the ' +\n",
              "            '<a target=\"_blank\" href=https://colab.research.google.com/notebooks/data_table.ipynb>data table notebook</a>'\n",
              "            + ' to learn more about interactive tables.';\n",
              "          element.innerHTML = '';\n",
              "          dataTable['output_type'] = 'display_data';\n",
              "          await google.colab.output.renderOutput(dataTable, element);\n",
              "          const docLink = document.createElement('div');\n",
              "          docLink.innerHTML = docLinkHtml;\n",
              "          element.appendChild(docLink);\n",
              "        }\n",
              "      </script>\n",
              "    </div>\n",
              "  </div>\n",
              "  "
            ]
          },
          "metadata": {},
          "execution_count": 27
        }
      ]
    },
    {
      "cell_type": "markdown",
      "source": [
        "Crie um novo data frame somendo com id impares"
      ],
      "metadata": {
        "id": "PCimllfO89m8"
      }
    },
    {
      "cell_type": "code",
      "source": [
        "df_impar = dataframe[dataframe['id'] % 2 != 0]\n",
        "df_impar"
      ],
      "metadata": {
        "id": "xCNCl-Bj9ENX",
        "colab": {
          "base_uri": "https://localhost:8080/",
          "height": 143
        },
        "outputId": "0482918b-85c1-4409-dd24-6ff513371f46"
      },
      "execution_count": null,
      "outputs": [
        {
          "output_type": "execute_result",
          "data": {
            "text/plain": [
              "   id   nomes\n",
              "0   1   Maria\n",
              "2   3   Pedro\n",
              "4   5  Marcia"
            ],
            "text/html": [
              "\n",
              "  <div id=\"df-3206860b-eb7d-43b7-acee-6b1d87c2595d\">\n",
              "    <div class=\"colab-df-container\">\n",
              "      <div>\n",
              "<style scoped>\n",
              "    .dataframe tbody tr th:only-of-type {\n",
              "        vertical-align: middle;\n",
              "    }\n",
              "\n",
              "    .dataframe tbody tr th {\n",
              "        vertical-align: top;\n",
              "    }\n",
              "\n",
              "    .dataframe thead th {\n",
              "        text-align: right;\n",
              "    }\n",
              "</style>\n",
              "<table border=\"1\" class=\"dataframe\">\n",
              "  <thead>\n",
              "    <tr style=\"text-align: right;\">\n",
              "      <th></th>\n",
              "      <th>id</th>\n",
              "      <th>nomes</th>\n",
              "    </tr>\n",
              "  </thead>\n",
              "  <tbody>\n",
              "    <tr>\n",
              "      <th>0</th>\n",
              "      <td>1</td>\n",
              "      <td>Maria</td>\n",
              "    </tr>\n",
              "    <tr>\n",
              "      <th>2</th>\n",
              "      <td>3</td>\n",
              "      <td>Pedro</td>\n",
              "    </tr>\n",
              "    <tr>\n",
              "      <th>4</th>\n",
              "      <td>5</td>\n",
              "      <td>Marcia</td>\n",
              "    </tr>\n",
              "  </tbody>\n",
              "</table>\n",
              "</div>\n",
              "      <button class=\"colab-df-convert\" onclick=\"convertToInteractive('df-3206860b-eb7d-43b7-acee-6b1d87c2595d')\"\n",
              "              title=\"Convert this dataframe to an interactive table.\"\n",
              "              style=\"display:none;\">\n",
              "        \n",
              "  <svg xmlns=\"http://www.w3.org/2000/svg\" height=\"24px\"viewBox=\"0 0 24 24\"\n",
              "       width=\"24px\">\n",
              "    <path d=\"M0 0h24v24H0V0z\" fill=\"none\"/>\n",
              "    <path d=\"M18.56 5.44l.94 2.06.94-2.06 2.06-.94-2.06-.94-.94-2.06-.94 2.06-2.06.94zm-11 1L8.5 8.5l.94-2.06 2.06-.94-2.06-.94L8.5 2.5l-.94 2.06-2.06.94zm10 10l.94 2.06.94-2.06 2.06-.94-2.06-.94-.94-2.06-.94 2.06-2.06.94z\"/><path d=\"M17.41 7.96l-1.37-1.37c-.4-.4-.92-.59-1.43-.59-.52 0-1.04.2-1.43.59L10.3 9.45l-7.72 7.72c-.78.78-.78 2.05 0 2.83L4 21.41c.39.39.9.59 1.41.59.51 0 1.02-.2 1.41-.59l7.78-7.78 2.81-2.81c.8-.78.8-2.07 0-2.86zM5.41 20L4 18.59l7.72-7.72 1.47 1.35L5.41 20z\"/>\n",
              "  </svg>\n",
              "      </button>\n",
              "      \n",
              "  <style>\n",
              "    .colab-df-container {\n",
              "      display:flex;\n",
              "      flex-wrap:wrap;\n",
              "      gap: 12px;\n",
              "    }\n",
              "\n",
              "    .colab-df-convert {\n",
              "      background-color: #E8F0FE;\n",
              "      border: none;\n",
              "      border-radius: 50%;\n",
              "      cursor: pointer;\n",
              "      display: none;\n",
              "      fill: #1967D2;\n",
              "      height: 32px;\n",
              "      padding: 0 0 0 0;\n",
              "      width: 32px;\n",
              "    }\n",
              "\n",
              "    .colab-df-convert:hover {\n",
              "      background-color: #E2EBFA;\n",
              "      box-shadow: 0px 1px 2px rgba(60, 64, 67, 0.3), 0px 1px 3px 1px rgba(60, 64, 67, 0.15);\n",
              "      fill: #174EA6;\n",
              "    }\n",
              "\n",
              "    [theme=dark] .colab-df-convert {\n",
              "      background-color: #3B4455;\n",
              "      fill: #D2E3FC;\n",
              "    }\n",
              "\n",
              "    [theme=dark] .colab-df-convert:hover {\n",
              "      background-color: #434B5C;\n",
              "      box-shadow: 0px 1px 3px 1px rgba(0, 0, 0, 0.15);\n",
              "      filter: drop-shadow(0px 1px 2px rgba(0, 0, 0, 0.3));\n",
              "      fill: #FFFFFF;\n",
              "    }\n",
              "  </style>\n",
              "\n",
              "      <script>\n",
              "        const buttonEl =\n",
              "          document.querySelector('#df-3206860b-eb7d-43b7-acee-6b1d87c2595d button.colab-df-convert');\n",
              "        buttonEl.style.display =\n",
              "          google.colab.kernel.accessAllowed ? 'block' : 'none';\n",
              "\n",
              "        async function convertToInteractive(key) {\n",
              "          const element = document.querySelector('#df-3206860b-eb7d-43b7-acee-6b1d87c2595d');\n",
              "          const dataTable =\n",
              "            await google.colab.kernel.invokeFunction('convertToInteractive',\n",
              "                                                     [key], {});\n",
              "          if (!dataTable) return;\n",
              "\n",
              "          const docLinkHtml = 'Like what you see? Visit the ' +\n",
              "            '<a target=\"_blank\" href=https://colab.research.google.com/notebooks/data_table.ipynb>data table notebook</a>'\n",
              "            + ' to learn more about interactive tables.';\n",
              "          element.innerHTML = '';\n",
              "          dataTable['output_type'] = 'display_data';\n",
              "          await google.colab.output.renderOutput(dataTable, element);\n",
              "          const docLink = document.createElement('div');\n",
              "          docLink.innerHTML = docLinkHtml;\n",
              "          element.appendChild(docLink);\n",
              "        }\n",
              "      </script>\n",
              "    </div>\n",
              "  </div>\n",
              "  "
            ]
          },
          "metadata": {},
          "execution_count": 30
        }
      ]
    },
    {
      "cell_type": "markdown",
      "source": [
        "#### Unindo DFs"
      ],
      "metadata": {
        "id": "F9LSCfy782jt"
      }
    },
    {
      "cell_type": "markdown",
      "source": [
        "##### Merge"
      ],
      "metadata": {
        "id": "rgMZZA0P9Mny"
      }
    },
    {
      "cell_type": "markdown",
      "source": [
        "![join-or-merge-in-python-pandas-1.png](data:image/png;base64,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)"
      ],
      "metadata": {
        "id": "HbAxoiwE9MOT"
      }
    },
    {
      "cell_type": "code",
      "source": [
        "df_merge = dataframe.merge(dataframe_2, on= 'id', how= 'inner')\n",
        "df_merge"
      ],
      "metadata": {
        "id": "QYUg33eh20ry",
        "colab": {
          "base_uri": "https://localhost:8080/",
          "height": 206
        },
        "outputId": "1558018d-7b2c-4fb8-f554-56a352839abd"
      },
      "execution_count": null,
      "outputs": [
        {
          "output_type": "execute_result",
          "data": {
            "text/plain": [
              "   id   nomes  notas\n",
              "0   1   Maria     10\n",
              "1   2    José      8\n",
              "2   3   Pedro      3\n",
              "3   4    João      4\n",
              "4   5  Marcia      7"
            ],
            "text/html": [
              "\n",
              "  <div id=\"df-c488a8c7-4f9a-4b59-950b-fbabcfcb10d7\">\n",
              "    <div class=\"colab-df-container\">\n",
              "      <div>\n",
              "<style scoped>\n",
              "    .dataframe tbody tr th:only-of-type {\n",
              "        vertical-align: middle;\n",
              "    }\n",
              "\n",
              "    .dataframe tbody tr th {\n",
              "        vertical-align: top;\n",
              "    }\n",
              "\n",
              "    .dataframe thead th {\n",
              "        text-align: right;\n",
              "    }\n",
              "</style>\n",
              "<table border=\"1\" class=\"dataframe\">\n",
              "  <thead>\n",
              "    <tr style=\"text-align: right;\">\n",
              "      <th></th>\n",
              "      <th>id</th>\n",
              "      <th>nomes</th>\n",
              "      <th>notas</th>\n",
              "    </tr>\n",
              "  </thead>\n",
              "  <tbody>\n",
              "    <tr>\n",
              "      <th>0</th>\n",
              "      <td>1</td>\n",
              "      <td>Maria</td>\n",
              "      <td>10</td>\n",
              "    </tr>\n",
              "    <tr>\n",
              "      <th>1</th>\n",
              "      <td>2</td>\n",
              "      <td>José</td>\n",
              "      <td>8</td>\n",
              "    </tr>\n",
              "    <tr>\n",
              "      <th>2</th>\n",
              "      <td>3</td>\n",
              "      <td>Pedro</td>\n",
              "      <td>3</td>\n",
              "    </tr>\n",
              "    <tr>\n",
              "      <th>3</th>\n",
              "      <td>4</td>\n",
              "      <td>João</td>\n",
              "      <td>4</td>\n",
              "    </tr>\n",
              "    <tr>\n",
              "      <th>4</th>\n",
              "      <td>5</td>\n",
              "      <td>Marcia</td>\n",
              "      <td>7</td>\n",
              "    </tr>\n",
              "  </tbody>\n",
              "</table>\n",
              "</div>\n",
              "      <button class=\"colab-df-convert\" onclick=\"convertToInteractive('df-c488a8c7-4f9a-4b59-950b-fbabcfcb10d7')\"\n",
              "              title=\"Convert this dataframe to an interactive table.\"\n",
              "              style=\"display:none;\">\n",
              "        \n",
              "  <svg xmlns=\"http://www.w3.org/2000/svg\" height=\"24px\"viewBox=\"0 0 24 24\"\n",
              "       width=\"24px\">\n",
              "    <path d=\"M0 0h24v24H0V0z\" fill=\"none\"/>\n",
              "    <path d=\"M18.56 5.44l.94 2.06.94-2.06 2.06-.94-2.06-.94-.94-2.06-.94 2.06-2.06.94zm-11 1L8.5 8.5l.94-2.06 2.06-.94-2.06-.94L8.5 2.5l-.94 2.06-2.06.94zm10 10l.94 2.06.94-2.06 2.06-.94-2.06-.94-.94-2.06-.94 2.06-2.06.94z\"/><path d=\"M17.41 7.96l-1.37-1.37c-.4-.4-.92-.59-1.43-.59-.52 0-1.04.2-1.43.59L10.3 9.45l-7.72 7.72c-.78.78-.78 2.05 0 2.83L4 21.41c.39.39.9.59 1.41.59.51 0 1.02-.2 1.41-.59l7.78-7.78 2.81-2.81c.8-.78.8-2.07 0-2.86zM5.41 20L4 18.59l7.72-7.72 1.47 1.35L5.41 20z\"/>\n",
              "  </svg>\n",
              "      </button>\n",
              "      \n",
              "  <style>\n",
              "    .colab-df-container {\n",
              "      display:flex;\n",
              "      flex-wrap:wrap;\n",
              "      gap: 12px;\n",
              "    }\n",
              "\n",
              "    .colab-df-convert {\n",
              "      background-color: #E8F0FE;\n",
              "      border: none;\n",
              "      border-radius: 50%;\n",
              "      cursor: pointer;\n",
              "      display: none;\n",
              "      fill: #1967D2;\n",
              "      height: 32px;\n",
              "      padding: 0 0 0 0;\n",
              "      width: 32px;\n",
              "    }\n",
              "\n",
              "    .colab-df-convert:hover {\n",
              "      background-color: #E2EBFA;\n",
              "      box-shadow: 0px 1px 2px rgba(60, 64, 67, 0.3), 0px 1px 3px 1px rgba(60, 64, 67, 0.15);\n",
              "      fill: #174EA6;\n",
              "    }\n",
              "\n",
              "    [theme=dark] .colab-df-convert {\n",
              "      background-color: #3B4455;\n",
              "      fill: #D2E3FC;\n",
              "    }\n",
              "\n",
              "    [theme=dark] .colab-df-convert:hover {\n",
              "      background-color: #434B5C;\n",
              "      box-shadow: 0px 1px 3px 1px rgba(0, 0, 0, 0.15);\n",
              "      filter: drop-shadow(0px 1px 2px rgba(0, 0, 0, 0.3));\n",
              "      fill: #FFFFFF;\n",
              "    }\n",
              "  </style>\n",
              "\n",
              "      <script>\n",
              "        const buttonEl =\n",
              "          document.querySelector('#df-c488a8c7-4f9a-4b59-950b-fbabcfcb10d7 button.colab-df-convert');\n",
              "        buttonEl.style.display =\n",
              "          google.colab.kernel.accessAllowed ? 'block' : 'none';\n",
              "\n",
              "        async function convertToInteractive(key) {\n",
              "          const element = document.querySelector('#df-c488a8c7-4f9a-4b59-950b-fbabcfcb10d7');\n",
              "          const dataTable =\n",
              "            await google.colab.kernel.invokeFunction('convertToInteractive',\n",
              "                                                     [key], {});\n",
              "          if (!dataTable) return;\n",
              "\n",
              "          const docLinkHtml = 'Like what you see? Visit the ' +\n",
              "            '<a target=\"_blank\" href=https://colab.research.google.com/notebooks/data_table.ipynb>data table notebook</a>'\n",
              "            + ' to learn more about interactive tables.';\n",
              "          element.innerHTML = '';\n",
              "          dataTable['output_type'] = 'display_data';\n",
              "          await google.colab.output.renderOutput(dataTable, element);\n",
              "          const docLink = document.createElement('div');\n",
              "          docLink.innerHTML = docLinkHtml;\n",
              "          element.appendChild(docLink);\n",
              "        }\n",
              "      </script>\n",
              "    </div>\n",
              "  </div>\n",
              "  "
            ]
          },
          "metadata": {},
          "execution_count": 34
        }
      ]
    },
    {
      "cell_type": "code",
      "source": [
        "df_merge = dataframe.merge(dataframe_2, on= 'id', how= 'outer')\n",
        "df_merge"
      ],
      "metadata": {
        "id": "q4KUQo2W_YOQ",
        "colab": {
          "base_uri": "https://localhost:8080/",
          "height": 238
        },
        "outputId": "8e1d8132-5b57-4298-cfa4-939348d17445"
      },
      "execution_count": null,
      "outputs": [
        {
          "output_type": "execute_result",
          "data": {
            "text/plain": [
              "   id   nomes  notas\n",
              "0   1   Maria   10.0\n",
              "1   2    José    8.0\n",
              "2   3   Pedro    3.0\n",
              "3   4    João    4.0\n",
              "4   5  Marcia    7.0\n",
              "5   6      Zé    NaN"
            ],
            "text/html": [
              "\n",
              "  <div id=\"df-a1319211-2f49-4eb4-b086-650b25408ef7\">\n",
              "    <div class=\"colab-df-container\">\n",
              "      <div>\n",
              "<style scoped>\n",
              "    .dataframe tbody tr th:only-of-type {\n",
              "        vertical-align: middle;\n",
              "    }\n",
              "\n",
              "    .dataframe tbody tr th {\n",
              "        vertical-align: top;\n",
              "    }\n",
              "\n",
              "    .dataframe thead th {\n",
              "        text-align: right;\n",
              "    }\n",
              "</style>\n",
              "<table border=\"1\" class=\"dataframe\">\n",
              "  <thead>\n",
              "    <tr style=\"text-align: right;\">\n",
              "      <th></th>\n",
              "      <th>id</th>\n",
              "      <th>nomes</th>\n",
              "      <th>notas</th>\n",
              "    </tr>\n",
              "  </thead>\n",
              "  <tbody>\n",
              "    <tr>\n",
              "      <th>0</th>\n",
              "      <td>1</td>\n",
              "      <td>Maria</td>\n",
              "      <td>10.0</td>\n",
              "    </tr>\n",
              "    <tr>\n",
              "      <th>1</th>\n",
              "      <td>2</td>\n",
              "      <td>José</td>\n",
              "      <td>8.0</td>\n",
              "    </tr>\n",
              "    <tr>\n",
              "      <th>2</th>\n",
              "      <td>3</td>\n",
              "      <td>Pedro</td>\n",
              "      <td>3.0</td>\n",
              "    </tr>\n",
              "    <tr>\n",
              "      <th>3</th>\n",
              "      <td>4</td>\n",
              "      <td>João</td>\n",
              "      <td>4.0</td>\n",
              "    </tr>\n",
              "    <tr>\n",
              "      <th>4</th>\n",
              "      <td>5</td>\n",
              "      <td>Marcia</td>\n",
              "      <td>7.0</td>\n",
              "    </tr>\n",
              "    <tr>\n",
              "      <th>5</th>\n",
              "      <td>6</td>\n",
              "      <td>Zé</td>\n",
              "      <td>NaN</td>\n",
              "    </tr>\n",
              "  </tbody>\n",
              "</table>\n",
              "</div>\n",
              "      <button class=\"colab-df-convert\" onclick=\"convertToInteractive('df-a1319211-2f49-4eb4-b086-650b25408ef7')\"\n",
              "              title=\"Convert this dataframe to an interactive table.\"\n",
              "              style=\"display:none;\">\n",
              "        \n",
              "  <svg xmlns=\"http://www.w3.org/2000/svg\" height=\"24px\"viewBox=\"0 0 24 24\"\n",
              "       width=\"24px\">\n",
              "    <path d=\"M0 0h24v24H0V0z\" fill=\"none\"/>\n",
              "    <path d=\"M18.56 5.44l.94 2.06.94-2.06 2.06-.94-2.06-.94-.94-2.06-.94 2.06-2.06.94zm-11 1L8.5 8.5l.94-2.06 2.06-.94-2.06-.94L8.5 2.5l-.94 2.06-2.06.94zm10 10l.94 2.06.94-2.06 2.06-.94-2.06-.94-.94-2.06-.94 2.06-2.06.94z\"/><path d=\"M17.41 7.96l-1.37-1.37c-.4-.4-.92-.59-1.43-.59-.52 0-1.04.2-1.43.59L10.3 9.45l-7.72 7.72c-.78.78-.78 2.05 0 2.83L4 21.41c.39.39.9.59 1.41.59.51 0 1.02-.2 1.41-.59l7.78-7.78 2.81-2.81c.8-.78.8-2.07 0-2.86zM5.41 20L4 18.59l7.72-7.72 1.47 1.35L5.41 20z\"/>\n",
              "  </svg>\n",
              "      </button>\n",
              "      \n",
              "  <style>\n",
              "    .colab-df-container {\n",
              "      display:flex;\n",
              "      flex-wrap:wrap;\n",
              "      gap: 12px;\n",
              "    }\n",
              "\n",
              "    .colab-df-convert {\n",
              "      background-color: #E8F0FE;\n",
              "      border: none;\n",
              "      border-radius: 50%;\n",
              "      cursor: pointer;\n",
              "      display: none;\n",
              "      fill: #1967D2;\n",
              "      height: 32px;\n",
              "      padding: 0 0 0 0;\n",
              "      width: 32px;\n",
              "    }\n",
              "\n",
              "    .colab-df-convert:hover {\n",
              "      background-color: #E2EBFA;\n",
              "      box-shadow: 0px 1px 2px rgba(60, 64, 67, 0.3), 0px 1px 3px 1px rgba(60, 64, 67, 0.15);\n",
              "      fill: #174EA6;\n",
              "    }\n",
              "\n",
              "    [theme=dark] .colab-df-convert {\n",
              "      background-color: #3B4455;\n",
              "      fill: #D2E3FC;\n",
              "    }\n",
              "\n",
              "    [theme=dark] .colab-df-convert:hover {\n",
              "      background-color: #434B5C;\n",
              "      box-shadow: 0px 1px 3px 1px rgba(0, 0, 0, 0.15);\n",
              "      filter: drop-shadow(0px 1px 2px rgba(0, 0, 0, 0.3));\n",
              "      fill: #FFFFFF;\n",
              "    }\n",
              "  </style>\n",
              "\n",
              "      <script>\n",
              "        const buttonEl =\n",
              "          document.querySelector('#df-a1319211-2f49-4eb4-b086-650b25408ef7 button.colab-df-convert');\n",
              "        buttonEl.style.display =\n",
              "          google.colab.kernel.accessAllowed ? 'block' : 'none';\n",
              "\n",
              "        async function convertToInteractive(key) {\n",
              "          const element = document.querySelector('#df-a1319211-2f49-4eb4-b086-650b25408ef7');\n",
              "          const dataTable =\n",
              "            await google.colab.kernel.invokeFunction('convertToInteractive',\n",
              "                                                     [key], {});\n",
              "          if (!dataTable) return;\n",
              "\n",
              "          const docLinkHtml = 'Like what you see? Visit the ' +\n",
              "            '<a target=\"_blank\" href=https://colab.research.google.com/notebooks/data_table.ipynb>data table notebook</a>'\n",
              "            + ' to learn more about interactive tables.';\n",
              "          element.innerHTML = '';\n",
              "          dataTable['output_type'] = 'display_data';\n",
              "          await google.colab.output.renderOutput(dataTable, element);\n",
              "          const docLink = document.createElement('div');\n",
              "          docLink.innerHTML = docLinkHtml;\n",
              "          element.appendChild(docLink);\n",
              "        }\n",
              "      </script>\n",
              "    </div>\n",
              "  </div>\n",
              "  "
            ]
          },
          "metadata": {},
          "execution_count": 35
        }
      ]
    },
    {
      "cell_type": "markdown",
      "source": [
        "Tente usar o 'left' ou o 'right' "
      ],
      "metadata": {
        "id": "VNQKArdQBWeE"
      }
    },
    {
      "cell_type": "code",
      "source": [
        "df_merge = dataframe.merge(dataframe_2, on= 'id', how= 'left')\n",
        "df_merge"
      ],
      "metadata": {
        "id": "Oi-JuN6wBirZ",
        "colab": {
          "base_uri": "https://localhost:8080/",
          "height": 238
        },
        "outputId": "0355e7ef-f36e-4844-b435-6f452568d690"
      },
      "execution_count": null,
      "outputs": [
        {
          "output_type": "execute_result",
          "data": {
            "text/plain": [
              "   id   nomes  notas\n",
              "0   1   Maria   10.0\n",
              "1   2    José    8.0\n",
              "2   3   Pedro    3.0\n",
              "3   4    João    4.0\n",
              "4   5  Marcia    7.0\n",
              "5   6      Zé    NaN"
            ],
            "text/html": [
              "\n",
              "  <div id=\"df-07d58c8e-4f8c-45da-8e43-a88ecc5a416e\">\n",
              "    <div class=\"colab-df-container\">\n",
              "      <div>\n",
              "<style scoped>\n",
              "    .dataframe tbody tr th:only-of-type {\n",
              "        vertical-align: middle;\n",
              "    }\n",
              "\n",
              "    .dataframe tbody tr th {\n",
              "        vertical-align: top;\n",
              "    }\n",
              "\n",
              "    .dataframe thead th {\n",
              "        text-align: right;\n",
              "    }\n",
              "</style>\n",
              "<table border=\"1\" class=\"dataframe\">\n",
              "  <thead>\n",
              "    <tr style=\"text-align: right;\">\n",
              "      <th></th>\n",
              "      <th>id</th>\n",
              "      <th>nomes</th>\n",
              "      <th>notas</th>\n",
              "    </tr>\n",
              "  </thead>\n",
              "  <tbody>\n",
              "    <tr>\n",
              "      <th>0</th>\n",
              "      <td>1</td>\n",
              "      <td>Maria</td>\n",
              "      <td>10.0</td>\n",
              "    </tr>\n",
              "    <tr>\n",
              "      <th>1</th>\n",
              "      <td>2</td>\n",
              "      <td>José</td>\n",
              "      <td>8.0</td>\n",
              "    </tr>\n",
              "    <tr>\n",
              "      <th>2</th>\n",
              "      <td>3</td>\n",
              "      <td>Pedro</td>\n",
              "      <td>3.0</td>\n",
              "    </tr>\n",
              "    <tr>\n",
              "      <th>3</th>\n",
              "      <td>4</td>\n",
              "      <td>João</td>\n",
              "      <td>4.0</td>\n",
              "    </tr>\n",
              "    <tr>\n",
              "      <th>4</th>\n",
              "      <td>5</td>\n",
              "      <td>Marcia</td>\n",
              "      <td>7.0</td>\n",
              "    </tr>\n",
              "    <tr>\n",
              "      <th>5</th>\n",
              "      <td>6</td>\n",
              "      <td>Zé</td>\n",
              "      <td>NaN</td>\n",
              "    </tr>\n",
              "  </tbody>\n",
              "</table>\n",
              "</div>\n",
              "      <button class=\"colab-df-convert\" onclick=\"convertToInteractive('df-07d58c8e-4f8c-45da-8e43-a88ecc5a416e')\"\n",
              "              title=\"Convert this dataframe to an interactive table.\"\n",
              "              style=\"display:none;\">\n",
              "        \n",
              "  <svg xmlns=\"http://www.w3.org/2000/svg\" height=\"24px\"viewBox=\"0 0 24 24\"\n",
              "       width=\"24px\">\n",
              "    <path d=\"M0 0h24v24H0V0z\" fill=\"none\"/>\n",
              "    <path d=\"M18.56 5.44l.94 2.06.94-2.06 2.06-.94-2.06-.94-.94-2.06-.94 2.06-2.06.94zm-11 1L8.5 8.5l.94-2.06 2.06-.94-2.06-.94L8.5 2.5l-.94 2.06-2.06.94zm10 10l.94 2.06.94-2.06 2.06-.94-2.06-.94-.94-2.06-.94 2.06-2.06.94z\"/><path d=\"M17.41 7.96l-1.37-1.37c-.4-.4-.92-.59-1.43-.59-.52 0-1.04.2-1.43.59L10.3 9.45l-7.72 7.72c-.78.78-.78 2.05 0 2.83L4 21.41c.39.39.9.59 1.41.59.51 0 1.02-.2 1.41-.59l7.78-7.78 2.81-2.81c.8-.78.8-2.07 0-2.86zM5.41 20L4 18.59l7.72-7.72 1.47 1.35L5.41 20z\"/>\n",
              "  </svg>\n",
              "      </button>\n",
              "      \n",
              "  <style>\n",
              "    .colab-df-container {\n",
              "      display:flex;\n",
              "      flex-wrap:wrap;\n",
              "      gap: 12px;\n",
              "    }\n",
              "\n",
              "    .colab-df-convert {\n",
              "      background-color: #E8F0FE;\n",
              "      border: none;\n",
              "      border-radius: 50%;\n",
              "      cursor: pointer;\n",
              "      display: none;\n",
              "      fill: #1967D2;\n",
              "      height: 32px;\n",
              "      padding: 0 0 0 0;\n",
              "      width: 32px;\n",
              "    }\n",
              "\n",
              "    .colab-df-convert:hover {\n",
              "      background-color: #E2EBFA;\n",
              "      box-shadow: 0px 1px 2px rgba(60, 64, 67, 0.3), 0px 1px 3px 1px rgba(60, 64, 67, 0.15);\n",
              "      fill: #174EA6;\n",
              "    }\n",
              "\n",
              "    [theme=dark] .colab-df-convert {\n",
              "      background-color: #3B4455;\n",
              "      fill: #D2E3FC;\n",
              "    }\n",
              "\n",
              "    [theme=dark] .colab-df-convert:hover {\n",
              "      background-color: #434B5C;\n",
              "      box-shadow: 0px 1px 3px 1px rgba(0, 0, 0, 0.15);\n",
              "      filter: drop-shadow(0px 1px 2px rgba(0, 0, 0, 0.3));\n",
              "      fill: #FFFFFF;\n",
              "    }\n",
              "  </style>\n",
              "\n",
              "      <script>\n",
              "        const buttonEl =\n",
              "          document.querySelector('#df-07d58c8e-4f8c-45da-8e43-a88ecc5a416e button.colab-df-convert');\n",
              "        buttonEl.style.display =\n",
              "          google.colab.kernel.accessAllowed ? 'block' : 'none';\n",
              "\n",
              "        async function convertToInteractive(key) {\n",
              "          const element = document.querySelector('#df-07d58c8e-4f8c-45da-8e43-a88ecc5a416e');\n",
              "          const dataTable =\n",
              "            await google.colab.kernel.invokeFunction('convertToInteractive',\n",
              "                                                     [key], {});\n",
              "          if (!dataTable) return;\n",
              "\n",
              "          const docLinkHtml = 'Like what you see? Visit the ' +\n",
              "            '<a target=\"_blank\" href=https://colab.research.google.com/notebooks/data_table.ipynb>data table notebook</a>'\n",
              "            + ' to learn more about interactive tables.';\n",
              "          element.innerHTML = '';\n",
              "          dataTable['output_type'] = 'display_data';\n",
              "          await google.colab.output.renderOutput(dataTable, element);\n",
              "          const docLink = document.createElement('div');\n",
              "          docLink.innerHTML = docLinkHtml;\n",
              "          element.appendChild(docLink);\n",
              "        }\n",
              "      </script>\n",
              "    </div>\n",
              "  </div>\n",
              "  "
            ]
          },
          "metadata": {},
          "execution_count": 31
        }
      ]
    },
    {
      "cell_type": "markdown",
      "source": [
        "##### Concat"
      ],
      "metadata": {
        "id": "Ljr1xnRZ9PuZ"
      }
    },
    {
      "cell_type": "code",
      "source": [
        "dataframe_3 = pd.DataFrame({'id': [6,7,8,9,10],\n",
        "                          'nomes' : ['Danilo', 'Elias', 'Thalia', 'Helena', 'Danilo']})"
      ],
      "metadata": {
        "id": "XsJdrGTx9sxE"
      },
      "execution_count": null,
      "outputs": []
    },
    {
      "cell_type": "code",
      "source": [
        "df_concat = pd.concat([dataframe, dataframe_3])\n",
        "df_concat"
      ],
      "metadata": {
        "id": "yENO3vfX9Lxi"
      },
      "execution_count": null,
      "outputs": []
    },
    {
      "cell_type": "markdown",
      "source": [
        "#### Carregando dados"
      ],
      "metadata": {
        "id": "3l9sC8G6-em_"
      }
    },
    {
      "cell_type": "code",
      "source": [
        "df = pd.read_csv('https://github.com/EliasNsilva/Dados-curso-de-verao/blob/main/base_ENEM_AL.csv?raw=true')\n",
        "df"
      ],
      "metadata": {
        "id": "5iuc3KjvkAOK",
        "colab": {
          "base_uri": "https://localhost:8080/",
          "height": 505
        },
        "outputId": "9a26cb2a-a496-4c4c-d836-d40cc3fa415a"
      },
      "execution_count": null,
      "outputs": [
        {
          "output_type": "execute_result",
          "data": {
            "text/plain": [
              "       Unnamed: 0  NU_INSCRICAO  NU_ANO NO_MUNICIPIO_RESIDENCIA  \\\n",
              "0               0  190001336520  2019.0                 Messias   \n",
              "1               1  190001336521  2019.0                  Satuba   \n",
              "2               2  190001336522  2019.0                  Maceió   \n",
              "3               3  190001336523  2019.0             Porto Calvo   \n",
              "4               4  190001336524  2019.0      São José da Tapera   \n",
              "...           ...           ...     ...                     ...   \n",
              "64683       64683  190006119957  2019.0                  Maceió   \n",
              "64684       64684  190006119959  2019.0         Jequiá da Praia   \n",
              "64685       64685  190006119960  2019.0                  Maceió   \n",
              "64686       64686  190006119962  2019.0                Cajueiro   \n",
              "64687       64687  190006119964  2019.0               Flexeiras   \n",
              "\n",
              "      SG_UF_RESIDENCIA  NU_IDADE  TP_ESTADO_CIVIL TP_COR_RACA  \\\n",
              "0                   AL      19.0              1.0      Branca   \n",
              "1                   AL      18.0              1.0       Pardo   \n",
              "2                   AL      21.0              1.0       Pardo   \n",
              "3                   AL      19.0              1.0       Pardo   \n",
              "4                   AL      19.0              1.0      Branca   \n",
              "...                ...       ...              ...         ...   \n",
              "64683               AL      16.0              1.0      Branca   \n",
              "64684               AL      18.0              1.0       Pardo   \n",
              "64685               AL      16.0              1.0      Branca   \n",
              "64686               AL      19.0              1.0       Pardo   \n",
              "64687               AL      20.0              1.0       Pardo   \n",
              "\n",
              "      NO_MUNICIPIO_NASCIMENTO SG_UF_NASCIMENTO  ...  SG_UF_PROVA  \\\n",
              "0          Colônia Leopoldina               AL  ...           AL   \n",
              "1                      Maceió               AL  ...           AL   \n",
              "2                      Maceió               AL  ...           AL   \n",
              "3                      Recife               PE  ...           AL   \n",
              "4          São José da Tapera               AL  ...           AL   \n",
              "...                       ...              ...  ...          ...   \n",
              "64683                 Jandira               SP  ...           AL   \n",
              "64684                  Maceió               AL  ...           AL   \n",
              "64685                  Maceió               AL  ...           AL   \n",
              "64686                Cajueiro               AL  ...           AL   \n",
              "64687               Flexeiras               AL  ...           AL   \n",
              "\n",
              "      NU_NOTA_REDACAO  TP_STATUS_REDACAO NU_NOTA_CN  NU_NOTA_CH NU_NOTA_LC  \\\n",
              "0               480.0                1.0      525.9       390.0      378.6   \n",
              "1               640.0                1.0      438.1       552.4      537.6   \n",
              "2               780.0                1.0      494.5       519.3      529.0   \n",
              "3               580.0                1.0      439.6       425.8      519.9   \n",
              "4               300.0                1.0      413.6       483.0      504.3   \n",
              "...               ...                ...        ...         ...        ...   \n",
              "64683           540.0                1.0      373.5       465.0      449.7   \n",
              "64684           580.0                1.0      539.4       458.8      531.9   \n",
              "64685           720.0                1.0      501.4       521.7      534.8   \n",
              "64686           620.0                1.0      416.8       539.7      539.1   \n",
              "64687           540.0                1.0      390.8       454.7      507.6   \n",
              "\n",
              "      NU_NOTA_MT  IN_TREINEIRO  TP_LINGUA  NOTA_ENEN  \n",
              "0          378.9           NAO   ESPANHOL     430.68  \n",
              "1          513.7           NAO     INGLES     536.36  \n",
              "2          496.7           NAO     INGLES     563.90  \n",
              "3          423.8           NAO   ESPANHOL     477.82  \n",
              "4          417.2           NAO     INGLES     423.62  \n",
              "...          ...           ...        ...        ...  \n",
              "64683      524.9           SIM   ESPANHOL     470.62  \n",
              "64684      652.1           NAO     INGLES     552.44  \n",
              "64685      580.4           NAO   ESPANHOL     571.66  \n",
              "64686      643.4           NAO     INGLES     551.80  \n",
              "64687      441.4           NAO     INGLES     466.90  \n",
              "\n",
              "[64688 rows x 26 columns]"
            ],
            "text/html": [
              "\n",
              "  <div id=\"df-cebbc157-2d24-4d33-ad09-e76cd8c01d0e\">\n",
              "    <div class=\"colab-df-container\">\n",
              "      <div>\n",
              "<style scoped>\n",
              "    .dataframe tbody tr th:only-of-type {\n",
              "        vertical-align: middle;\n",
              "    }\n",
              "\n",
              "    .dataframe tbody tr th {\n",
              "        vertical-align: top;\n",
              "    }\n",
              "\n",
              "    .dataframe thead th {\n",
              "        text-align: right;\n",
              "    }\n",
              "</style>\n",
              "<table border=\"1\" class=\"dataframe\">\n",
              "  <thead>\n",
              "    <tr style=\"text-align: right;\">\n",
              "      <th></th>\n",
              "      <th>Unnamed: 0</th>\n",
              "      <th>NU_INSCRICAO</th>\n",
              "      <th>NU_ANO</th>\n",
              "      <th>NO_MUNICIPIO_RESIDENCIA</th>\n",
              "      <th>SG_UF_RESIDENCIA</th>\n",
              "      <th>NU_IDADE</th>\n",
              "      <th>TP_ESTADO_CIVIL</th>\n",
              "      <th>TP_COR_RACA</th>\n",
              "      <th>NO_MUNICIPIO_NASCIMENTO</th>\n",
              "      <th>SG_UF_NASCIMENTO</th>\n",
              "      <th>...</th>\n",
              "      <th>SG_UF_PROVA</th>\n",
              "      <th>NU_NOTA_REDACAO</th>\n",
              "      <th>TP_STATUS_REDACAO</th>\n",
              "      <th>NU_NOTA_CN</th>\n",
              "      <th>NU_NOTA_CH</th>\n",
              "      <th>NU_NOTA_LC</th>\n",
              "      <th>NU_NOTA_MT</th>\n",
              "      <th>IN_TREINEIRO</th>\n",
              "      <th>TP_LINGUA</th>\n",
              "      <th>NOTA_ENEN</th>\n",
              "    </tr>\n",
              "  </thead>\n",
              "  <tbody>\n",
              "    <tr>\n",
              "      <th>0</th>\n",
              "      <td>0</td>\n",
              "      <td>190001336520</td>\n",
              "      <td>2019.0</td>\n",
              "      <td>Messias</td>\n",
              "      <td>AL</td>\n",
              "      <td>19.0</td>\n",
              "      <td>1.0</td>\n",
              "      <td>Branca</td>\n",
              "      <td>Colônia Leopoldina</td>\n",
              "      <td>AL</td>\n",
              "      <td>...</td>\n",
              "      <td>AL</td>\n",
              "      <td>480.0</td>\n",
              "      <td>1.0</td>\n",
              "      <td>525.9</td>\n",
              "      <td>390.0</td>\n",
              "      <td>378.6</td>\n",
              "      <td>378.9</td>\n",
              "      <td>NAO</td>\n",
              "      <td>ESPANHOL</td>\n",
              "      <td>430.68</td>\n",
              "    </tr>\n",
              "    <tr>\n",
              "      <th>1</th>\n",
              "      <td>1</td>\n",
              "      <td>190001336521</td>\n",
              "      <td>2019.0</td>\n",
              "      <td>Satuba</td>\n",
              "      <td>AL</td>\n",
              "      <td>18.0</td>\n",
              "      <td>1.0</td>\n",
              "      <td>Pardo</td>\n",
              "      <td>Maceió</td>\n",
              "      <td>AL</td>\n",
              "      <td>...</td>\n",
              "      <td>AL</td>\n",
              "      <td>640.0</td>\n",
              "      <td>1.0</td>\n",
              "      <td>438.1</td>\n",
              "      <td>552.4</td>\n",
              "      <td>537.6</td>\n",
              "      <td>513.7</td>\n",
              "      <td>NAO</td>\n",
              "      <td>INGLES</td>\n",
              "      <td>536.36</td>\n",
              "    </tr>\n",
              "    <tr>\n",
              "      <th>2</th>\n",
              "      <td>2</td>\n",
              "      <td>190001336522</td>\n",
              "      <td>2019.0</td>\n",
              "      <td>Maceió</td>\n",
              "      <td>AL</td>\n",
              "      <td>21.0</td>\n",
              "      <td>1.0</td>\n",
              "      <td>Pardo</td>\n",
              "      <td>Maceió</td>\n",
              "      <td>AL</td>\n",
              "      <td>...</td>\n",
              "      <td>AL</td>\n",
              "      <td>780.0</td>\n",
              "      <td>1.0</td>\n",
              "      <td>494.5</td>\n",
              "      <td>519.3</td>\n",
              "      <td>529.0</td>\n",
              "      <td>496.7</td>\n",
              "      <td>NAO</td>\n",
              "      <td>INGLES</td>\n",
              "      <td>563.90</td>\n",
              "    </tr>\n",
              "    <tr>\n",
              "      <th>3</th>\n",
              "      <td>3</td>\n",
              "      <td>190001336523</td>\n",
              "      <td>2019.0</td>\n",
              "      <td>Porto Calvo</td>\n",
              "      <td>AL</td>\n",
              "      <td>19.0</td>\n",
              "      <td>1.0</td>\n",
              "      <td>Pardo</td>\n",
              "      <td>Recife</td>\n",
              "      <td>PE</td>\n",
              "      <td>...</td>\n",
              "      <td>AL</td>\n",
              "      <td>580.0</td>\n",
              "      <td>1.0</td>\n",
              "      <td>439.6</td>\n",
              "      <td>425.8</td>\n",
              "      <td>519.9</td>\n",
              "      <td>423.8</td>\n",
              "      <td>NAO</td>\n",
              "      <td>ESPANHOL</td>\n",
              "      <td>477.82</td>\n",
              "    </tr>\n",
              "    <tr>\n",
              "      <th>4</th>\n",
              "      <td>4</td>\n",
              "      <td>190001336524</td>\n",
              "      <td>2019.0</td>\n",
              "      <td>São José da Tapera</td>\n",
              "      <td>AL</td>\n",
              "      <td>19.0</td>\n",
              "      <td>1.0</td>\n",
              "      <td>Branca</td>\n",
              "      <td>São José da Tapera</td>\n",
              "      <td>AL</td>\n",
              "      <td>...</td>\n",
              "      <td>AL</td>\n",
              "      <td>300.0</td>\n",
              "      <td>1.0</td>\n",
              "      <td>413.6</td>\n",
              "      <td>483.0</td>\n",
              "      <td>504.3</td>\n",
              "      <td>417.2</td>\n",
              "      <td>NAO</td>\n",
              "      <td>INGLES</td>\n",
              "      <td>423.62</td>\n",
              "    </tr>\n",
              "    <tr>\n",
              "      <th>...</th>\n",
              "      <td>...</td>\n",
              "      <td>...</td>\n",
              "      <td>...</td>\n",
              "      <td>...</td>\n",
              "      <td>...</td>\n",
              "      <td>...</td>\n",
              "      <td>...</td>\n",
              "      <td>...</td>\n",
              "      <td>...</td>\n",
              "      <td>...</td>\n",
              "      <td>...</td>\n",
              "      <td>...</td>\n",
              "      <td>...</td>\n",
              "      <td>...</td>\n",
              "      <td>...</td>\n",
              "      <td>...</td>\n",
              "      <td>...</td>\n",
              "      <td>...</td>\n",
              "      <td>...</td>\n",
              "      <td>...</td>\n",
              "      <td>...</td>\n",
              "    </tr>\n",
              "    <tr>\n",
              "      <th>64683</th>\n",
              "      <td>64683</td>\n",
              "      <td>190006119957</td>\n",
              "      <td>2019.0</td>\n",
              "      <td>Maceió</td>\n",
              "      <td>AL</td>\n",
              "      <td>16.0</td>\n",
              "      <td>1.0</td>\n",
              "      <td>Branca</td>\n",
              "      <td>Jandira</td>\n",
              "      <td>SP</td>\n",
              "      <td>...</td>\n",
              "      <td>AL</td>\n",
              "      <td>540.0</td>\n",
              "      <td>1.0</td>\n",
              "      <td>373.5</td>\n",
              "      <td>465.0</td>\n",
              "      <td>449.7</td>\n",
              "      <td>524.9</td>\n",
              "      <td>SIM</td>\n",
              "      <td>ESPANHOL</td>\n",
              "      <td>470.62</td>\n",
              "    </tr>\n",
              "    <tr>\n",
              "      <th>64684</th>\n",
              "      <td>64684</td>\n",
              "      <td>190006119959</td>\n",
              "      <td>2019.0</td>\n",
              "      <td>Jequiá da Praia</td>\n",
              "      <td>AL</td>\n",
              "      <td>18.0</td>\n",
              "      <td>1.0</td>\n",
              "      <td>Pardo</td>\n",
              "      <td>Maceió</td>\n",
              "      <td>AL</td>\n",
              "      <td>...</td>\n",
              "      <td>AL</td>\n",
              "      <td>580.0</td>\n",
              "      <td>1.0</td>\n",
              "      <td>539.4</td>\n",
              "      <td>458.8</td>\n",
              "      <td>531.9</td>\n",
              "      <td>652.1</td>\n",
              "      <td>NAO</td>\n",
              "      <td>INGLES</td>\n",
              "      <td>552.44</td>\n",
              "    </tr>\n",
              "    <tr>\n",
              "      <th>64685</th>\n",
              "      <td>64685</td>\n",
              "      <td>190006119960</td>\n",
              "      <td>2019.0</td>\n",
              "      <td>Maceió</td>\n",
              "      <td>AL</td>\n",
              "      <td>16.0</td>\n",
              "      <td>1.0</td>\n",
              "      <td>Branca</td>\n",
              "      <td>Maceió</td>\n",
              "      <td>AL</td>\n",
              "      <td>...</td>\n",
              "      <td>AL</td>\n",
              "      <td>720.0</td>\n",
              "      <td>1.0</td>\n",
              "      <td>501.4</td>\n",
              "      <td>521.7</td>\n",
              "      <td>534.8</td>\n",
              "      <td>580.4</td>\n",
              "      <td>NAO</td>\n",
              "      <td>ESPANHOL</td>\n",
              "      <td>571.66</td>\n",
              "    </tr>\n",
              "    <tr>\n",
              "      <th>64686</th>\n",
              "      <td>64686</td>\n",
              "      <td>190006119962</td>\n",
              "      <td>2019.0</td>\n",
              "      <td>Cajueiro</td>\n",
              "      <td>AL</td>\n",
              "      <td>19.0</td>\n",
              "      <td>1.0</td>\n",
              "      <td>Pardo</td>\n",
              "      <td>Cajueiro</td>\n",
              "      <td>AL</td>\n",
              "      <td>...</td>\n",
              "      <td>AL</td>\n",
              "      <td>620.0</td>\n",
              "      <td>1.0</td>\n",
              "      <td>416.8</td>\n",
              "      <td>539.7</td>\n",
              "      <td>539.1</td>\n",
              "      <td>643.4</td>\n",
              "      <td>NAO</td>\n",
              "      <td>INGLES</td>\n",
              "      <td>551.80</td>\n",
              "    </tr>\n",
              "    <tr>\n",
              "      <th>64687</th>\n",
              "      <td>64687</td>\n",
              "      <td>190006119964</td>\n",
              "      <td>2019.0</td>\n",
              "      <td>Flexeiras</td>\n",
              "      <td>AL</td>\n",
              "      <td>20.0</td>\n",
              "      <td>1.0</td>\n",
              "      <td>Pardo</td>\n",
              "      <td>Flexeiras</td>\n",
              "      <td>AL</td>\n",
              "      <td>...</td>\n",
              "      <td>AL</td>\n",
              "      <td>540.0</td>\n",
              "      <td>1.0</td>\n",
              "      <td>390.8</td>\n",
              "      <td>454.7</td>\n",
              "      <td>507.6</td>\n",
              "      <td>441.4</td>\n",
              "      <td>NAO</td>\n",
              "      <td>INGLES</td>\n",
              "      <td>466.90</td>\n",
              "    </tr>\n",
              "  </tbody>\n",
              "</table>\n",
              "<p>64688 rows × 26 columns</p>\n",
              "</div>\n",
              "      <button class=\"colab-df-convert\" onclick=\"convertToInteractive('df-cebbc157-2d24-4d33-ad09-e76cd8c01d0e')\"\n",
              "              title=\"Convert this dataframe to an interactive table.\"\n",
              "              style=\"display:none;\">\n",
              "        \n",
              "  <svg xmlns=\"http://www.w3.org/2000/svg\" height=\"24px\"viewBox=\"0 0 24 24\"\n",
              "       width=\"24px\">\n",
              "    <path d=\"M0 0h24v24H0V0z\" fill=\"none\"/>\n",
              "    <path d=\"M18.56 5.44l.94 2.06.94-2.06 2.06-.94-2.06-.94-.94-2.06-.94 2.06-2.06.94zm-11 1L8.5 8.5l.94-2.06 2.06-.94-2.06-.94L8.5 2.5l-.94 2.06-2.06.94zm10 10l.94 2.06.94-2.06 2.06-.94-2.06-.94-.94-2.06-.94 2.06-2.06.94z\"/><path d=\"M17.41 7.96l-1.37-1.37c-.4-.4-.92-.59-1.43-.59-.52 0-1.04.2-1.43.59L10.3 9.45l-7.72 7.72c-.78.78-.78 2.05 0 2.83L4 21.41c.39.39.9.59 1.41.59.51 0 1.02-.2 1.41-.59l7.78-7.78 2.81-2.81c.8-.78.8-2.07 0-2.86zM5.41 20L4 18.59l7.72-7.72 1.47 1.35L5.41 20z\"/>\n",
              "  </svg>\n",
              "      </button>\n",
              "      \n",
              "  <style>\n",
              "    .colab-df-container {\n",
              "      display:flex;\n",
              "      flex-wrap:wrap;\n",
              "      gap: 12px;\n",
              "    }\n",
              "\n",
              "    .colab-df-convert {\n",
              "      background-color: #E8F0FE;\n",
              "      border: none;\n",
              "      border-radius: 50%;\n",
              "      cursor: pointer;\n",
              "      display: none;\n",
              "      fill: #1967D2;\n",
              "      height: 32px;\n",
              "      padding: 0 0 0 0;\n",
              "      width: 32px;\n",
              "    }\n",
              "\n",
              "    .colab-df-convert:hover {\n",
              "      background-color: #E2EBFA;\n",
              "      box-shadow: 0px 1px 2px rgba(60, 64, 67, 0.3), 0px 1px 3px 1px rgba(60, 64, 67, 0.15);\n",
              "      fill: #174EA6;\n",
              "    }\n",
              "\n",
              "    [theme=dark] .colab-df-convert {\n",
              "      background-color: #3B4455;\n",
              "      fill: #D2E3FC;\n",
              "    }\n",
              "\n",
              "    [theme=dark] .colab-df-convert:hover {\n",
              "      background-color: #434B5C;\n",
              "      box-shadow: 0px 1px 3px 1px rgba(0, 0, 0, 0.15);\n",
              "      filter: drop-shadow(0px 1px 2px rgba(0, 0, 0, 0.3));\n",
              "      fill: #FFFFFF;\n",
              "    }\n",
              "  </style>\n",
              "\n",
              "      <script>\n",
              "        const buttonEl =\n",
              "          document.querySelector('#df-cebbc157-2d24-4d33-ad09-e76cd8c01d0e button.colab-df-convert');\n",
              "        buttonEl.style.display =\n",
              "          google.colab.kernel.accessAllowed ? 'block' : 'none';\n",
              "\n",
              "        async function convertToInteractive(key) {\n",
              "          const element = document.querySelector('#df-cebbc157-2d24-4d33-ad09-e76cd8c01d0e');\n",
              "          const dataTable =\n",
              "            await google.colab.kernel.invokeFunction('convertToInteractive',\n",
              "                                                     [key], {});\n",
              "          if (!dataTable) return;\n",
              "\n",
              "          const docLinkHtml = 'Like what you see? Visit the ' +\n",
              "            '<a target=\"_blank\" href=https://colab.research.google.com/notebooks/data_table.ipynb>data table notebook</a>'\n",
              "            + ' to learn more about interactive tables.';\n",
              "          element.innerHTML = '';\n",
              "          dataTable['output_type'] = 'display_data';\n",
              "          await google.colab.output.renderOutput(dataTable, element);\n",
              "          const docLink = document.createElement('div');\n",
              "          docLink.innerHTML = docLinkHtml;\n",
              "          element.appendChild(docLink);\n",
              "        }\n",
              "      </script>\n",
              "    </div>\n",
              "  </div>\n",
              "  "
            ]
          },
          "metadata": {},
          "execution_count": 37
        }
      ]
    },
    {
      "cell_type": "markdown",
      "source": [
        "#### Informações sobre os dados"
      ],
      "metadata": {
        "id": "2TBhJ7tC-iG5"
      }
    },
    {
      "cell_type": "code",
      "source": [
        "df.describe()"
      ],
      "metadata": {
        "id": "utArnXbznFGc",
        "colab": {
          "base_uri": "https://localhost:8080/",
          "height": 300
        },
        "outputId": "1ba01b83-a687-4cb7-fb1d-fa2c4dda931d"
      },
      "execution_count": null,
      "outputs": [
        {
          "output_type": "execute_result",
          "data": {
            "text/plain": [
              "         Unnamed: 0  NU_INSCRICAO   NU_ANO      NU_IDADE  TP_ESTADO_CIVIL  \\\n",
              "count  64688.000000  6.468800e+04  64688.0  64688.000000     64688.000000   \n",
              "mean   32343.500000  1.900033e+11   2019.0     21.798046         1.088734   \n",
              "std    18673.961444  1.364414e+06      0.0      6.793155         0.434115   \n",
              "min        0.000000  1.900013e+11   2019.0     13.000000         0.000000   \n",
              "25%    16171.750000  1.900023e+11   2019.0     18.000000         1.000000   \n",
              "50%    32343.500000  1.900034e+11   2019.0     19.000000         1.000000   \n",
              "75%    48515.250000  1.900044e+11   2019.0     23.000000         1.000000   \n",
              "max    64687.000000  1.900061e+11   2019.0     79.000000         4.000000   \n",
              "\n",
              "       TP_ST_CONCLUSAO     TP_ENSINO     CO_ESCOLA  NU_NOTA_REDACAO  \\\n",
              "count     64688.000000  39870.000000  1.376000e+04     64688.000000   \n",
              "mean          1.493971      1.005794  2.707711e+07       585.978234   \n",
              "std           0.690495      0.075897  2.440359e+05       150.601994   \n",
              "min           1.000000      1.000000  1.503589e+07        40.000000   \n",
              "25%           1.000000      1.000000  2.702027e+07       500.000000   \n",
              "50%           1.000000      1.000000  2.703678e+07       580.000000   \n",
              "75%           2.000000      1.000000  2.704783e+07       660.000000   \n",
              "max           4.000000      2.000000  4.208118e+07      1000.000000   \n",
              "\n",
              "       TP_STATUS_REDACAO    NU_NOTA_CN    NU_NOTA_CH    NU_NOTA_LC  \\\n",
              "count            64688.0  64688.000000  64688.000000  64688.000000   \n",
              "mean                 1.0    460.451540    490.256626    506.793696   \n",
              "std                  0.0     70.338466     76.865636     61.749094   \n",
              "min                  1.0    327.900000    315.900000    323.400000   \n",
              "25%                  1.0    406.300000    431.900000    468.200000   \n",
              "50%                  1.0    450.500000    488.400000    510.400000   \n",
              "75%                  1.0    507.600000    546.400000    549.800000   \n",
              "max                  1.0    790.600000    772.600000    758.900000   \n",
              "\n",
              "         NU_NOTA_MT     NOTA_ENEN  \n",
              "count  64688.000000  64688.000000  \n",
              "mean     502.240855    509.144190  \n",
              "std      101.022527     74.170751  \n",
              "min      359.000000    318.440000  \n",
              "25%      423.000000    455.200000  \n",
              "50%      477.500000    497.220000  \n",
              "75%      564.300000    553.040000  \n",
              "max      967.000000    796.140000  "
            ],
            "text/html": [
              "\n",
              "  <div id=\"df-35a1e46a-a15f-4437-a4bc-cd200ac2c8a5\">\n",
              "    <div class=\"colab-df-container\">\n",
              "      <div>\n",
              "<style scoped>\n",
              "    .dataframe tbody tr th:only-of-type {\n",
              "        vertical-align: middle;\n",
              "    }\n",
              "\n",
              "    .dataframe tbody tr th {\n",
              "        vertical-align: top;\n",
              "    }\n",
              "\n",
              "    .dataframe thead th {\n",
              "        text-align: right;\n",
              "    }\n",
              "</style>\n",
              "<table border=\"1\" class=\"dataframe\">\n",
              "  <thead>\n",
              "    <tr style=\"text-align: right;\">\n",
              "      <th></th>\n",
              "      <th>Unnamed: 0</th>\n",
              "      <th>NU_INSCRICAO</th>\n",
              "      <th>NU_ANO</th>\n",
              "      <th>NU_IDADE</th>\n",
              "      <th>TP_ESTADO_CIVIL</th>\n",
              "      <th>TP_ST_CONCLUSAO</th>\n",
              "      <th>TP_ENSINO</th>\n",
              "      <th>CO_ESCOLA</th>\n",
              "      <th>NU_NOTA_REDACAO</th>\n",
              "      <th>TP_STATUS_REDACAO</th>\n",
              "      <th>NU_NOTA_CN</th>\n",
              "      <th>NU_NOTA_CH</th>\n",
              "      <th>NU_NOTA_LC</th>\n",
              "      <th>NU_NOTA_MT</th>\n",
              "      <th>NOTA_ENEN</th>\n",
              "    </tr>\n",
              "  </thead>\n",
              "  <tbody>\n",
              "    <tr>\n",
              "      <th>count</th>\n",
              "      <td>64688.000000</td>\n",
              "      <td>6.468800e+04</td>\n",
              "      <td>64688.0</td>\n",
              "      <td>64688.000000</td>\n",
              "      <td>64688.000000</td>\n",
              "      <td>64688.000000</td>\n",
              "      <td>39870.000000</td>\n",
              "      <td>1.376000e+04</td>\n",
              "      <td>64688.000000</td>\n",
              "      <td>64688.0</td>\n",
              "      <td>64688.000000</td>\n",
              "      <td>64688.000000</td>\n",
              "      <td>64688.000000</td>\n",
              "      <td>64688.000000</td>\n",
              "      <td>64688.000000</td>\n",
              "    </tr>\n",
              "    <tr>\n",
              "      <th>mean</th>\n",
              "      <td>32343.500000</td>\n",
              "      <td>1.900033e+11</td>\n",
              "      <td>2019.0</td>\n",
              "      <td>21.798046</td>\n",
              "      <td>1.088734</td>\n",
              "      <td>1.493971</td>\n",
              "      <td>1.005794</td>\n",
              "      <td>2.707711e+07</td>\n",
              "      <td>585.978234</td>\n",
              "      <td>1.0</td>\n",
              "      <td>460.451540</td>\n",
              "      <td>490.256626</td>\n",
              "      <td>506.793696</td>\n",
              "      <td>502.240855</td>\n",
              "      <td>509.144190</td>\n",
              "    </tr>\n",
              "    <tr>\n",
              "      <th>std</th>\n",
              "      <td>18673.961444</td>\n",
              "      <td>1.364414e+06</td>\n",
              "      <td>0.0</td>\n",
              "      <td>6.793155</td>\n",
              "      <td>0.434115</td>\n",
              "      <td>0.690495</td>\n",
              "      <td>0.075897</td>\n",
              "      <td>2.440359e+05</td>\n",
              "      <td>150.601994</td>\n",
              "      <td>0.0</td>\n",
              "      <td>70.338466</td>\n",
              "      <td>76.865636</td>\n",
              "      <td>61.749094</td>\n",
              "      <td>101.022527</td>\n",
              "      <td>74.170751</td>\n",
              "    </tr>\n",
              "    <tr>\n",
              "      <th>min</th>\n",
              "      <td>0.000000</td>\n",
              "      <td>1.900013e+11</td>\n",
              "      <td>2019.0</td>\n",
              "      <td>13.000000</td>\n",
              "      <td>0.000000</td>\n",
              "      <td>1.000000</td>\n",
              "      <td>1.000000</td>\n",
              "      <td>1.503589e+07</td>\n",
              "      <td>40.000000</td>\n",
              "      <td>1.0</td>\n",
              "      <td>327.900000</td>\n",
              "      <td>315.900000</td>\n",
              "      <td>323.400000</td>\n",
              "      <td>359.000000</td>\n",
              "      <td>318.440000</td>\n",
              "    </tr>\n",
              "    <tr>\n",
              "      <th>25%</th>\n",
              "      <td>16171.750000</td>\n",
              "      <td>1.900023e+11</td>\n",
              "      <td>2019.0</td>\n",
              "      <td>18.000000</td>\n",
              "      <td>1.000000</td>\n",
              "      <td>1.000000</td>\n",
              "      <td>1.000000</td>\n",
              "      <td>2.702027e+07</td>\n",
              "      <td>500.000000</td>\n",
              "      <td>1.0</td>\n",
              "      <td>406.300000</td>\n",
              "      <td>431.900000</td>\n",
              "      <td>468.200000</td>\n",
              "      <td>423.000000</td>\n",
              "      <td>455.200000</td>\n",
              "    </tr>\n",
              "    <tr>\n",
              "      <th>50%</th>\n",
              "      <td>32343.500000</td>\n",
              "      <td>1.900034e+11</td>\n",
              "      <td>2019.0</td>\n",
              "      <td>19.000000</td>\n",
              "      <td>1.000000</td>\n",
              "      <td>1.000000</td>\n",
              "      <td>1.000000</td>\n",
              "      <td>2.703678e+07</td>\n",
              "      <td>580.000000</td>\n",
              "      <td>1.0</td>\n",
              "      <td>450.500000</td>\n",
              "      <td>488.400000</td>\n",
              "      <td>510.400000</td>\n",
              "      <td>477.500000</td>\n",
              "      <td>497.220000</td>\n",
              "    </tr>\n",
              "    <tr>\n",
              "      <th>75%</th>\n",
              "      <td>48515.250000</td>\n",
              "      <td>1.900044e+11</td>\n",
              "      <td>2019.0</td>\n",
              "      <td>23.000000</td>\n",
              "      <td>1.000000</td>\n",
              "      <td>2.000000</td>\n",
              "      <td>1.000000</td>\n",
              "      <td>2.704783e+07</td>\n",
              "      <td>660.000000</td>\n",
              "      <td>1.0</td>\n",
              "      <td>507.600000</td>\n",
              "      <td>546.400000</td>\n",
              "      <td>549.800000</td>\n",
              "      <td>564.300000</td>\n",
              "      <td>553.040000</td>\n",
              "    </tr>\n",
              "    <tr>\n",
              "      <th>max</th>\n",
              "      <td>64687.000000</td>\n",
              "      <td>1.900061e+11</td>\n",
              "      <td>2019.0</td>\n",
              "      <td>79.000000</td>\n",
              "      <td>4.000000</td>\n",
              "      <td>4.000000</td>\n",
              "      <td>2.000000</td>\n",
              "      <td>4.208118e+07</td>\n",
              "      <td>1000.000000</td>\n",
              "      <td>1.0</td>\n",
              "      <td>790.600000</td>\n",
              "      <td>772.600000</td>\n",
              "      <td>758.900000</td>\n",
              "      <td>967.000000</td>\n",
              "      <td>796.140000</td>\n",
              "    </tr>\n",
              "  </tbody>\n",
              "</table>\n",
              "</div>\n",
              "      <button class=\"colab-df-convert\" onclick=\"convertToInteractive('df-35a1e46a-a15f-4437-a4bc-cd200ac2c8a5')\"\n",
              "              title=\"Convert this dataframe to an interactive table.\"\n",
              "              style=\"display:none;\">\n",
              "        \n",
              "  <svg xmlns=\"http://www.w3.org/2000/svg\" height=\"24px\"viewBox=\"0 0 24 24\"\n",
              "       width=\"24px\">\n",
              "    <path d=\"M0 0h24v24H0V0z\" fill=\"none\"/>\n",
              "    <path d=\"M18.56 5.44l.94 2.06.94-2.06 2.06-.94-2.06-.94-.94-2.06-.94 2.06-2.06.94zm-11 1L8.5 8.5l.94-2.06 2.06-.94-2.06-.94L8.5 2.5l-.94 2.06-2.06.94zm10 10l.94 2.06.94-2.06 2.06-.94-2.06-.94-.94-2.06-.94 2.06-2.06.94z\"/><path d=\"M17.41 7.96l-1.37-1.37c-.4-.4-.92-.59-1.43-.59-.52 0-1.04.2-1.43.59L10.3 9.45l-7.72 7.72c-.78.78-.78 2.05 0 2.83L4 21.41c.39.39.9.59 1.41.59.51 0 1.02-.2 1.41-.59l7.78-7.78 2.81-2.81c.8-.78.8-2.07 0-2.86zM5.41 20L4 18.59l7.72-7.72 1.47 1.35L5.41 20z\"/>\n",
              "  </svg>\n",
              "      </button>\n",
              "      \n",
              "  <style>\n",
              "    .colab-df-container {\n",
              "      display:flex;\n",
              "      flex-wrap:wrap;\n",
              "      gap: 12px;\n",
              "    }\n",
              "\n",
              "    .colab-df-convert {\n",
              "      background-color: #E8F0FE;\n",
              "      border: none;\n",
              "      border-radius: 50%;\n",
              "      cursor: pointer;\n",
              "      display: none;\n",
              "      fill: #1967D2;\n",
              "      height: 32px;\n",
              "      padding: 0 0 0 0;\n",
              "      width: 32px;\n",
              "    }\n",
              "\n",
              "    .colab-df-convert:hover {\n",
              "      background-color: #E2EBFA;\n",
              "      box-shadow: 0px 1px 2px rgba(60, 64, 67, 0.3), 0px 1px 3px 1px rgba(60, 64, 67, 0.15);\n",
              "      fill: #174EA6;\n",
              "    }\n",
              "\n",
              "    [theme=dark] .colab-df-convert {\n",
              "      background-color: #3B4455;\n",
              "      fill: #D2E3FC;\n",
              "    }\n",
              "\n",
              "    [theme=dark] .colab-df-convert:hover {\n",
              "      background-color: #434B5C;\n",
              "      box-shadow: 0px 1px 3px 1px rgba(0, 0, 0, 0.15);\n",
              "      filter: drop-shadow(0px 1px 2px rgba(0, 0, 0, 0.3));\n",
              "      fill: #FFFFFF;\n",
              "    }\n",
              "  </style>\n",
              "\n",
              "      <script>\n",
              "        const buttonEl =\n",
              "          document.querySelector('#df-35a1e46a-a15f-4437-a4bc-cd200ac2c8a5 button.colab-df-convert');\n",
              "        buttonEl.style.display =\n",
              "          google.colab.kernel.accessAllowed ? 'block' : 'none';\n",
              "\n",
              "        async function convertToInteractive(key) {\n",
              "          const element = document.querySelector('#df-35a1e46a-a15f-4437-a4bc-cd200ac2c8a5');\n",
              "          const dataTable =\n",
              "            await google.colab.kernel.invokeFunction('convertToInteractive',\n",
              "                                                     [key], {});\n",
              "          if (!dataTable) return;\n",
              "\n",
              "          const docLinkHtml = 'Like what you see? Visit the ' +\n",
              "            '<a target=\"_blank\" href=https://colab.research.google.com/notebooks/data_table.ipynb>data table notebook</a>'\n",
              "            + ' to learn more about interactive tables.';\n",
              "          element.innerHTML = '';\n",
              "          dataTable['output_type'] = 'display_data';\n",
              "          await google.colab.output.renderOutput(dataTable, element);\n",
              "          const docLink = document.createElement('div');\n",
              "          docLink.innerHTML = docLinkHtml;\n",
              "          element.appendChild(docLink);\n",
              "        }\n",
              "      </script>\n",
              "    </div>\n",
              "  </div>\n",
              "  "
            ]
          },
          "metadata": {},
          "execution_count": 38
        }
      ]
    },
    {
      "cell_type": "markdown",
      "source": [
        "#### Máximo e minimo"
      ],
      "metadata": {
        "id": "IEda-4v97adw"
      }
    },
    {
      "cell_type": "code",
      "source": [
        "df['NU_NOTA_REDACAO'].max()"
      ],
      "metadata": {
        "id": "VrIyD7VV5790",
        "colab": {
          "base_uri": "https://localhost:8080/"
        },
        "outputId": "0cdd5abd-9b36-4e93-9e1e-ed0cefa12640"
      },
      "execution_count": null,
      "outputs": [
        {
          "output_type": "execute_result",
          "data": {
            "text/plain": [
              "1000.0"
            ]
          },
          "metadata": {},
          "execution_count": 39
        }
      ]
    },
    {
      "cell_type": "code",
      "source": [
        "df['NU_NOTA_REDACAO'].min()"
      ],
      "metadata": {
        "id": "PPuT3FNB8fCl",
        "colab": {
          "base_uri": "https://localhost:8080/"
        },
        "outputId": "0e7208c2-c712-4a41-b750-8a761c83c2e6"
      },
      "execution_count": null,
      "outputs": [
        {
          "output_type": "execute_result",
          "data": {
            "text/plain": [
              "40.0"
            ]
          },
          "metadata": {},
          "execution_count": 40
        }
      ]
    },
    {
      "cell_type": "markdown",
      "source": [
        "#### Agrupando dados"
      ],
      "metadata": {
        "id": "xvwklCrn58es"
      }
    },
    {
      "cell_type": "code",
      "source": [
        "df_group = df.groupby(by='NO_MUNICIPIO_RESIDENCIA', as_index=False).mean()\n",
        "df_group"
      ],
      "metadata": {
        "id": "GuqGbvcax9xA",
        "colab": {
          "base_uri": "https://localhost:8080/",
          "height": 424
        },
        "outputId": "a2de0f1f-1762-4cbf-8839-97413c117b3a"
      },
      "execution_count": null,
      "outputs": [
        {
          "output_type": "execute_result",
          "data": {
            "text/plain": [
              "    NO_MUNICIPIO_RESIDENCIA    Unnamed: 0  NU_INSCRICAO  NU_ANO   NU_IDADE  \\\n",
              "0                    Anadia  29698.977860  1.900031e+11  2019.0  20.376384   \n",
              "1                 Arapiraca  31931.531429  1.900033e+11  2019.0  22.019320   \n",
              "2                   Atalaia  31696.286538  1.900033e+11  2019.0  22.040385   \n",
              "3    Barra de Santo Antônio  29747.982249  1.900032e+11  2019.0  21.508876   \n",
              "4       Barra de São Miguel  28596.389381  1.900031e+11  2019.0  20.743363   \n",
              "..                      ...           ...           ...     ...        ...   \n",
              "97          Teotônio Vilela  30095.252480  1.900032e+11  2019.0  20.567178   \n",
              "98                   Traipu  33865.301370  1.900034e+11  2019.0  21.479452   \n",
              "99       União dos Palmares  31597.223388  1.900033e+11  2019.0  21.324588   \n",
              "100                  Viçosa  32366.857664  1.900033e+11  2019.0  21.824818   \n",
              "101             Água Branca  31598.667598  1.900033e+11  2019.0  21.349162   \n",
              "\n",
              "     TP_ESTADO_CIVIL  TP_ST_CONCLUSAO  TP_ENSINO     CO_ESCOLA  \\\n",
              "0           1.029520         1.498155   1.000000  2.705305e+07   \n",
              "1           1.122498         1.469131   1.006763  2.705106e+07   \n",
              "2           1.065385         1.446154   1.007673  2.705031e+07   \n",
              "3           1.088757         1.319527   1.000000  2.704192e+07   \n",
              "4           1.035398         1.637168   1.000000  2.712178e+07   \n",
              "..               ...              ...        ...           ...   \n",
              "97          1.045987         1.413886   1.002389  2.712925e+07   \n",
              "98          1.019178         1.400000   1.003704  2.705781e+07   \n",
              "99          1.079460         1.416042   1.008368  2.703421e+07   \n",
              "100         1.076642         1.427007   1.010390  2.703031e+07   \n",
              "101         1.064246         1.460894   1.003876  2.700117e+07   \n",
              "\n",
              "     NU_NOTA_REDACAO  TP_STATUS_REDACAO  NU_NOTA_CN  NU_NOTA_CH  NU_NOTA_LC  \\\n",
              "0         592.841328                1.0  446.842804  473.960517  487.839114   \n",
              "1         596.866863                1.0  468.553031  500.693098  516.327943   \n",
              "2         555.423077                1.0  433.432308  462.730385  485.135962   \n",
              "3         529.822485                1.0  441.814201  463.442012  489.712426   \n",
              "4         570.796460                1.0  454.795575  486.783186  504.446018   \n",
              "..               ...                ...         ...         ...         ...   \n",
              "97        596.862038                1.0  446.634175  470.307665  495.539585   \n",
              "98        581.260274                1.0  442.707671  471.664658  487.196438   \n",
              "99        564.347826                1.0  440.832684  471.559295  493.140105   \n",
              "100       559.306569                1.0  439.654015  472.007482  487.363869   \n",
              "101       550.279330                1.0  439.112011  470.490782  489.053073   \n",
              "\n",
              "     NU_NOTA_MT   NOTA_ENEN  \n",
              "0    492.557934  498.808339  \n",
              "1    519.335657  520.355318  \n",
              "2    467.812308  480.906808  \n",
              "3    469.573964  478.873018  \n",
              "4    487.246903  500.813628  \n",
              "..          ...         ...  \n",
              "97   479.644905  497.797674  \n",
              "98   482.834795  493.132767  \n",
              "99   472.963268  488.568636  \n",
              "100  469.567701  485.579927  \n",
              "101  481.231844  486.033408  \n",
              "\n",
              "[102 rows x 16 columns]"
            ],
            "text/html": [
              "\n",
              "  <div id=\"df-da8f2b3e-5f5e-4a93-8adb-4c12d7b230ab\">\n",
              "    <div class=\"colab-df-container\">\n",
              "      <div>\n",
              "<style scoped>\n",
              "    .dataframe tbody tr th:only-of-type {\n",
              "        vertical-align: middle;\n",
              "    }\n",
              "\n",
              "    .dataframe tbody tr th {\n",
              "        vertical-align: top;\n",
              "    }\n",
              "\n",
              "    .dataframe thead th {\n",
              "        text-align: right;\n",
              "    }\n",
              "</style>\n",
              "<table border=\"1\" class=\"dataframe\">\n",
              "  <thead>\n",
              "    <tr style=\"text-align: right;\">\n",
              "      <th></th>\n",
              "      <th>NO_MUNICIPIO_RESIDENCIA</th>\n",
              "      <th>Unnamed: 0</th>\n",
              "      <th>NU_INSCRICAO</th>\n",
              "      <th>NU_ANO</th>\n",
              "      <th>NU_IDADE</th>\n",
              "      <th>TP_ESTADO_CIVIL</th>\n",
              "      <th>TP_ST_CONCLUSAO</th>\n",
              "      <th>TP_ENSINO</th>\n",
              "      <th>CO_ESCOLA</th>\n",
              "      <th>NU_NOTA_REDACAO</th>\n",
              "      <th>TP_STATUS_REDACAO</th>\n",
              "      <th>NU_NOTA_CN</th>\n",
              "      <th>NU_NOTA_CH</th>\n",
              "      <th>NU_NOTA_LC</th>\n",
              "      <th>NU_NOTA_MT</th>\n",
              "      <th>NOTA_ENEN</th>\n",
              "    </tr>\n",
              "  </thead>\n",
              "  <tbody>\n",
              "    <tr>\n",
              "      <th>0</th>\n",
              "      <td>Anadia</td>\n",
              "      <td>29698.977860</td>\n",
              "      <td>1.900031e+11</td>\n",
              "      <td>2019.0</td>\n",
              "      <td>20.376384</td>\n",
              "      <td>1.029520</td>\n",
              "      <td>1.498155</td>\n",
              "      <td>1.000000</td>\n",
              "      <td>2.705305e+07</td>\n",
              "      <td>592.841328</td>\n",
              "      <td>1.0</td>\n",
              "      <td>446.842804</td>\n",
              "      <td>473.960517</td>\n",
              "      <td>487.839114</td>\n",
              "      <td>492.557934</td>\n",
              "      <td>498.808339</td>\n",
              "    </tr>\n",
              "    <tr>\n",
              "      <th>1</th>\n",
              "      <td>Arapiraca</td>\n",
              "      <td>31931.531429</td>\n",
              "      <td>1.900033e+11</td>\n",
              "      <td>2019.0</td>\n",
              "      <td>22.019320</td>\n",
              "      <td>1.122498</td>\n",
              "      <td>1.469131</td>\n",
              "      <td>1.006763</td>\n",
              "      <td>2.705106e+07</td>\n",
              "      <td>596.866863</td>\n",
              "      <td>1.0</td>\n",
              "      <td>468.553031</td>\n",
              "      <td>500.693098</td>\n",
              "      <td>516.327943</td>\n",
              "      <td>519.335657</td>\n",
              "      <td>520.355318</td>\n",
              "    </tr>\n",
              "    <tr>\n",
              "      <th>2</th>\n",
              "      <td>Atalaia</td>\n",
              "      <td>31696.286538</td>\n",
              "      <td>1.900033e+11</td>\n",
              "      <td>2019.0</td>\n",
              "      <td>22.040385</td>\n",
              "      <td>1.065385</td>\n",
              "      <td>1.446154</td>\n",
              "      <td>1.007673</td>\n",
              "      <td>2.705031e+07</td>\n",
              "      <td>555.423077</td>\n",
              "      <td>1.0</td>\n",
              "      <td>433.432308</td>\n",
              "      <td>462.730385</td>\n",
              "      <td>485.135962</td>\n",
              "      <td>467.812308</td>\n",
              "      <td>480.906808</td>\n",
              "    </tr>\n",
              "    <tr>\n",
              "      <th>3</th>\n",
              "      <td>Barra de Santo Antônio</td>\n",
              "      <td>29747.982249</td>\n",
              "      <td>1.900032e+11</td>\n",
              "      <td>2019.0</td>\n",
              "      <td>21.508876</td>\n",
              "      <td>1.088757</td>\n",
              "      <td>1.319527</td>\n",
              "      <td>1.000000</td>\n",
              "      <td>2.704192e+07</td>\n",
              "      <td>529.822485</td>\n",
              "      <td>1.0</td>\n",
              "      <td>441.814201</td>\n",
              "      <td>463.442012</td>\n",
              "      <td>489.712426</td>\n",
              "      <td>469.573964</td>\n",
              "      <td>478.873018</td>\n",
              "    </tr>\n",
              "    <tr>\n",
              "      <th>4</th>\n",
              "      <td>Barra de São Miguel</td>\n",
              "      <td>28596.389381</td>\n",
              "      <td>1.900031e+11</td>\n",
              "      <td>2019.0</td>\n",
              "      <td>20.743363</td>\n",
              "      <td>1.035398</td>\n",
              "      <td>1.637168</td>\n",
              "      <td>1.000000</td>\n",
              "      <td>2.712178e+07</td>\n",
              "      <td>570.796460</td>\n",
              "      <td>1.0</td>\n",
              "      <td>454.795575</td>\n",
              "      <td>486.783186</td>\n",
              "      <td>504.446018</td>\n",
              "      <td>487.246903</td>\n",
              "      <td>500.813628</td>\n",
              "    </tr>\n",
              "    <tr>\n",
              "      <th>...</th>\n",
              "      <td>...</td>\n",
              "      <td>...</td>\n",
              "      <td>...</td>\n",
              "      <td>...</td>\n",
              "      <td>...</td>\n",
              "      <td>...</td>\n",
              "      <td>...</td>\n",
              "      <td>...</td>\n",
              "      <td>...</td>\n",
              "      <td>...</td>\n",
              "      <td>...</td>\n",
              "      <td>...</td>\n",
              "      <td>...</td>\n",
              "      <td>...</td>\n",
              "      <td>...</td>\n",
              "      <td>...</td>\n",
              "    </tr>\n",
              "    <tr>\n",
              "      <th>97</th>\n",
              "      <td>Teotônio Vilela</td>\n",
              "      <td>30095.252480</td>\n",
              "      <td>1.900032e+11</td>\n",
              "      <td>2019.0</td>\n",
              "      <td>20.567178</td>\n",
              "      <td>1.045987</td>\n",
              "      <td>1.413886</td>\n",
              "      <td>1.002389</td>\n",
              "      <td>2.712925e+07</td>\n",
              "      <td>596.862038</td>\n",
              "      <td>1.0</td>\n",
              "      <td>446.634175</td>\n",
              "      <td>470.307665</td>\n",
              "      <td>495.539585</td>\n",
              "      <td>479.644905</td>\n",
              "      <td>497.797674</td>\n",
              "    </tr>\n",
              "    <tr>\n",
              "      <th>98</th>\n",
              "      <td>Traipu</td>\n",
              "      <td>33865.301370</td>\n",
              "      <td>1.900034e+11</td>\n",
              "      <td>2019.0</td>\n",
              "      <td>21.479452</td>\n",
              "      <td>1.019178</td>\n",
              "      <td>1.400000</td>\n",
              "      <td>1.003704</td>\n",
              "      <td>2.705781e+07</td>\n",
              "      <td>581.260274</td>\n",
              "      <td>1.0</td>\n",
              "      <td>442.707671</td>\n",
              "      <td>471.664658</td>\n",
              "      <td>487.196438</td>\n",
              "      <td>482.834795</td>\n",
              "      <td>493.132767</td>\n",
              "    </tr>\n",
              "    <tr>\n",
              "      <th>99</th>\n",
              "      <td>União dos Palmares</td>\n",
              "      <td>31597.223388</td>\n",
              "      <td>1.900033e+11</td>\n",
              "      <td>2019.0</td>\n",
              "      <td>21.324588</td>\n",
              "      <td>1.079460</td>\n",
              "      <td>1.416042</td>\n",
              "      <td>1.008368</td>\n",
              "      <td>2.703421e+07</td>\n",
              "      <td>564.347826</td>\n",
              "      <td>1.0</td>\n",
              "      <td>440.832684</td>\n",
              "      <td>471.559295</td>\n",
              "      <td>493.140105</td>\n",
              "      <td>472.963268</td>\n",
              "      <td>488.568636</td>\n",
              "    </tr>\n",
              "    <tr>\n",
              "      <th>100</th>\n",
              "      <td>Viçosa</td>\n",
              "      <td>32366.857664</td>\n",
              "      <td>1.900033e+11</td>\n",
              "      <td>2019.0</td>\n",
              "      <td>21.824818</td>\n",
              "      <td>1.076642</td>\n",
              "      <td>1.427007</td>\n",
              "      <td>1.010390</td>\n",
              "      <td>2.703031e+07</td>\n",
              "      <td>559.306569</td>\n",
              "      <td>1.0</td>\n",
              "      <td>439.654015</td>\n",
              "      <td>472.007482</td>\n",
              "      <td>487.363869</td>\n",
              "      <td>469.567701</td>\n",
              "      <td>485.579927</td>\n",
              "    </tr>\n",
              "    <tr>\n",
              "      <th>101</th>\n",
              "      <td>Água Branca</td>\n",
              "      <td>31598.667598</td>\n",
              "      <td>1.900033e+11</td>\n",
              "      <td>2019.0</td>\n",
              "      <td>21.349162</td>\n",
              "      <td>1.064246</td>\n",
              "      <td>1.460894</td>\n",
              "      <td>1.003876</td>\n",
              "      <td>2.700117e+07</td>\n",
              "      <td>550.279330</td>\n",
              "      <td>1.0</td>\n",
              "      <td>439.112011</td>\n",
              "      <td>470.490782</td>\n",
              "      <td>489.053073</td>\n",
              "      <td>481.231844</td>\n",
              "      <td>486.033408</td>\n",
              "    </tr>\n",
              "  </tbody>\n",
              "</table>\n",
              "<p>102 rows × 16 columns</p>\n",
              "</div>\n",
              "      <button class=\"colab-df-convert\" onclick=\"convertToInteractive('df-da8f2b3e-5f5e-4a93-8adb-4c12d7b230ab')\"\n",
              "              title=\"Convert this dataframe to an interactive table.\"\n",
              "              style=\"display:none;\">\n",
              "        \n",
              "  <svg xmlns=\"http://www.w3.org/2000/svg\" height=\"24px\"viewBox=\"0 0 24 24\"\n",
              "       width=\"24px\">\n",
              "    <path d=\"M0 0h24v24H0V0z\" fill=\"none\"/>\n",
              "    <path d=\"M18.56 5.44l.94 2.06.94-2.06 2.06-.94-2.06-.94-.94-2.06-.94 2.06-2.06.94zm-11 1L8.5 8.5l.94-2.06 2.06-.94-2.06-.94L8.5 2.5l-.94 2.06-2.06.94zm10 10l.94 2.06.94-2.06 2.06-.94-2.06-.94-.94-2.06-.94 2.06-2.06.94z\"/><path d=\"M17.41 7.96l-1.37-1.37c-.4-.4-.92-.59-1.43-.59-.52 0-1.04.2-1.43.59L10.3 9.45l-7.72 7.72c-.78.78-.78 2.05 0 2.83L4 21.41c.39.39.9.59 1.41.59.51 0 1.02-.2 1.41-.59l7.78-7.78 2.81-2.81c.8-.78.8-2.07 0-2.86zM5.41 20L4 18.59l7.72-7.72 1.47 1.35L5.41 20z\"/>\n",
              "  </svg>\n",
              "      </button>\n",
              "      \n",
              "  <style>\n",
              "    .colab-df-container {\n",
              "      display:flex;\n",
              "      flex-wrap:wrap;\n",
              "      gap: 12px;\n",
              "    }\n",
              "\n",
              "    .colab-df-convert {\n",
              "      background-color: #E8F0FE;\n",
              "      border: none;\n",
              "      border-radius: 50%;\n",
              "      cursor: pointer;\n",
              "      display: none;\n",
              "      fill: #1967D2;\n",
              "      height: 32px;\n",
              "      padding: 0 0 0 0;\n",
              "      width: 32px;\n",
              "    }\n",
              "\n",
              "    .colab-df-convert:hover {\n",
              "      background-color: #E2EBFA;\n",
              "      box-shadow: 0px 1px 2px rgba(60, 64, 67, 0.3), 0px 1px 3px 1px rgba(60, 64, 67, 0.15);\n",
              "      fill: #174EA6;\n",
              "    }\n",
              "\n",
              "    [theme=dark] .colab-df-convert {\n",
              "      background-color: #3B4455;\n",
              "      fill: #D2E3FC;\n",
              "    }\n",
              "\n",
              "    [theme=dark] .colab-df-convert:hover {\n",
              "      background-color: #434B5C;\n",
              "      box-shadow: 0px 1px 3px 1px rgba(0, 0, 0, 0.15);\n",
              "      filter: drop-shadow(0px 1px 2px rgba(0, 0, 0, 0.3));\n",
              "      fill: #FFFFFF;\n",
              "    }\n",
              "  </style>\n",
              "\n",
              "      <script>\n",
              "        const buttonEl =\n",
              "          document.querySelector('#df-da8f2b3e-5f5e-4a93-8adb-4c12d7b230ab button.colab-df-convert');\n",
              "        buttonEl.style.display =\n",
              "          google.colab.kernel.accessAllowed ? 'block' : 'none';\n",
              "\n",
              "        async function convertToInteractive(key) {\n",
              "          const element = document.querySelector('#df-da8f2b3e-5f5e-4a93-8adb-4c12d7b230ab');\n",
              "          const dataTable =\n",
              "            await google.colab.kernel.invokeFunction('convertToInteractive',\n",
              "                                                     [key], {});\n",
              "          if (!dataTable) return;\n",
              "\n",
              "          const docLinkHtml = 'Like what you see? Visit the ' +\n",
              "            '<a target=\"_blank\" href=https://colab.research.google.com/notebooks/data_table.ipynb>data table notebook</a>'\n",
              "            + ' to learn more about interactive tables.';\n",
              "          element.innerHTML = '';\n",
              "          dataTable['output_type'] = 'display_data';\n",
              "          await google.colab.output.renderOutput(dataTable, element);\n",
              "          const docLink = document.createElement('div');\n",
              "          docLink.innerHTML = docLinkHtml;\n",
              "          element.appendChild(docLink);\n",
              "        }\n",
              "      </script>\n",
              "    </div>\n",
              "  </div>\n",
              "  "
            ]
          },
          "metadata": {},
          "execution_count": 41
        }
      ]
    },
    {
      "cell_type": "markdown",
      "source": [
        "Crie um novo dataframe com groupby usando outra coluna e outro método"
      ],
      "metadata": {
        "id": "_aWSfJxMBvEl"
      }
    },
    {
      "cell_type": "code",
      "source": [
        "df_group = df.groupby(by='NU_NOTA_REDACAO', as_index=False).mean()\n",
        "df_group"
      ],
      "metadata": {
        "id": "IXXIkKsNB5oQ",
        "colab": {
          "base_uri": "https://localhost:8080/",
          "height": 1000
        },
        "outputId": "f95e4784-7507-43ec-c603-314ce06b84e4"
      },
      "execution_count": null,
      "outputs": [
        {
          "output_type": "execute_result",
          "data": {
            "text/plain": [
              "    NU_NOTA_REDACAO    Unnamed: 0  NU_INSCRICAO  NU_ANO   NU_IDADE  \\\n",
              "0              40.0  30282.000000  1.900032e+11  2019.0  36.500000   \n",
              "1              60.0  51920.000000  1.900046e+11  2019.0  20.000000   \n",
              "2              80.0  26369.000000  1.900029e+11  2019.0  22.000000   \n",
              "3             100.0  43723.000000  1.900040e+11  2019.0  26.500000   \n",
              "4             120.0  36131.500000  1.900035e+11  2019.0  23.833333   \n",
              "5             140.0  34386.875000  1.900036e+11  2019.0  34.625000   \n",
              "6             160.0  33160.111111  1.900034e+11  2019.0  25.722222   \n",
              "7             180.0  31094.952381  1.900032e+11  2019.0  25.047619   \n",
              "8             200.0  29833.269231  1.900031e+11  2019.0  25.250000   \n",
              "9             220.0  32203.500000  1.900033e+11  2019.0  26.191667   \n",
              "10            240.0  36138.624113  1.900036e+11  2019.0  24.769504   \n",
              "11            260.0  34062.710183  1.900035e+11  2019.0  24.681462   \n",
              "12            280.0  34977.990937  1.900035e+11  2019.0  23.584592   \n",
              "13            300.0  34350.179632  1.900035e+11  2019.0  22.766620   \n",
              "14            320.0  34401.658559  1.900035e+11  2019.0  22.847521   \n",
              "15            340.0  33191.329670  1.900034e+11  2019.0  22.656899   \n",
              "16            360.0  33783.699003  1.900034e+11  2019.0  22.689030   \n",
              "17            380.0  34236.408797  1.900035e+11  2019.0  23.322122   \n",
              "18            400.0  32829.539505  1.900034e+11  2019.0  23.171588   \n",
              "19            420.0  33472.330136  1.900034e+11  2019.0  23.206235   \n",
              "20            440.0  33170.044522  1.900034e+11  2019.0  23.392196   \n",
              "21            460.0  33285.960965  1.900034e+11  2019.0  22.882456   \n",
              "22            480.0  33374.573949  1.900034e+11  2019.0  22.999679   \n",
              "23            500.0  33571.738780  1.900034e+11  2019.0  23.211738   \n",
              "24            520.0  33162.530247  1.900034e+11  2019.0  22.777904   \n",
              "25            540.0  33479.899101  1.900034e+11  2019.0  22.713250   \n",
              "26            560.0  32830.458411  1.900034e+11  2019.0  22.352624   \n",
              "27            580.0  32953.406588  1.900034e+11  2019.0  22.142374   \n",
              "28            600.0  32660.687335  1.900033e+11  2019.0  21.869909   \n",
              "29            620.0  32246.119263  1.900033e+11  2019.0  21.475637   \n",
              "30            640.0  31985.336393  1.900033e+11  2019.0  21.140065   \n",
              "31            660.0  32425.437245  1.900033e+11  2019.0  20.835070   \n",
              "32            680.0  31145.508189  1.900032e+11  2019.0  20.456397   \n",
              "33            700.0  31432.617574  1.900033e+11  2019.0  20.329827   \n",
              "34            720.0  31032.893358  1.900032e+11  2019.0  20.251676   \n",
              "35            740.0  30768.830142  1.900032e+11  2019.0  19.823480   \n",
              "36            760.0  30349.923318  1.900032e+11  2019.0  19.945227   \n",
              "37            780.0  30596.452099  1.900032e+11  2019.0  19.848224   \n",
              "38            800.0  29941.338360  1.900031e+11  2019.0  19.659755   \n",
              "39            820.0  30238.273427  1.900032e+11  2019.0  19.485237   \n",
              "40            840.0  29892.071503  1.900031e+11  2019.0  19.439378   \n",
              "41            860.0  28940.013100  1.900031e+11  2019.0  19.443959   \n",
              "42            880.0  28104.366114  1.900030e+11  2019.0  19.107820   \n",
              "43            900.0  29271.379939  1.900031e+11  2019.0  19.411854   \n",
              "44            920.0  28293.482467  1.900030e+11  2019.0  19.461911   \n",
              "45            940.0  28327.868800  1.900030e+11  2019.0  19.225600   \n",
              "46            960.0  27494.871314  1.900030e+11  2019.0  19.383378   \n",
              "47            980.0  28823.214815  1.900030e+11  2019.0  19.533333   \n",
              "48           1000.0  27559.000000  1.900030e+11  2019.0  22.000000   \n",
              "\n",
              "    TP_ESTADO_CIVIL  TP_ST_CONCLUSAO  TP_ENSINO     CO_ESCOLA  \\\n",
              "0          1.000000         1.000000        NaN           NaN   \n",
              "1          1.000000         3.000000        NaN           NaN   \n",
              "2          1.000000         1.000000   1.000000           NaN   \n",
              "3          1.000000         1.500000        NaN  2.722557e+07   \n",
              "4          1.000000         1.833333   1.000000  2.703402e+07   \n",
              "5          1.125000         1.250000   1.000000  2.713509e+07   \n",
              "6          1.222222         1.611111   1.000000  2.701737e+07   \n",
              "7          1.285714         1.380952   1.000000  2.705244e+07   \n",
              "8          1.269231         1.596154   1.034483  2.702521e+07   \n",
              "9          1.291667         1.450000   1.000000  2.703966e+07   \n",
              "10         1.127660         1.418440   1.005814  2.705840e+07   \n",
              "11         1.172324         1.467363   1.016327  2.710766e+07   \n",
              "12         1.167674         1.477341   1.011765  2.705793e+07   \n",
              "13         1.117397         1.514851   1.012315  2.705912e+07   \n",
              "14         1.101964         1.515435   1.016442  2.710265e+07   \n",
              "15         1.105006         1.532357   1.003929  2.704675e+07   \n",
              "16         1.081596         1.519492   1.004367  2.702154e+07   \n",
              "17         1.121604         1.468305   1.012500  2.703972e+07   \n",
              "18         1.131684         1.454908   1.010256  2.705463e+07   \n",
              "19         1.131095         1.462030   1.006427  2.706007e+07   \n",
              "20         1.136068         1.398199   1.005650  2.705682e+07   \n",
              "21         1.122807         1.434211   1.004982  2.706021e+07   \n",
              "22         1.129933         1.429901   1.003498  2.706033e+07   \n",
              "23         1.125048         1.411968   1.008696  2.709855e+07   \n",
              "24         1.114740         1.441352   1.008025  2.706786e+07   \n",
              "25         1.124094         1.448826   1.006458  2.705896e+07   \n",
              "26         1.100809         1.444099   1.008780  2.708040e+07   \n",
              "27         1.106498         1.479016   1.006378  2.706727e+07   \n",
              "28         1.094630         1.501520   1.006061  2.706684e+07   \n",
              "29         1.069688         1.513314   1.004076  2.707323e+07   \n",
              "30         1.058928         1.553450   1.003810  2.707414e+07   \n",
              "31         1.062981         1.589488   1.004474  2.708355e+07   \n",
              "32         1.062860         1.573705   1.005069  2.711176e+07   \n",
              "33         1.053837         1.593441   1.001003  2.709535e+07   \n",
              "34         1.044485         1.575868   1.000999  2.707605e+07   \n",
              "35         1.033306         1.593672   1.004121  2.709104e+07   \n",
              "36         1.028951         1.588419   1.001302  2.709386e+07   \n",
              "37         1.011841         1.572659   1.000000  2.708807e+07   \n",
              "38         1.038643         1.574929   1.004594  2.708042e+07   \n",
              "39         1.032092         1.614891   1.009281  2.711466e+07   \n",
              "40         1.018653         1.524352   1.003670  2.711290e+07   \n",
              "41         1.030568         1.532751   1.002674  2.709818e+07   \n",
              "42         1.003555         1.531991   1.000000  2.709842e+07   \n",
              "43         1.041033         1.483283   1.002778  2.710177e+07   \n",
              "44         1.026602         1.453446   1.002358  2.712349e+07   \n",
              "45         1.009600         1.422400   1.003279  2.713701e+07   \n",
              "46         1.002681         1.402145   1.000000  2.711859e+07   \n",
              "47         0.985185         1.414815   1.000000  2.715410e+07   \n",
              "48         1.000000         1.000000   1.000000           NaN   \n",
              "\n",
              "    TP_STATUS_REDACAO  NU_NOTA_CN  NU_NOTA_CH  NU_NOTA_LC  NU_NOTA_MT  \\\n",
              "0                 1.0  391.200000  367.900000  384.550000  461.850000   \n",
              "1                 1.0  396.600000  432.900000  355.500000  389.800000   \n",
              "2                 1.0  386.300000  425.200000  345.000000  544.500000   \n",
              "3                 1.0  373.550000  348.050000  381.100000  447.050000   \n",
              "4                 1.0  405.433333  387.650000  406.333333  424.233333   \n",
              "5                 1.0  417.600000  430.562500  452.175000  434.462500   \n",
              "6                 1.0  402.538889  417.111111  410.783333  403.766667   \n",
              "7                 1.0  409.990476  420.452381  416.819048  421.380952   \n",
              "8                 1.0  412.232692  410.776923  424.198077  432.067308   \n",
              "9                 1.0  411.380833  425.716667  429.707500  431.764167   \n",
              "10                1.0  413.013121  425.219858  439.231560  432.616667   \n",
              "11                1.0  416.216971  428.518538  445.927676  436.524021   \n",
              "12                1.0  415.454834  431.989275  451.346677  442.616465   \n",
              "13                1.0  423.439745  443.706082  463.485149  455.408345   \n",
              "14                1.0  422.153134  444.334144  465.378485  454.266978   \n",
              "15                1.0  424.411722  442.129060  464.974725  454.622589   \n",
              "16                1.0  422.411967  439.647235  459.225295  450.594923   \n",
              "17                1.0  420.696507  437.681113  459.186546  447.819405   \n",
              "18                1.0  422.882043  439.014844  459.642378  447.343655   \n",
              "19                1.0  422.233733  439.934452  462.388010  449.910711   \n",
              "20                1.0  425.440270  446.636268  467.448224  450.881841   \n",
              "21                1.0  429.269737  449.773509  473.739211  456.191404   \n",
              "22                1.0  432.328200  458.019923  480.736381  462.889092   \n",
              "23                1.0  436.031530  463.060836  483.010625  466.974223   \n",
              "24                1.0  436.675092  464.500966  488.627095  467.901079   \n",
              "25                1.0  442.275790  470.673471  492.788084  474.872717   \n",
              "26                1.0  447.787534  478.249990  499.723377  480.530492   \n",
              "27                1.0  452.292757  483.806205  505.066471  487.880618   \n",
              "28                1.0  457.049909  490.976616  511.770719  495.396292   \n",
              "29                1.0  464.788782  499.657365  518.285042  504.756006   \n",
              "30                1.0  468.246224  505.223482  522.774682  511.321646   \n",
              "31                1.0  475.134164  510.537925  526.710603  521.757997   \n",
              "32                1.0  478.892740  513.652811  528.188535  525.763081   \n",
              "33                1.0  486.686262  523.798948  535.718812  539.665099   \n",
              "34                1.0  491.363193  529.017428  540.008531  548.248873   \n",
              "35                1.0  494.223564  531.305579  540.638052  552.772523   \n",
              "36                1.0  501.074335  538.670266  546.435368  558.733959   \n",
              "37                1.0  509.571259  545.321313  549.907427  572.053283   \n",
              "38                1.0  513.354571  548.604053  551.329689  579.266258   \n",
              "39                1.0  513.714121  550.624775  554.316560  579.361874   \n",
              "40                1.0  523.903316  560.499896  560.984974  596.694093   \n",
              "41                1.0  529.144105  564.326346  562.020524  607.560116   \n",
              "42                1.0  537.598104  570.389929  564.709834  620.116706   \n",
              "43                1.0  546.689362  581.915653  571.494377  636.845897   \n",
              "44                1.0  558.088634  592.043168  577.446675  655.662273   \n",
              "45                1.0  570.761920  600.334880  584.321120  669.824480   \n",
              "46                1.0  583.894102  613.005630  593.604290  700.885255   \n",
              "47                1.0  593.282222  622.921481  603.020000  713.096296   \n",
              "48                1.0  582.700000  656.850000  588.750000  721.250000   \n",
              "\n",
              "     NOTA_ENEN  \n",
              "0   329.100000  \n",
              "1   326.960000  \n",
              "2   356.200000  \n",
              "3   329.950000  \n",
              "4   348.730000  \n",
              "5   374.960000  \n",
              "6   358.840000  \n",
              "7   369.728571  \n",
              "8   375.855000  \n",
              "9   383.713833  \n",
              "10  390.016241  \n",
              "11  397.437441  \n",
              "12  404.281450  \n",
              "13  417.207864  \n",
              "14  421.226548  \n",
              "15  425.227619  \n",
              "16  426.375884  \n",
              "17  429.076714  \n",
              "18  433.776584  \n",
              "19  438.893381  \n",
              "20  446.081321  \n",
              "21  453.794772  \n",
              "22  462.794719  \n",
              "23  469.815443  \n",
              "24  475.540846  \n",
              "25  484.122012  \n",
              "26  493.258278  \n",
              "27  501.809210  \n",
              "28  511.038707  \n",
              "29  521.497439  \n",
              "30  529.513207  \n",
              "31  538.828138  \n",
              "32  545.299433  \n",
              "33  557.173824  \n",
              "34  565.727605  \n",
              "35  571.787943  \n",
              "36  580.982786  \n",
              "37  591.370657  \n",
              "38  598.510914  \n",
              "39  603.603466  \n",
              "40  616.416456  \n",
              "41  624.610218  \n",
              "42  634.562915  \n",
              "43  647.389058  \n",
              "44  660.648150  \n",
              "45  673.048480  \n",
              "46  690.277855  \n",
              "47  702.464000  \n",
              "48  709.910000  "
            ],
            "text/html": [
              "\n",
              "  <div id=\"df-feb6656b-043a-4b4d-8f6f-3d6cd6037507\">\n",
              "    <div class=\"colab-df-container\">\n",
              "      <div>\n",
              "<style scoped>\n",
              "    .dataframe tbody tr th:only-of-type {\n",
              "        vertical-align: middle;\n",
              "    }\n",
              "\n",
              "    .dataframe tbody tr th {\n",
              "        vertical-align: top;\n",
              "    }\n",
              "\n",
              "    .dataframe thead th {\n",
              "        text-align: right;\n",
              "    }\n",
              "</style>\n",
              "<table border=\"1\" class=\"dataframe\">\n",
              "  <thead>\n",
              "    <tr style=\"text-align: right;\">\n",
              "      <th></th>\n",
              "      <th>NU_NOTA_REDACAO</th>\n",
              "      <th>Unnamed: 0</th>\n",
              "      <th>NU_INSCRICAO</th>\n",
              "      <th>NU_ANO</th>\n",
              "      <th>NU_IDADE</th>\n",
              "      <th>TP_ESTADO_CIVIL</th>\n",
              "      <th>TP_ST_CONCLUSAO</th>\n",
              "      <th>TP_ENSINO</th>\n",
              "      <th>CO_ESCOLA</th>\n",
              "      <th>TP_STATUS_REDACAO</th>\n",
              "      <th>NU_NOTA_CN</th>\n",
              "      <th>NU_NOTA_CH</th>\n",
              "      <th>NU_NOTA_LC</th>\n",
              "      <th>NU_NOTA_MT</th>\n",
              "      <th>NOTA_ENEN</th>\n",
              "    </tr>\n",
              "  </thead>\n",
              "  <tbody>\n",
              "    <tr>\n",
              "      <th>0</th>\n",
              "      <td>40.0</td>\n",
              "      <td>30282.000000</td>\n",
              "      <td>1.900032e+11</td>\n",
              "      <td>2019.0</td>\n",
              "      <td>36.500000</td>\n",
              "      <td>1.000000</td>\n",
              "      <td>1.000000</td>\n",
              "      <td>NaN</td>\n",
              "      <td>NaN</td>\n",
              "      <td>1.0</td>\n",
              "      <td>391.200000</td>\n",
              "      <td>367.900000</td>\n",
              "      <td>384.550000</td>\n",
              "      <td>461.850000</td>\n",
              "      <td>329.100000</td>\n",
              "    </tr>\n",
              "    <tr>\n",
              "      <th>1</th>\n",
              "      <td>60.0</td>\n",
              "      <td>51920.000000</td>\n",
              "      <td>1.900046e+11</td>\n",
              "      <td>2019.0</td>\n",
              "      <td>20.000000</td>\n",
              "      <td>1.000000</td>\n",
              "      <td>3.000000</td>\n",
              "      <td>NaN</td>\n",
              "      <td>NaN</td>\n",
              "      <td>1.0</td>\n",
              "      <td>396.600000</td>\n",
              "      <td>432.900000</td>\n",
              "      <td>355.500000</td>\n",
              "      <td>389.800000</td>\n",
              "      <td>326.960000</td>\n",
              "    </tr>\n",
              "    <tr>\n",
              "      <th>2</th>\n",
              "      <td>80.0</td>\n",
              "      <td>26369.000000</td>\n",
              "      <td>1.900029e+11</td>\n",
              "      <td>2019.0</td>\n",
              "      <td>22.000000</td>\n",
              "      <td>1.000000</td>\n",
              "      <td>1.000000</td>\n",
              "      <td>1.000000</td>\n",
              "      <td>NaN</td>\n",
              "      <td>1.0</td>\n",
              "      <td>386.300000</td>\n",
              "      <td>425.200000</td>\n",
              "      <td>345.000000</td>\n",
              "      <td>544.500000</td>\n",
              "      <td>356.200000</td>\n",
              "    </tr>\n",
              "    <tr>\n",
              "      <th>3</th>\n",
              "      <td>100.0</td>\n",
              "      <td>43723.000000</td>\n",
              "      <td>1.900040e+11</td>\n",
              "      <td>2019.0</td>\n",
              "      <td>26.500000</td>\n",
              "      <td>1.000000</td>\n",
              "      <td>1.500000</td>\n",
              "      <td>NaN</td>\n",
              "      <td>2.722557e+07</td>\n",
              "      <td>1.0</td>\n",
              "      <td>373.550000</td>\n",
              "      <td>348.050000</td>\n",
              "      <td>381.100000</td>\n",
              "      <td>447.050000</td>\n",
              "      <td>329.950000</td>\n",
              "    </tr>\n",
              "    <tr>\n",
              "      <th>4</th>\n",
              "      <td>120.0</td>\n",
              "      <td>36131.500000</td>\n",
              "      <td>1.900035e+11</td>\n",
              "      <td>2019.0</td>\n",
              "      <td>23.833333</td>\n",
              "      <td>1.000000</td>\n",
              "      <td>1.833333</td>\n",
              "      <td>1.000000</td>\n",
              "      <td>2.703402e+07</td>\n",
              "      <td>1.0</td>\n",
              "      <td>405.433333</td>\n",
              "      <td>387.650000</td>\n",
              "      <td>406.333333</td>\n",
              "      <td>424.233333</td>\n",
              "      <td>348.730000</td>\n",
              "    </tr>\n",
              "    <tr>\n",
              "      <th>5</th>\n",
              "      <td>140.0</td>\n",
              "      <td>34386.875000</td>\n",
              "      <td>1.900036e+11</td>\n",
              "      <td>2019.0</td>\n",
              "      <td>34.625000</td>\n",
              "      <td>1.125000</td>\n",
              "      <td>1.250000</td>\n",
              "      <td>1.000000</td>\n",
              "      <td>2.713509e+07</td>\n",
              "      <td>1.0</td>\n",
              "      <td>417.600000</td>\n",
              "      <td>430.562500</td>\n",
              "      <td>452.175000</td>\n",
              "      <td>434.462500</td>\n",
              "      <td>374.960000</td>\n",
              "    </tr>\n",
              "    <tr>\n",
              "      <th>6</th>\n",
              "      <td>160.0</td>\n",
              "      <td>33160.111111</td>\n",
              "      <td>1.900034e+11</td>\n",
              "      <td>2019.0</td>\n",
              "      <td>25.722222</td>\n",
              "      <td>1.222222</td>\n",
              "      <td>1.611111</td>\n",
              "      <td>1.000000</td>\n",
              "      <td>2.701737e+07</td>\n",
              "      <td>1.0</td>\n",
              "      <td>402.538889</td>\n",
              "      <td>417.111111</td>\n",
              "      <td>410.783333</td>\n",
              "      <td>403.766667</td>\n",
              "      <td>358.840000</td>\n",
              "    </tr>\n",
              "    <tr>\n",
              "      <th>7</th>\n",
              "      <td>180.0</td>\n",
              "      <td>31094.952381</td>\n",
              "      <td>1.900032e+11</td>\n",
              "      <td>2019.0</td>\n",
              "      <td>25.047619</td>\n",
              "      <td>1.285714</td>\n",
              "      <td>1.380952</td>\n",
              "      <td>1.000000</td>\n",
              "      <td>2.705244e+07</td>\n",
              "      <td>1.0</td>\n",
              "      <td>409.990476</td>\n",
              "      <td>420.452381</td>\n",
              "      <td>416.819048</td>\n",
              "      <td>421.380952</td>\n",
              "      <td>369.728571</td>\n",
              "    </tr>\n",
              "    <tr>\n",
              "      <th>8</th>\n",
              "      <td>200.0</td>\n",
              "      <td>29833.269231</td>\n",
              "      <td>1.900031e+11</td>\n",
              "      <td>2019.0</td>\n",
              "      <td>25.250000</td>\n",
              "      <td>1.269231</td>\n",
              "      <td>1.596154</td>\n",
              "      <td>1.034483</td>\n",
              "      <td>2.702521e+07</td>\n",
              "      <td>1.0</td>\n",
              "      <td>412.232692</td>\n",
              "      <td>410.776923</td>\n",
              "      <td>424.198077</td>\n",
              "      <td>432.067308</td>\n",
              "      <td>375.855000</td>\n",
              "    </tr>\n",
              "    <tr>\n",
              "      <th>9</th>\n",
              "      <td>220.0</td>\n",
              "      <td>32203.500000</td>\n",
              "      <td>1.900033e+11</td>\n",
              "      <td>2019.0</td>\n",
              "      <td>26.191667</td>\n",
              "      <td>1.291667</td>\n",
              "      <td>1.450000</td>\n",
              "      <td>1.000000</td>\n",
              "      <td>2.703966e+07</td>\n",
              "      <td>1.0</td>\n",
              "      <td>411.380833</td>\n",
              "      <td>425.716667</td>\n",
              "      <td>429.707500</td>\n",
              "      <td>431.764167</td>\n",
              "      <td>383.713833</td>\n",
              "    </tr>\n",
              "    <tr>\n",
              "      <th>10</th>\n",
              "      <td>240.0</td>\n",
              "      <td>36138.624113</td>\n",
              "      <td>1.900036e+11</td>\n",
              "      <td>2019.0</td>\n",
              "      <td>24.769504</td>\n",
              "      <td>1.127660</td>\n",
              "      <td>1.418440</td>\n",
              "      <td>1.005814</td>\n",
              "      <td>2.705840e+07</td>\n",
              "      <td>1.0</td>\n",
              "      <td>413.013121</td>\n",
              "      <td>425.219858</td>\n",
              "      <td>439.231560</td>\n",
              "      <td>432.616667</td>\n",
              "      <td>390.016241</td>\n",
              "    </tr>\n",
              "    <tr>\n",
              "      <th>11</th>\n",
              "      <td>260.0</td>\n",
              "      <td>34062.710183</td>\n",
              "      <td>1.900035e+11</td>\n",
              "      <td>2019.0</td>\n",
              "      <td>24.681462</td>\n",
              "      <td>1.172324</td>\n",
              "      <td>1.467363</td>\n",
              "      <td>1.016327</td>\n",
              "      <td>2.710766e+07</td>\n",
              "      <td>1.0</td>\n",
              "      <td>416.216971</td>\n",
              "      <td>428.518538</td>\n",
              "      <td>445.927676</td>\n",
              "      <td>436.524021</td>\n",
              "      <td>397.437441</td>\n",
              "    </tr>\n",
              "    <tr>\n",
              "      <th>12</th>\n",
              "      <td>280.0</td>\n",
              "      <td>34977.990937</td>\n",
              "      <td>1.900035e+11</td>\n",
              "      <td>2019.0</td>\n",
              "      <td>23.584592</td>\n",
              "      <td>1.167674</td>\n",
              "      <td>1.477341</td>\n",
              "      <td>1.011765</td>\n",
              "      <td>2.705793e+07</td>\n",
              "      <td>1.0</td>\n",
              "      <td>415.454834</td>\n",
              "      <td>431.989275</td>\n",
              "      <td>451.346677</td>\n",
              "      <td>442.616465</td>\n",
              "      <td>404.281450</td>\n",
              "    </tr>\n",
              "    <tr>\n",
              "      <th>13</th>\n",
              "      <td>300.0</td>\n",
              "      <td>34350.179632</td>\n",
              "      <td>1.900035e+11</td>\n",
              "      <td>2019.0</td>\n",
              "      <td>22.766620</td>\n",
              "      <td>1.117397</td>\n",
              "      <td>1.514851</td>\n",
              "      <td>1.012315</td>\n",
              "      <td>2.705912e+07</td>\n",
              "      <td>1.0</td>\n",
              "      <td>423.439745</td>\n",
              "      <td>443.706082</td>\n",
              "      <td>463.485149</td>\n",
              "      <td>455.408345</td>\n",
              "      <td>417.207864</td>\n",
              "    </tr>\n",
              "    <tr>\n",
              "      <th>14</th>\n",
              "      <td>320.0</td>\n",
              "      <td>34401.658559</td>\n",
              "      <td>1.900035e+11</td>\n",
              "      <td>2019.0</td>\n",
              "      <td>22.847521</td>\n",
              "      <td>1.101964</td>\n",
              "      <td>1.515435</td>\n",
              "      <td>1.016442</td>\n",
              "      <td>2.710265e+07</td>\n",
              "      <td>1.0</td>\n",
              "      <td>422.153134</td>\n",
              "      <td>444.334144</td>\n",
              "      <td>465.378485</td>\n",
              "      <td>454.266978</td>\n",
              "      <td>421.226548</td>\n",
              "    </tr>\n",
              "    <tr>\n",
              "      <th>15</th>\n",
              "      <td>340.0</td>\n",
              "      <td>33191.329670</td>\n",
              "      <td>1.900034e+11</td>\n",
              "      <td>2019.0</td>\n",
              "      <td>22.656899</td>\n",
              "      <td>1.105006</td>\n",
              "      <td>1.532357</td>\n",
              "      <td>1.003929</td>\n",
              "      <td>2.704675e+07</td>\n",
              "      <td>1.0</td>\n",
              "      <td>424.411722</td>\n",
              "      <td>442.129060</td>\n",
              "      <td>464.974725</td>\n",
              "      <td>454.622589</td>\n",
              "      <td>425.227619</td>\n",
              "    </tr>\n",
              "    <tr>\n",
              "      <th>16</th>\n",
              "      <td>360.0</td>\n",
              "      <td>33783.699003</td>\n",
              "      <td>1.900034e+11</td>\n",
              "      <td>2019.0</td>\n",
              "      <td>22.689030</td>\n",
              "      <td>1.081596</td>\n",
              "      <td>1.519492</td>\n",
              "      <td>1.004367</td>\n",
              "      <td>2.702154e+07</td>\n",
              "      <td>1.0</td>\n",
              "      <td>422.411967</td>\n",
              "      <td>439.647235</td>\n",
              "      <td>459.225295</td>\n",
              "      <td>450.594923</td>\n",
              "      <td>426.375884</td>\n",
              "    </tr>\n",
              "    <tr>\n",
              "      <th>17</th>\n",
              "      <td>380.0</td>\n",
              "      <td>34236.408797</td>\n",
              "      <td>1.900035e+11</td>\n",
              "      <td>2019.0</td>\n",
              "      <td>23.322122</td>\n",
              "      <td>1.121604</td>\n",
              "      <td>1.468305</td>\n",
              "      <td>1.012500</td>\n",
              "      <td>2.703972e+07</td>\n",
              "      <td>1.0</td>\n",
              "      <td>420.696507</td>\n",
              "      <td>437.681113</td>\n",
              "      <td>459.186546</td>\n",
              "      <td>447.819405</td>\n",
              "      <td>429.076714</td>\n",
              "    </tr>\n",
              "    <tr>\n",
              "      <th>18</th>\n",
              "      <td>400.0</td>\n",
              "      <td>32829.539505</td>\n",
              "      <td>1.900034e+11</td>\n",
              "      <td>2019.0</td>\n",
              "      <td>23.171588</td>\n",
              "      <td>1.131684</td>\n",
              "      <td>1.454908</td>\n",
              "      <td>1.010256</td>\n",
              "      <td>2.705463e+07</td>\n",
              "      <td>1.0</td>\n",
              "      <td>422.882043</td>\n",
              "      <td>439.014844</td>\n",
              "      <td>459.642378</td>\n",
              "      <td>447.343655</td>\n",
              "      <td>433.776584</td>\n",
              "    </tr>\n",
              "    <tr>\n",
              "      <th>19</th>\n",
              "      <td>420.0</td>\n",
              "      <td>33472.330136</td>\n",
              "      <td>1.900034e+11</td>\n",
              "      <td>2019.0</td>\n",
              "      <td>23.206235</td>\n",
              "      <td>1.131095</td>\n",
              "      <td>1.462030</td>\n",
              "      <td>1.006427</td>\n",
              "      <td>2.706007e+07</td>\n",
              "      <td>1.0</td>\n",
              "      <td>422.233733</td>\n",
              "      <td>439.934452</td>\n",
              "      <td>462.388010</td>\n",
              "      <td>449.910711</td>\n",
              "      <td>438.893381</td>\n",
              "    </tr>\n",
              "    <tr>\n",
              "      <th>20</th>\n",
              "      <td>440.0</td>\n",
              "      <td>33170.044522</td>\n",
              "      <td>1.900034e+11</td>\n",
              "      <td>2019.0</td>\n",
              "      <td>23.392196</td>\n",
              "      <td>1.136068</td>\n",
              "      <td>1.398199</td>\n",
              "      <td>1.005650</td>\n",
              "      <td>2.705682e+07</td>\n",
              "      <td>1.0</td>\n",
              "      <td>425.440270</td>\n",
              "      <td>446.636268</td>\n",
              "      <td>467.448224</td>\n",
              "      <td>450.881841</td>\n",
              "      <td>446.081321</td>\n",
              "    </tr>\n",
              "    <tr>\n",
              "      <th>21</th>\n",
              "      <td>460.0</td>\n",
              "      <td>33285.960965</td>\n",
              "      <td>1.900034e+11</td>\n",
              "      <td>2019.0</td>\n",
              "      <td>22.882456</td>\n",
              "      <td>1.122807</td>\n",
              "      <td>1.434211</td>\n",
              "      <td>1.004982</td>\n",
              "      <td>2.706021e+07</td>\n",
              "      <td>1.0</td>\n",
              "      <td>429.269737</td>\n",
              "      <td>449.773509</td>\n",
              "      <td>473.739211</td>\n",
              "      <td>456.191404</td>\n",
              "      <td>453.794772</td>\n",
              "    </tr>\n",
              "    <tr>\n",
              "      <th>22</th>\n",
              "      <td>480.0</td>\n",
              "      <td>33374.573949</td>\n",
              "      <td>1.900034e+11</td>\n",
              "      <td>2019.0</td>\n",
              "      <td>22.999679</td>\n",
              "      <td>1.129933</td>\n",
              "      <td>1.429901</td>\n",
              "      <td>1.003498</td>\n",
              "      <td>2.706033e+07</td>\n",
              "      <td>1.0</td>\n",
              "      <td>432.328200</td>\n",
              "      <td>458.019923</td>\n",
              "      <td>480.736381</td>\n",
              "      <td>462.889092</td>\n",
              "      <td>462.794719</td>\n",
              "    </tr>\n",
              "    <tr>\n",
              "      <th>23</th>\n",
              "      <td>500.0</td>\n",
              "      <td>33571.738780</td>\n",
              "      <td>1.900034e+11</td>\n",
              "      <td>2019.0</td>\n",
              "      <td>23.211738</td>\n",
              "      <td>1.125048</td>\n",
              "      <td>1.411968</td>\n",
              "      <td>1.008696</td>\n",
              "      <td>2.709855e+07</td>\n",
              "      <td>1.0</td>\n",
              "      <td>436.031530</td>\n",
              "      <td>463.060836</td>\n",
              "      <td>483.010625</td>\n",
              "      <td>466.974223</td>\n",
              "      <td>469.815443</td>\n",
              "    </tr>\n",
              "    <tr>\n",
              "      <th>24</th>\n",
              "      <td>520.0</td>\n",
              "      <td>33162.530247</td>\n",
              "      <td>1.900034e+11</td>\n",
              "      <td>2019.0</td>\n",
              "      <td>22.777904</td>\n",
              "      <td>1.114740</td>\n",
              "      <td>1.441352</td>\n",
              "      <td>1.008025</td>\n",
              "      <td>2.706786e+07</td>\n",
              "      <td>1.0</td>\n",
              "      <td>436.675092</td>\n",
              "      <td>464.500966</td>\n",
              "      <td>488.627095</td>\n",
              "      <td>467.901079</td>\n",
              "      <td>475.540846</td>\n",
              "    </tr>\n",
              "    <tr>\n",
              "      <th>25</th>\n",
              "      <td>540.0</td>\n",
              "      <td>33479.899101</td>\n",
              "      <td>1.900034e+11</td>\n",
              "      <td>2019.0</td>\n",
              "      <td>22.713250</td>\n",
              "      <td>1.124094</td>\n",
              "      <td>1.448826</td>\n",
              "      <td>1.006458</td>\n",
              "      <td>2.705896e+07</td>\n",
              "      <td>1.0</td>\n",
              "      <td>442.275790</td>\n",
              "      <td>470.673471</td>\n",
              "      <td>492.788084</td>\n",
              "      <td>474.872717</td>\n",
              "      <td>484.122012</td>\n",
              "    </tr>\n",
              "    <tr>\n",
              "      <th>26</th>\n",
              "      <td>560.0</td>\n",
              "      <td>32830.458411</td>\n",
              "      <td>1.900034e+11</td>\n",
              "      <td>2019.0</td>\n",
              "      <td>22.352624</td>\n",
              "      <td>1.100809</td>\n",
              "      <td>1.444099</td>\n",
              "      <td>1.008780</td>\n",
              "      <td>2.708040e+07</td>\n",
              "      <td>1.0</td>\n",
              "      <td>447.787534</td>\n",
              "      <td>478.249990</td>\n",
              "      <td>499.723377</td>\n",
              "      <td>480.530492</td>\n",
              "      <td>493.258278</td>\n",
              "    </tr>\n",
              "    <tr>\n",
              "      <th>27</th>\n",
              "      <td>580.0</td>\n",
              "      <td>32953.406588</td>\n",
              "      <td>1.900034e+11</td>\n",
              "      <td>2019.0</td>\n",
              "      <td>22.142374</td>\n",
              "      <td>1.106498</td>\n",
              "      <td>1.479016</td>\n",
              "      <td>1.006378</td>\n",
              "      <td>2.706727e+07</td>\n",
              "      <td>1.0</td>\n",
              "      <td>452.292757</td>\n",
              "      <td>483.806205</td>\n",
              "      <td>505.066471</td>\n",
              "      <td>487.880618</td>\n",
              "      <td>501.809210</td>\n",
              "    </tr>\n",
              "    <tr>\n",
              "      <th>28</th>\n",
              "      <td>600.0</td>\n",
              "      <td>32660.687335</td>\n",
              "      <td>1.900033e+11</td>\n",
              "      <td>2019.0</td>\n",
              "      <td>21.869909</td>\n",
              "      <td>1.094630</td>\n",
              "      <td>1.501520</td>\n",
              "      <td>1.006061</td>\n",
              "      <td>2.706684e+07</td>\n",
              "      <td>1.0</td>\n",
              "      <td>457.049909</td>\n",
              "      <td>490.976616</td>\n",
              "      <td>511.770719</td>\n",
              "      <td>495.396292</td>\n",
              "      <td>511.038707</td>\n",
              "    </tr>\n",
              "    <tr>\n",
              "      <th>29</th>\n",
              "      <td>620.0</td>\n",
              "      <td>32246.119263</td>\n",
              "      <td>1.900033e+11</td>\n",
              "      <td>2019.0</td>\n",
              "      <td>21.475637</td>\n",
              "      <td>1.069688</td>\n",
              "      <td>1.513314</td>\n",
              "      <td>1.004076</td>\n",
              "      <td>2.707323e+07</td>\n",
              "      <td>1.0</td>\n",
              "      <td>464.788782</td>\n",
              "      <td>499.657365</td>\n",
              "      <td>518.285042</td>\n",
              "      <td>504.756006</td>\n",
              "      <td>521.497439</td>\n",
              "    </tr>\n",
              "    <tr>\n",
              "      <th>30</th>\n",
              "      <td>640.0</td>\n",
              "      <td>31985.336393</td>\n",
              "      <td>1.900033e+11</td>\n",
              "      <td>2019.0</td>\n",
              "      <td>21.140065</td>\n",
              "      <td>1.058928</td>\n",
              "      <td>1.553450</td>\n",
              "      <td>1.003810</td>\n",
              "      <td>2.707414e+07</td>\n",
              "      <td>1.0</td>\n",
              "      <td>468.246224</td>\n",
              "      <td>505.223482</td>\n",
              "      <td>522.774682</td>\n",
              "      <td>511.321646</td>\n",
              "      <td>529.513207</td>\n",
              "    </tr>\n",
              "    <tr>\n",
              "      <th>31</th>\n",
              "      <td>660.0</td>\n",
              "      <td>32425.437245</td>\n",
              "      <td>1.900033e+11</td>\n",
              "      <td>2019.0</td>\n",
              "      <td>20.835070</td>\n",
              "      <td>1.062981</td>\n",
              "      <td>1.589488</td>\n",
              "      <td>1.004474</td>\n",
              "      <td>2.708355e+07</td>\n",
              "      <td>1.0</td>\n",
              "      <td>475.134164</td>\n",
              "      <td>510.537925</td>\n",
              "      <td>526.710603</td>\n",
              "      <td>521.757997</td>\n",
              "      <td>538.828138</td>\n",
              "    </tr>\n",
              "    <tr>\n",
              "      <th>32</th>\n",
              "      <td>680.0</td>\n",
              "      <td>31145.508189</td>\n",
              "      <td>1.900032e+11</td>\n",
              "      <td>2019.0</td>\n",
              "      <td>20.456397</td>\n",
              "      <td>1.062860</td>\n",
              "      <td>1.573705</td>\n",
              "      <td>1.005069</td>\n",
              "      <td>2.711176e+07</td>\n",
              "      <td>1.0</td>\n",
              "      <td>478.892740</td>\n",
              "      <td>513.652811</td>\n",
              "      <td>528.188535</td>\n",
              "      <td>525.763081</td>\n",
              "      <td>545.299433</td>\n",
              "    </tr>\n",
              "    <tr>\n",
              "      <th>33</th>\n",
              "      <td>700.0</td>\n",
              "      <td>31432.617574</td>\n",
              "      <td>1.900033e+11</td>\n",
              "      <td>2019.0</td>\n",
              "      <td>20.329827</td>\n",
              "      <td>1.053837</td>\n",
              "      <td>1.593441</td>\n",
              "      <td>1.001003</td>\n",
              "      <td>2.709535e+07</td>\n",
              "      <td>1.0</td>\n",
              "      <td>486.686262</td>\n",
              "      <td>523.798948</td>\n",
              "      <td>535.718812</td>\n",
              "      <td>539.665099</td>\n",
              "      <td>557.173824</td>\n",
              "    </tr>\n",
              "    <tr>\n",
              "      <th>34</th>\n",
              "      <td>720.0</td>\n",
              "      <td>31032.893358</td>\n",
              "      <td>1.900032e+11</td>\n",
              "      <td>2019.0</td>\n",
              "      <td>20.251676</td>\n",
              "      <td>1.044485</td>\n",
              "      <td>1.575868</td>\n",
              "      <td>1.000999</td>\n",
              "      <td>2.707605e+07</td>\n",
              "      <td>1.0</td>\n",
              "      <td>491.363193</td>\n",
              "      <td>529.017428</td>\n",
              "      <td>540.008531</td>\n",
              "      <td>548.248873</td>\n",
              "      <td>565.727605</td>\n",
              "    </tr>\n",
              "    <tr>\n",
              "      <th>35</th>\n",
              "      <td>740.0</td>\n",
              "      <td>30768.830142</td>\n",
              "      <td>1.900032e+11</td>\n",
              "      <td>2019.0</td>\n",
              "      <td>19.823480</td>\n",
              "      <td>1.033306</td>\n",
              "      <td>1.593672</td>\n",
              "      <td>1.004121</td>\n",
              "      <td>2.709104e+07</td>\n",
              "      <td>1.0</td>\n",
              "      <td>494.223564</td>\n",
              "      <td>531.305579</td>\n",
              "      <td>540.638052</td>\n",
              "      <td>552.772523</td>\n",
              "      <td>571.787943</td>\n",
              "    </tr>\n",
              "    <tr>\n",
              "      <th>36</th>\n",
              "      <td>760.0</td>\n",
              "      <td>30349.923318</td>\n",
              "      <td>1.900032e+11</td>\n",
              "      <td>2019.0</td>\n",
              "      <td>19.945227</td>\n",
              "      <td>1.028951</td>\n",
              "      <td>1.588419</td>\n",
              "      <td>1.001302</td>\n",
              "      <td>2.709386e+07</td>\n",
              "      <td>1.0</td>\n",
              "      <td>501.074335</td>\n",
              "      <td>538.670266</td>\n",
              "      <td>546.435368</td>\n",
              "      <td>558.733959</td>\n",
              "      <td>580.982786</td>\n",
              "    </tr>\n",
              "    <tr>\n",
              "      <th>37</th>\n",
              "      <td>780.0</td>\n",
              "      <td>30596.452099</td>\n",
              "      <td>1.900032e+11</td>\n",
              "      <td>2019.0</td>\n",
              "      <td>19.848224</td>\n",
              "      <td>1.011841</td>\n",
              "      <td>1.572659</td>\n",
              "      <td>1.000000</td>\n",
              "      <td>2.708807e+07</td>\n",
              "      <td>1.0</td>\n",
              "      <td>509.571259</td>\n",
              "      <td>545.321313</td>\n",
              "      <td>549.907427</td>\n",
              "      <td>572.053283</td>\n",
              "      <td>591.370657</td>\n",
              "    </tr>\n",
              "    <tr>\n",
              "      <th>38</th>\n",
              "      <td>800.0</td>\n",
              "      <td>29941.338360</td>\n",
              "      <td>1.900031e+11</td>\n",
              "      <td>2019.0</td>\n",
              "      <td>19.659755</td>\n",
              "      <td>1.038643</td>\n",
              "      <td>1.574929</td>\n",
              "      <td>1.004594</td>\n",
              "      <td>2.708042e+07</td>\n",
              "      <td>1.0</td>\n",
              "      <td>513.354571</td>\n",
              "      <td>548.604053</td>\n",
              "      <td>551.329689</td>\n",
              "      <td>579.266258</td>\n",
              "      <td>598.510914</td>\n",
              "    </tr>\n",
              "    <tr>\n",
              "      <th>39</th>\n",
              "      <td>820.0</td>\n",
              "      <td>30238.273427</td>\n",
              "      <td>1.900032e+11</td>\n",
              "      <td>2019.0</td>\n",
              "      <td>19.485237</td>\n",
              "      <td>1.032092</td>\n",
              "      <td>1.614891</td>\n",
              "      <td>1.009281</td>\n",
              "      <td>2.711466e+07</td>\n",
              "      <td>1.0</td>\n",
              "      <td>513.714121</td>\n",
              "      <td>550.624775</td>\n",
              "      <td>554.316560</td>\n",
              "      <td>579.361874</td>\n",
              "      <td>603.603466</td>\n",
              "    </tr>\n",
              "    <tr>\n",
              "      <th>40</th>\n",
              "      <td>840.0</td>\n",
              "      <td>29892.071503</td>\n",
              "      <td>1.900031e+11</td>\n",
              "      <td>2019.0</td>\n",
              "      <td>19.439378</td>\n",
              "      <td>1.018653</td>\n",
              "      <td>1.524352</td>\n",
              "      <td>1.003670</td>\n",
              "      <td>2.711290e+07</td>\n",
              "      <td>1.0</td>\n",
              "      <td>523.903316</td>\n",
              "      <td>560.499896</td>\n",
              "      <td>560.984974</td>\n",
              "      <td>596.694093</td>\n",
              "      <td>616.416456</td>\n",
              "    </tr>\n",
              "    <tr>\n",
              "      <th>41</th>\n",
              "      <td>860.0</td>\n",
              "      <td>28940.013100</td>\n",
              "      <td>1.900031e+11</td>\n",
              "      <td>2019.0</td>\n",
              "      <td>19.443959</td>\n",
              "      <td>1.030568</td>\n",
              "      <td>1.532751</td>\n",
              "      <td>1.002674</td>\n",
              "      <td>2.709818e+07</td>\n",
              "      <td>1.0</td>\n",
              "      <td>529.144105</td>\n",
              "      <td>564.326346</td>\n",
              "      <td>562.020524</td>\n",
              "      <td>607.560116</td>\n",
              "      <td>624.610218</td>\n",
              "    </tr>\n",
              "    <tr>\n",
              "      <th>42</th>\n",
              "      <td>880.0</td>\n",
              "      <td>28104.366114</td>\n",
              "      <td>1.900030e+11</td>\n",
              "      <td>2019.0</td>\n",
              "      <td>19.107820</td>\n",
              "      <td>1.003555</td>\n",
              "      <td>1.531991</td>\n",
              "      <td>1.000000</td>\n",
              "      <td>2.709842e+07</td>\n",
              "      <td>1.0</td>\n",
              "      <td>537.598104</td>\n",
              "      <td>570.389929</td>\n",
              "      <td>564.709834</td>\n",
              "      <td>620.116706</td>\n",
              "      <td>634.562915</td>\n",
              "    </tr>\n",
              "    <tr>\n",
              "      <th>43</th>\n",
              "      <td>900.0</td>\n",
              "      <td>29271.379939</td>\n",
              "      <td>1.900031e+11</td>\n",
              "      <td>2019.0</td>\n",
              "      <td>19.411854</td>\n",
              "      <td>1.041033</td>\n",
              "      <td>1.483283</td>\n",
              "      <td>1.002778</td>\n",
              "      <td>2.710177e+07</td>\n",
              "      <td>1.0</td>\n",
              "      <td>546.689362</td>\n",
              "      <td>581.915653</td>\n",
              "      <td>571.494377</td>\n",
              "      <td>636.845897</td>\n",
              "      <td>647.389058</td>\n",
              "    </tr>\n",
              "    <tr>\n",
              "      <th>44</th>\n",
              "      <td>920.0</td>\n",
              "      <td>28293.482467</td>\n",
              "      <td>1.900030e+11</td>\n",
              "      <td>2019.0</td>\n",
              "      <td>19.461911</td>\n",
              "      <td>1.026602</td>\n",
              "      <td>1.453446</td>\n",
              "      <td>1.002358</td>\n",
              "      <td>2.712349e+07</td>\n",
              "      <td>1.0</td>\n",
              "      <td>558.088634</td>\n",
              "      <td>592.043168</td>\n",
              "      <td>577.446675</td>\n",
              "      <td>655.662273</td>\n",
              "      <td>660.648150</td>\n",
              "    </tr>\n",
              "    <tr>\n",
              "      <th>45</th>\n",
              "      <td>940.0</td>\n",
              "      <td>28327.868800</td>\n",
              "      <td>1.900030e+11</td>\n",
              "      <td>2019.0</td>\n",
              "      <td>19.225600</td>\n",
              "      <td>1.009600</td>\n",
              "      <td>1.422400</td>\n",
              "      <td>1.003279</td>\n",
              "      <td>2.713701e+07</td>\n",
              "      <td>1.0</td>\n",
              "      <td>570.761920</td>\n",
              "      <td>600.334880</td>\n",
              "      <td>584.321120</td>\n",
              "      <td>669.824480</td>\n",
              "      <td>673.048480</td>\n",
              "    </tr>\n",
              "    <tr>\n",
              "      <th>46</th>\n",
              "      <td>960.0</td>\n",
              "      <td>27494.871314</td>\n",
              "      <td>1.900030e+11</td>\n",
              "      <td>2019.0</td>\n",
              "      <td>19.383378</td>\n",
              "      <td>1.002681</td>\n",
              "      <td>1.402145</td>\n",
              "      <td>1.000000</td>\n",
              "      <td>2.711859e+07</td>\n",
              "      <td>1.0</td>\n",
              "      <td>583.894102</td>\n",
              "      <td>613.005630</td>\n",
              "      <td>593.604290</td>\n",
              "      <td>700.885255</td>\n",
              "      <td>690.277855</td>\n",
              "    </tr>\n",
              "    <tr>\n",
              "      <th>47</th>\n",
              "      <td>980.0</td>\n",
              "      <td>28823.214815</td>\n",
              "      <td>1.900030e+11</td>\n",
              "      <td>2019.0</td>\n",
              "      <td>19.533333</td>\n",
              "      <td>0.985185</td>\n",
              "      <td>1.414815</td>\n",
              "      <td>1.000000</td>\n",
              "      <td>2.715410e+07</td>\n",
              "      <td>1.0</td>\n",
              "      <td>593.282222</td>\n",
              "      <td>622.921481</td>\n",
              "      <td>603.020000</td>\n",
              "      <td>713.096296</td>\n",
              "      <td>702.464000</td>\n",
              "    </tr>\n",
              "    <tr>\n",
              "      <th>48</th>\n",
              "      <td>1000.0</td>\n",
              "      <td>27559.000000</td>\n",
              "      <td>1.900030e+11</td>\n",
              "      <td>2019.0</td>\n",
              "      <td>22.000000</td>\n",
              "      <td>1.000000</td>\n",
              "      <td>1.000000</td>\n",
              "      <td>1.000000</td>\n",
              "      <td>NaN</td>\n",
              "      <td>1.0</td>\n",
              "      <td>582.700000</td>\n",
              "      <td>656.850000</td>\n",
              "      <td>588.750000</td>\n",
              "      <td>721.250000</td>\n",
              "      <td>709.910000</td>\n",
              "    </tr>\n",
              "  </tbody>\n",
              "</table>\n",
              "</div>\n",
              "      <button class=\"colab-df-convert\" onclick=\"convertToInteractive('df-feb6656b-043a-4b4d-8f6f-3d6cd6037507')\"\n",
              "              title=\"Convert this dataframe to an interactive table.\"\n",
              "              style=\"display:none;\">\n",
              "        \n",
              "  <svg xmlns=\"http://www.w3.org/2000/svg\" height=\"24px\"viewBox=\"0 0 24 24\"\n",
              "       width=\"24px\">\n",
              "    <path d=\"M0 0h24v24H0V0z\" fill=\"none\"/>\n",
              "    <path d=\"M18.56 5.44l.94 2.06.94-2.06 2.06-.94-2.06-.94-.94-2.06-.94 2.06-2.06.94zm-11 1L8.5 8.5l.94-2.06 2.06-.94-2.06-.94L8.5 2.5l-.94 2.06-2.06.94zm10 10l.94 2.06.94-2.06 2.06-.94-2.06-.94-.94-2.06-.94 2.06-2.06.94z\"/><path d=\"M17.41 7.96l-1.37-1.37c-.4-.4-.92-.59-1.43-.59-.52 0-1.04.2-1.43.59L10.3 9.45l-7.72 7.72c-.78.78-.78 2.05 0 2.83L4 21.41c.39.39.9.59 1.41.59.51 0 1.02-.2 1.41-.59l7.78-7.78 2.81-2.81c.8-.78.8-2.07 0-2.86zM5.41 20L4 18.59l7.72-7.72 1.47 1.35L5.41 20z\"/>\n",
              "  </svg>\n",
              "      </button>\n",
              "      \n",
              "  <style>\n",
              "    .colab-df-container {\n",
              "      display:flex;\n",
              "      flex-wrap:wrap;\n",
              "      gap: 12px;\n",
              "    }\n",
              "\n",
              "    .colab-df-convert {\n",
              "      background-color: #E8F0FE;\n",
              "      border: none;\n",
              "      border-radius: 50%;\n",
              "      cursor: pointer;\n",
              "      display: none;\n",
              "      fill: #1967D2;\n",
              "      height: 32px;\n",
              "      padding: 0 0 0 0;\n",
              "      width: 32px;\n",
              "    }\n",
              "\n",
              "    .colab-df-convert:hover {\n",
              "      background-color: #E2EBFA;\n",
              "      box-shadow: 0px 1px 2px rgba(60, 64, 67, 0.3), 0px 1px 3px 1px rgba(60, 64, 67, 0.15);\n",
              "      fill: #174EA6;\n",
              "    }\n",
              "\n",
              "    [theme=dark] .colab-df-convert {\n",
              "      background-color: #3B4455;\n",
              "      fill: #D2E3FC;\n",
              "    }\n",
              "\n",
              "    [theme=dark] .colab-df-convert:hover {\n",
              "      background-color: #434B5C;\n",
              "      box-shadow: 0px 1px 3px 1px rgba(0, 0, 0, 0.15);\n",
              "      filter: drop-shadow(0px 1px 2px rgba(0, 0, 0, 0.3));\n",
              "      fill: #FFFFFF;\n",
              "    }\n",
              "  </style>\n",
              "\n",
              "      <script>\n",
              "        const buttonEl =\n",
              "          document.querySelector('#df-feb6656b-043a-4b4d-8f6f-3d6cd6037507 button.colab-df-convert');\n",
              "        buttonEl.style.display =\n",
              "          google.colab.kernel.accessAllowed ? 'block' : 'none';\n",
              "\n",
              "        async function convertToInteractive(key) {\n",
              "          const element = document.querySelector('#df-feb6656b-043a-4b4d-8f6f-3d6cd6037507');\n",
              "          const dataTable =\n",
              "            await google.colab.kernel.invokeFunction('convertToInteractive',\n",
              "                                                     [key], {});\n",
              "          if (!dataTable) return;\n",
              "\n",
              "          const docLinkHtml = 'Like what you see? Visit the ' +\n",
              "            '<a target=\"_blank\" href=https://colab.research.google.com/notebooks/data_table.ipynb>data table notebook</a>'\n",
              "            + ' to learn more about interactive tables.';\n",
              "          element.innerHTML = '';\n",
              "          dataTable['output_type'] = 'display_data';\n",
              "          await google.colab.output.renderOutput(dataTable, element);\n",
              "          const docLink = document.createElement('div');\n",
              "          docLink.innerHTML = docLinkHtml;\n",
              "          element.appendChild(docLink);\n",
              "        }\n",
              "      </script>\n",
              "    </div>\n",
              "  </div>\n",
              "  "
            ]
          },
          "metadata": {},
          "execution_count": 42
        }
      ]
    },
    {
      "cell_type": "markdown",
      "source": [
        "#### Função apply"
      ],
      "metadata": {
        "id": "NwNOlpMi-w1C"
      }
    },
    {
      "cell_type": "markdown",
      "source": [
        "Arredondando todos os valores de um coluna"
      ],
      "metadata": {
        "id": "N6XjE-65CXPH"
      }
    },
    {
      "cell_type": "code",
      "source": [
        "df['NU_NOTA_REDACAO'].apply(lambda x: round(x))"
      ],
      "metadata": {
        "id": "wr1kBIc6-o_w",
        "colab": {
          "base_uri": "https://localhost:8080/"
        },
        "outputId": "4c846afe-8ae5-404e-bc5c-9f6d22468c1b"
      },
      "execution_count": null,
      "outputs": [
        {
          "output_type": "execute_result",
          "data": {
            "text/plain": [
              "0        480\n",
              "1        640\n",
              "2        780\n",
              "3        580\n",
              "4        300\n",
              "        ... \n",
              "64683    540\n",
              "64684    580\n",
              "64685    720\n",
              "64686    620\n",
              "64687    540\n",
              "Name: NU_NOTA_REDACAO, Length: 64688, dtype: int64"
            ]
          },
          "metadata": {},
          "execution_count": 43
        }
      ]
    },
    {
      "cell_type": "markdown",
      "source": [
        "Divida todos os valores da coluna 'NU_NOTA_REDACAO' por 2"
      ],
      "metadata": {
        "id": "Wrt7q8WaC15F"
      }
    },
    {
      "cell_type": "code",
      "source": [
        "df['NU_NOTA_REDACAO'].apply(lambda x: (x / 2))"
      ],
      "metadata": {
        "id": "RCIC6SMvDX-E",
        "colab": {
          "base_uri": "https://localhost:8080/"
        },
        "outputId": "48d48ca0-eaee-425d-bf51-239ca5452f1d"
      },
      "execution_count": null,
      "outputs": [
        {
          "output_type": "execute_result",
          "data": {
            "text/plain": [
              "0        240.0\n",
              "1        320.0\n",
              "2        390.0\n",
              "3        290.0\n",
              "4        150.0\n",
              "         ...  \n",
              "64683    270.0\n",
              "64684    290.0\n",
              "64685    360.0\n",
              "64686    310.0\n",
              "64687    270.0\n",
              "Name: NU_NOTA_REDACAO, Length: 64688, dtype: float64"
            ]
          },
          "metadata": {},
          "execution_count": 45
        }
      ]
    },
    {
      "cell_type": "markdown",
      "source": [
        "# Desafio!"
      ],
      "metadata": {
        "id": "j_fmR_ptYYwb"
      }
    },
    {
      "cell_type": "markdown",
      "source": [
        "Crie um sistema de alocação de arquivos, nesse sistema deve ser possivel alocar por um determinado periodo.\n",
        "\n",
        "Implementar:\n",
        "* Criação de recursos\n",
        "* Atualização \n",
        "* Remoção de recursos \n",
        "* Alocação de recursos\n",
        "\n",
        "Obs: é obrigatório o uso de classes e não é necessário o uso de interface gráfica"
      ],
      "metadata": {
        "id": "Prmq5jufYbmT"
      }
    },
    {
      "cell_type": "code",
      "source": [
        "class Arquivo:\n",
        "\n",
        "  def __init__(self, nome, extensao = 'txt'):\n",
        "    self.__nome = nome\n",
        "    self.__extensao = '.'+extensao\n",
        "\n",
        "  @property\n",
        "  def nome(self):\n",
        "    return self.__nome\n",
        "  \n",
        "  @nome.setter\n",
        "  def nome(self, new_name):\n",
        "    self.__nome = new_name\n",
        "\n",
        "  @property\n",
        "  def extensao(self):\n",
        "    return self.__extensao\n",
        "  \n",
        "  @extensao.setter\n",
        "  def extensao(self, new_extension):\n",
        "    self.__extension = '.'+new_extension\n",
        "\n",
        "  def __str__(self):\n",
        "    return f'arquivo: {self.nome}{self.extensao}'\n",
        "\n",
        "arquivo1 = Arquivo('arquivo','pdf')\n",
        "arquivo1.nome = 'sh'\n",
        "print(arquivo1)"
      ],
      "metadata": {
        "id": "2ta81A2KbQwF",
        "colab": {
          "base_uri": "https://localhost:8080/"
        },
        "outputId": "0dceaa99-fd22-4f6c-e14f-c47696e178e6"
      },
      "execution_count": null,
      "outputs": [
        {
          "output_type": "stream",
          "name": "stdout",
          "text": [
            "arquivo: sh.pdf\n"
          ]
        }
      ]
    }
  ]
}